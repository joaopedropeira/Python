{
  "nbformat": 4,
  "nbformat_minor": 0,
  "metadata": {
    "colab": {
      "name": "Scientific_Computing_Python-2.ipynb",
      "provenance": [],
      "authorship_tag": "ABX9TyMjQQR1F+BCtPtaCaaa67zZ",
      "include_colab_link": true
    },
    "kernelspec": {
      "name": "python3",
      "display_name": "Python 3"
    },
    "language_info": {
      "name": "python"
    }
  },
  "cells": [
    {
      "cell_type": "markdown",
      "metadata": {
        "id": "view-in-github",
        "colab_type": "text"
      },
      "source": [
        "<a href=\"https://colab.research.google.com/github/joaopedropeira/Python/blob/main/Scientific_Computing_Python_2.ipynb\" target=\"_parent\"><img src=\"https://colab.research.google.com/assets/colab-badge.svg\" alt=\"Open In Colab\"/></a>"
      ]
    },
    {
      "cell_type": "markdown",
      "source": [
        "## Strings\n",
        "\n",
        "String Data Type\n",
        "\n",
        "* A string is a sequence of characters\n",
        "\n",
        "* For strings, + means \"concatenate\"\n",
        "\n",
        "* When a string contains numbers, it is still a string\n",
        "\n",
        "* We can convert numbers in a string into a number using int()"
      ],
      "metadata": {
        "id": "kM46BKq0KA-A"
      }
    },
    {
      "cell_type": "code",
      "source": [
        "str1 = 'Hello'\n",
        "str2 = 'World'\n",
        "str3 = str1 + str2\n",
        "print(str3)"
      ],
      "metadata": {
        "colab": {
          "base_uri": "https://localhost:8080/"
        },
        "id": "nf0rZExrPW0K",
        "outputId": "a2f5e0a8-766b-4108-d374-226258681c46"
      },
      "execution_count": 2,
      "outputs": [
        {
          "output_type": "stream",
          "name": "stdout",
          "text": [
            "HelloWorld\n"
          ]
        }
      ]
    },
    {
      "cell_type": "code",
      "source": [
        "str3 = '123'\n",
        "\n",
        "x = int(str3) + 1\n",
        "print(x)"
      ],
      "metadata": {
        "colab": {
          "base_uri": "https://localhost:8080/"
        },
        "id": "KfwGfFUnWuQe",
        "outputId": "61a85a9f-7255-4cb4-cce2-c689e204c3e1"
      },
      "execution_count": 3,
      "outputs": [
        {
          "output_type": "stream",
          "name": "stdout",
          "text": [
            "124\n"
          ]
        }
      ]
    },
    {
      "cell_type": "markdown",
      "source": [
        "### Reading and Converting\n",
        "\n",
        "We prefer to read data in using strings and then parse and convert the data as we need\n",
        "\n",
        "This gives us more control over error situations and/or bad user input\n",
        "\n",
        "Raw input numbers must be converted from string"
      ],
      "metadata": {
        "id": "yEA9_euXXAdz"
      }
    },
    {
      "cell_type": "code",
      "source": [
        "name = input('Name:')\n",
        "print(name)"
      ],
      "metadata": {
        "colab": {
          "base_uri": "https://localhost:8080/"
        },
        "id": "lq6ibU76XdMF",
        "outputId": "26deebb9-ecae-4df4-c32f-ad78ca597533"
      },
      "execution_count": 4,
      "outputs": [
        {
          "output_type": "stream",
          "name": "stdout",
          "text": [
            "Name:Joao\n",
            "Joao\n"
          ]
        }
      ]
    },
    {
      "cell_type": "code",
      "source": [
        "sum = input('Number')\n",
        "x = int(sum) + 1\n",
        "print(x)"
      ],
      "metadata": {
        "colab": {
          "base_uri": "https://localhost:8080/"
        },
        "id": "2ni0Lhf5Xh-2",
        "outputId": "ab49c67e-0390-4629-bcc5-ffc0dbd585b2"
      },
      "execution_count": 7,
      "outputs": [
        {
          "output_type": "stream",
          "name": "stdout",
          "text": [
            "Number10\n",
            "11\n"
          ]
        }
      ]
    },
    {
      "cell_type": "markdown",
      "source": [
        "### Looking Inside Strings\n",
        "\n",
        "We can get any single character in a string using an index specified in **square brackets**\n",
        "\n",
        "The index value must be an integer and starts at 0\n",
        "\n",
        "The index value can be an expression that is computed\n",
        "\n",
        "For example:<br>\n",
        "b a n a n a <br>\n",
        "0 1 2 3 4 5"
      ],
      "metadata": {
        "id": "lGSmpqG2X3F1"
      }
    },
    {
      "cell_type": "code",
      "source": [
        "fruit = 'banana'\n",
        "letter = fruit[1]\n",
        "print(letter)"
      ],
      "metadata": {
        "colab": {
          "base_uri": "https://localhost:8080/"
        },
        "id": "CBKzgdUYYRE_",
        "outputId": "6e3df99e-1cb2-4e13-b6ff-cd7616a29bb2"
      },
      "execution_count": 8,
      "outputs": [
        {
          "output_type": "stream",
          "name": "stdout",
          "text": [
            "a\n"
          ]
        }
      ]
    },
    {
      "cell_type": "code",
      "source": [
        "x = 3\n",
        "w = fruit[x - 1]\n",
        "print(w)"
      ],
      "metadata": {
        "colab": {
          "base_uri": "https://localhost:8080/"
        },
        "id": "C9M2egwRYRdP",
        "outputId": "669eacf0-1094-4c84-9427-ac2fa01326fa"
      },
      "execution_count": 9,
      "outputs": [
        {
          "output_type": "stream",
          "name": "stdout",
          "text": [
            "n\n"
          ]
        }
      ]
    },
    {
      "cell_type": "markdown",
      "source": [
        "### A Character Too Far\n",
        "\n",
        "You will get a **python error** if you attempt to index beyond the end of a string\n",
        "\n",
        "Be careful when constructing index values and slices"
      ],
      "metadata": {
        "id": "ZjgLUrevaANA"
      }
    },
    {
      "cell_type": "code",
      "source": [
        "error = 'abc'\n",
        "print(error[5])"
      ],
      "metadata": {
        "colab": {
          "base_uri": "https://localhost:8080/",
          "height": 183
        },
        "id": "ujJrZ3zwaOMV",
        "outputId": "1054a67b-409b-4d6e-82f3-0d5d5d327f1f"
      },
      "execution_count": 10,
      "outputs": [
        {
          "output_type": "error",
          "ename": "IndexError",
          "evalue": "ignored",
          "traceback": [
            "\u001b[0;31m---------------------------------------------------------------------------\u001b[0m",
            "\u001b[0;31mIndexError\u001b[0m                                Traceback (most recent call last)",
            "\u001b[0;32m<ipython-input-10-efa1d50d93ab>\u001b[0m in \u001b[0;36m<module>\u001b[0;34m()\u001b[0m\n\u001b[1;32m      1\u001b[0m \u001b[0merror\u001b[0m \u001b[0;34m=\u001b[0m \u001b[0;34m'abc'\u001b[0m\u001b[0;34m\u001b[0m\u001b[0;34m\u001b[0m\u001b[0m\n\u001b[0;32m----> 2\u001b[0;31m \u001b[0mprint\u001b[0m\u001b[0;34m(\u001b[0m\u001b[0merror\u001b[0m\u001b[0;34m[\u001b[0m\u001b[0;36m5\u001b[0m\u001b[0;34m]\u001b[0m\u001b[0;34m)\u001b[0m\u001b[0;34m\u001b[0m\u001b[0;34m\u001b[0m\u001b[0m\n\u001b[0m",
            "\u001b[0;31mIndexError\u001b[0m: string index out of range"
          ]
        }
      ]
    },
    {
      "cell_type": "markdown",
      "source": [
        "### Strings Have Length\n",
        "\n",
        "The built-in function **len** give us the length of a string, NOT the position"
      ],
      "metadata": {
        "id": "yzSE5q0raYh4"
      }
    },
    {
      "cell_type": "code",
      "source": [
        "fruit = 'banana'\n",
        "print(len(fruit))"
      ],
      "metadata": {
        "colab": {
          "base_uri": "https://localhost:8080/"
        },
        "id": "hKbAZKj_ahtO",
        "outputId": "9604110d-2521-4ebd-c68d-e7ff6e4eeb29"
      },
      "execution_count": 11,
      "outputs": [
        {
          "output_type": "stream",
          "name": "stdout",
          "text": [
            "6\n"
          ]
        }
      ]
    },
    {
      "cell_type": "markdown",
      "source": [
        "### Looping Through Strings\n",
        "\n",
        "Using a **while** statement and an **iteration variable** and the **len** function, we can construct a loop to look at each of the letters in a string individually"
      ],
      "metadata": {
        "id": "tH5a7Mgga5I7"
      }
    },
    {
      "cell_type": "code",
      "source": [
        "fruit = 'banana'\n",
        "index = 0\n",
        "\n",
        "while index < len(fruit):\n",
        "    letter = fruit[index]\n",
        "    print(index, letter)\n",
        "    index = index + 1"
      ],
      "metadata": {
        "colab": {
          "base_uri": "https://localhost:8080/"
        },
        "id": "KNPSFPSBbKku",
        "outputId": "2611c293-002d-4816-cb24-f7b55020947d"
      },
      "execution_count": 13,
      "outputs": [
        {
          "output_type": "stream",
          "name": "stdout",
          "text": [
            "0 b\n",
            "1 a\n",
            "2 n\n",
            "3 a\n",
            "4 n\n",
            "5 a\n"
          ]
        }
      ]
    },
    {
      "cell_type": "markdown",
      "source": [
        "### Looping Through Strings - for\n",
        "\n",
        "A define loop using a **for** statement is much more elegant\n",
        "\n",
        "The **iteration variable** is completely taken care of by the for loop"
      ],
      "metadata": {
        "id": "QTH2ye3ocCvy"
      }
    },
    {
      "cell_type": "code",
      "source": [
        "fruit = 'apple'\n",
        "for letter in fruit:\n",
        "    print(letter)"
      ],
      "metadata": {
        "colab": {
          "base_uri": "https://localhost:8080/"
        },
        "id": "km5QARo0cR_k",
        "outputId": "79996391-7de3-496a-cc41-b9ae429b6ca4"
      },
      "execution_count": 19,
      "outputs": [
        {
          "output_type": "stream",
          "name": "stdout",
          "text": [
            "a\n",
            "p\n",
            "p\n",
            "l\n",
            "e\n"
          ]
        }
      ]
    },
    {
      "cell_type": "code",
      "source": [
        "for n in \"banana\":\n",
        "    print(n)"
      ],
      "metadata": {
        "colab": {
          "base_uri": "https://localhost:8080/"
        },
        "id": "7aEjyRyocYny",
        "outputId": "c06bfa88-9e78-4143-faa5-52e934d88feb"
      },
      "execution_count": 20,
      "outputs": [
        {
          "output_type": "stream",
          "name": "stdout",
          "text": [
            "b\n",
            "a\n",
            "n\n",
            "a\n",
            "n\n",
            "a\n"
          ]
        }
      ]
    },
    {
      "cell_type": "markdown",
      "source": [
        "### Looping and Counting\n",
        "\n",
        "This is a simple loop that loops through each letter in a string and counts the number of times the loop encounters the *a* character"
      ],
      "metadata": {
        "id": "S43w4Y1pjvK-"
      }
    },
    {
      "cell_type": "code",
      "source": [
        "word = 'banana'\n",
        "count = 0\n",
        "\n",
        "for letter in word:\n",
        "    if letter == 'a':\n",
        "        count = count + 1\n",
        "print(count)"
      ],
      "metadata": {
        "colab": {
          "base_uri": "https://localhost:8080/"
        },
        "id": "IrCUBxJBq87q",
        "outputId": "f58b4db3-9b02-4cbe-f8bd-94c28b17746d"
      },
      "execution_count": 22,
      "outputs": [
        {
          "output_type": "stream",
          "name": "stdout",
          "text": [
            "3\n"
          ]
        }
      ]
    },
    {
      "cell_type": "markdown",
      "source": [
        "### Looking Deeper into In\n",
        "\n",
        "The **iteration variable** \"iterates\" through the sequence (ordered set)\n",
        "\n",
        "The block (body) of code is executed once for each value in the sequence\n",
        "\n",
        "The iteration variable moves through all of the values in the sequence"
      ],
      "metadata": {
        "id": "Qg1ewMJGrQoz"
      }
    },
    {
      "cell_type": "code",
      "source": [
        "#letter is the iteration variable and banana is a six-character string\n",
        "for letter in 'banana':\n",
        "    print(letter)"
      ],
      "metadata": {
        "colab": {
          "base_uri": "https://localhost:8080/"
        },
        "id": "QVAsBTyjsTwK",
        "outputId": "b829b2f3-cb88-4b42-fcc2-c90f0893fccb"
      },
      "execution_count": 23,
      "outputs": [
        {
          "output_type": "stream",
          "name": "stdout",
          "text": [
            "b\n",
            "a\n",
            "n\n",
            "a\n",
            "n\n",
            "a\n"
          ]
        }
      ]
    },
    {
      "cell_type": "code",
      "source": [
        ""
      ],
      "metadata": {
        "id": "anbr2nn8sb_K"
      },
      "execution_count": null,
      "outputs": []
    },
    {
      "cell_type": "markdown",
      "source": [
        "## Intermediate Strings\n",
        "\n",
        "### Slicing Strings\n",
        "\n",
        "* We can also look at any continuous section of a string using a **colon operator**\n",
        "\n",
        "* The second number is one beyond the end of the slice - up to but not including\n",
        "\n",
        "* If the second number is beyond the end of the string, it stops at the end\n",
        "\n",
        "For example:<br>\n",
        "M - o - n - t - y -  -  P - y - t - h - o - n <br>\n",
        "0 - 1 - 2 - 3 - 4 - 5 - 6 - 7 - 8 - 9 - 10 - 11"
      ],
      "metadata": {
        "id": "taJemVWGsxC9"
      }
    },
    {
      "cell_type": "code",
      "source": [
        "string = 'Monty Python'\n",
        "print(string[0:4])\n",
        "\n",
        "print(string[6:7])\n",
        "\n",
        "print(string[6:20])"
      ],
      "metadata": {
        "colab": {
          "base_uri": "https://localhost:8080/"
        },
        "id": "fFGzb3VqtGQ7",
        "outputId": "baf76ce3-01b0-4544-808e-37dad50c5764"
      },
      "execution_count": 24,
      "outputs": [
        {
          "output_type": "stream",
          "name": "stdout",
          "text": [
            "Mont\n",
            "P\n",
            "Python\n"
          ]
        }
      ]
    },
    {
      "cell_type": "code",
      "source": [
        ""
      ],
      "metadata": {
        "id": "ldS-QX7Mt_OE"
      },
      "execution_count": null,
      "outputs": []
    }
  ]
}