{
  "nbformat": 4,
  "nbformat_minor": 0,
  "metadata": {
    "colab": {
      "name": "Scientific_Computing_Python-2.ipynb",
      "provenance": [],
      "collapsed_sections": [
        "rDJarBpnP-xP"
      ],
      "authorship_tag": "ABX9TyNaUcD6jQdpS72pt1DvjdSC",
      "include_colab_link": true
    },
    "kernelspec": {
      "name": "python3",
      "display_name": "Python 3"
    },
    "language_info": {
      "name": "python"
    }
  },
  "cells": [
    {
      "cell_type": "markdown",
      "metadata": {
        "id": "view-in-github",
        "colab_type": "text"
      },
      "source": [
        "<a href=\"https://colab.research.google.com/github/joaopedropeira/Python/blob/main/Scientific_Computing_Python_2.ipynb\" target=\"_parent\"><img src=\"https://colab.research.google.com/assets/colab-badge.svg\" alt=\"Open In Colab\"/></a>"
      ]
    },
    {
      "cell_type": "markdown",
      "source": [
        "## Strings\n",
        "\n",
        "String Data Type\n",
        "\n",
        "* A string is a sequence of characters\n",
        "\n",
        "* For strings, + means \"concatenate\"\n",
        "\n",
        "* When a string contains numbers, it is still a string\n",
        "\n",
        "* We can convert numbers in a string into a number using int()"
      ],
      "metadata": {
        "id": "kM46BKq0KA-A"
      }
    },
    {
      "cell_type": "code",
      "source": [
        "str1 = 'Hello'\n",
        "str2 = 'World'\n",
        "str3 = str1 + str2\n",
        "print(str3)"
      ],
      "metadata": {
        "colab": {
          "base_uri": "https://localhost:8080/"
        },
        "id": "nf0rZExrPW0K",
        "outputId": "a2f5e0a8-766b-4108-d374-226258681c46"
      },
      "execution_count": null,
      "outputs": [
        {
          "output_type": "stream",
          "name": "stdout",
          "text": [
            "HelloWorld\n"
          ]
        }
      ]
    },
    {
      "cell_type": "code",
      "source": [
        "str3 = '123'\n",
        "\n",
        "x = int(str3) + 1\n",
        "print(x)"
      ],
      "metadata": {
        "colab": {
          "base_uri": "https://localhost:8080/"
        },
        "id": "KfwGfFUnWuQe",
        "outputId": "61a85a9f-7255-4cb4-cce2-c689e204c3e1"
      },
      "execution_count": null,
      "outputs": [
        {
          "output_type": "stream",
          "name": "stdout",
          "text": [
            "124\n"
          ]
        }
      ]
    },
    {
      "cell_type": "markdown",
      "source": [
        "### Reading and Converting\n",
        "\n",
        "We prefer to read data in using strings and then parse and convert the data as we need\n",
        "\n",
        "This gives us more control over error situations and/or bad user input\n",
        "\n",
        "Raw input numbers must be converted from string"
      ],
      "metadata": {
        "id": "yEA9_euXXAdz"
      }
    },
    {
      "cell_type": "code",
      "source": [
        "name = input('Name:')\n",
        "print(name)"
      ],
      "metadata": {
        "colab": {
          "base_uri": "https://localhost:8080/"
        },
        "id": "lq6ibU76XdMF",
        "outputId": "26deebb9-ecae-4df4-c32f-ad78ca597533"
      },
      "execution_count": null,
      "outputs": [
        {
          "output_type": "stream",
          "name": "stdout",
          "text": [
            "Name:Joao\n",
            "Joao\n"
          ]
        }
      ]
    },
    {
      "cell_type": "code",
      "source": [
        "sum = input('Number')\n",
        "x = int(sum) + 1\n",
        "print(x)"
      ],
      "metadata": {
        "colab": {
          "base_uri": "https://localhost:8080/"
        },
        "id": "2ni0Lhf5Xh-2",
        "outputId": "ab49c67e-0390-4629-bcc5-ffc0dbd585b2"
      },
      "execution_count": null,
      "outputs": [
        {
          "output_type": "stream",
          "name": "stdout",
          "text": [
            "Number10\n",
            "11\n"
          ]
        }
      ]
    },
    {
      "cell_type": "markdown",
      "source": [
        "### Looking Inside Strings\n",
        "\n",
        "We can get any single character in a string using an index specified in **square brackets**\n",
        "\n",
        "The index value must be an integer and starts at 0\n",
        "\n",
        "The index value can be an expression that is computed\n",
        "\n",
        "For example:<br>\n",
        "b a n a n a <br>\n",
        "0 1 2 3 4 5"
      ],
      "metadata": {
        "id": "lGSmpqG2X3F1"
      }
    },
    {
      "cell_type": "code",
      "source": [
        "fruit = 'banana'\n",
        "letter = fruit[1]\n",
        "print(letter)"
      ],
      "metadata": {
        "colab": {
          "base_uri": "https://localhost:8080/"
        },
        "id": "CBKzgdUYYRE_",
        "outputId": "6e3df99e-1cb2-4e13-b6ff-cd7616a29bb2"
      },
      "execution_count": null,
      "outputs": [
        {
          "output_type": "stream",
          "name": "stdout",
          "text": [
            "a\n"
          ]
        }
      ]
    },
    {
      "cell_type": "code",
      "source": [
        "x = 3\n",
        "w = fruit[x - 1]\n",
        "print(w)"
      ],
      "metadata": {
        "colab": {
          "base_uri": "https://localhost:8080/"
        },
        "id": "C9M2egwRYRdP",
        "outputId": "669eacf0-1094-4c84-9427-ac2fa01326fa"
      },
      "execution_count": null,
      "outputs": [
        {
          "output_type": "stream",
          "name": "stdout",
          "text": [
            "n\n"
          ]
        }
      ]
    },
    {
      "cell_type": "markdown",
      "source": [
        "### A Character Too Far\n",
        "\n",
        "You will get a **python error** if you attempt to index beyond the end of a string\n",
        "\n",
        "Be careful when constructing index values and slices"
      ],
      "metadata": {
        "id": "ZjgLUrevaANA"
      }
    },
    {
      "cell_type": "code",
      "source": [
        "error = 'abc'\n",
        "print(error[5])"
      ],
      "metadata": {
        "colab": {
          "base_uri": "https://localhost:8080/",
          "height": 183
        },
        "id": "ujJrZ3zwaOMV",
        "outputId": "1054a67b-409b-4d6e-82f3-0d5d5d327f1f"
      },
      "execution_count": null,
      "outputs": [
        {
          "output_type": "error",
          "ename": "IndexError",
          "evalue": "ignored",
          "traceback": [
            "\u001b[0;31m---------------------------------------------------------------------------\u001b[0m",
            "\u001b[0;31mIndexError\u001b[0m                                Traceback (most recent call last)",
            "\u001b[0;32m<ipython-input-10-efa1d50d93ab>\u001b[0m in \u001b[0;36m<module>\u001b[0;34m()\u001b[0m\n\u001b[1;32m      1\u001b[0m \u001b[0merror\u001b[0m \u001b[0;34m=\u001b[0m \u001b[0;34m'abc'\u001b[0m\u001b[0;34m\u001b[0m\u001b[0;34m\u001b[0m\u001b[0m\n\u001b[0;32m----> 2\u001b[0;31m \u001b[0mprint\u001b[0m\u001b[0;34m(\u001b[0m\u001b[0merror\u001b[0m\u001b[0;34m[\u001b[0m\u001b[0;36m5\u001b[0m\u001b[0;34m]\u001b[0m\u001b[0;34m)\u001b[0m\u001b[0;34m\u001b[0m\u001b[0;34m\u001b[0m\u001b[0m\n\u001b[0m",
            "\u001b[0;31mIndexError\u001b[0m: string index out of range"
          ]
        }
      ]
    },
    {
      "cell_type": "markdown",
      "source": [
        "### Strings Have Length\n",
        "\n",
        "The built-in function **len** give us the length of a string, NOT the position"
      ],
      "metadata": {
        "id": "yzSE5q0raYh4"
      }
    },
    {
      "cell_type": "code",
      "source": [
        "fruit = 'banana'\n",
        "print(len(fruit))"
      ],
      "metadata": {
        "colab": {
          "base_uri": "https://localhost:8080/"
        },
        "id": "hKbAZKj_ahtO",
        "outputId": "9604110d-2521-4ebd-c68d-e7ff6e4eeb29"
      },
      "execution_count": null,
      "outputs": [
        {
          "output_type": "stream",
          "name": "stdout",
          "text": [
            "6\n"
          ]
        }
      ]
    },
    {
      "cell_type": "markdown",
      "source": [
        "### Looping Through Strings\n",
        "\n",
        "Using a **while** statement and an **iteration variable** and the **len** function, we can construct a loop to look at each of the letters in a string individually"
      ],
      "metadata": {
        "id": "tH5a7Mgga5I7"
      }
    },
    {
      "cell_type": "code",
      "source": [
        "fruit = 'banana'\n",
        "index = 0\n",
        "\n",
        "while index < len(fruit):\n",
        "    letter = fruit[index]\n",
        "    print(index, letter)\n",
        "    index = index + 1"
      ],
      "metadata": {
        "colab": {
          "base_uri": "https://localhost:8080/"
        },
        "id": "KNPSFPSBbKku",
        "outputId": "2611c293-002d-4816-cb24-f7b55020947d"
      },
      "execution_count": null,
      "outputs": [
        {
          "output_type": "stream",
          "name": "stdout",
          "text": [
            "0 b\n",
            "1 a\n",
            "2 n\n",
            "3 a\n",
            "4 n\n",
            "5 a\n"
          ]
        }
      ]
    },
    {
      "cell_type": "markdown",
      "source": [
        "### Looping Through Strings - for\n",
        "\n",
        "A define loop using a **for** statement is much more elegant\n",
        "\n",
        "The **iteration variable** is completely taken care of by the for loop"
      ],
      "metadata": {
        "id": "QTH2ye3ocCvy"
      }
    },
    {
      "cell_type": "code",
      "source": [
        "fruit = 'apple'\n",
        "for letter in fruit:\n",
        "    print(letter)"
      ],
      "metadata": {
        "colab": {
          "base_uri": "https://localhost:8080/"
        },
        "id": "km5QARo0cR_k",
        "outputId": "79996391-7de3-496a-cc41-b9ae429b6ca4"
      },
      "execution_count": null,
      "outputs": [
        {
          "output_type": "stream",
          "name": "stdout",
          "text": [
            "a\n",
            "p\n",
            "p\n",
            "l\n",
            "e\n"
          ]
        }
      ]
    },
    {
      "cell_type": "code",
      "source": [
        "for n in \"banana\":\n",
        "    print(n)"
      ],
      "metadata": {
        "colab": {
          "base_uri": "https://localhost:8080/"
        },
        "id": "7aEjyRyocYny",
        "outputId": "c06bfa88-9e78-4143-faa5-52e934d88feb"
      },
      "execution_count": null,
      "outputs": [
        {
          "output_type": "stream",
          "name": "stdout",
          "text": [
            "b\n",
            "a\n",
            "n\n",
            "a\n",
            "n\n",
            "a\n"
          ]
        }
      ]
    },
    {
      "cell_type": "markdown",
      "source": [
        "### Looping and Counting\n",
        "\n",
        "This is a simple loop that loops through each letter in a string and counts the number of times the loop encounters the *a* character"
      ],
      "metadata": {
        "id": "S43w4Y1pjvK-"
      }
    },
    {
      "cell_type": "code",
      "source": [
        "word = 'banana'\n",
        "count = 0\n",
        "\n",
        "for letter in word:\n",
        "    if letter == 'a':\n",
        "        count = count + 1\n",
        "print(count)"
      ],
      "metadata": {
        "colab": {
          "base_uri": "https://localhost:8080/"
        },
        "id": "IrCUBxJBq87q",
        "outputId": "f58b4db3-9b02-4cbe-f8bd-94c28b17746d"
      },
      "execution_count": null,
      "outputs": [
        {
          "output_type": "stream",
          "name": "stdout",
          "text": [
            "3\n"
          ]
        }
      ]
    },
    {
      "cell_type": "markdown",
      "source": [
        "### Looking Deeper into In\n",
        "\n",
        "The **iteration variable** \"iterates\" through the sequence (ordered set)\n",
        "\n",
        "The block (body) of code is executed once for each value in the sequence\n",
        "\n",
        "The iteration variable moves through all of the values in the sequence"
      ],
      "metadata": {
        "id": "Qg1ewMJGrQoz"
      }
    },
    {
      "cell_type": "code",
      "source": [
        "#letter is the iteration variable and banana is a six-character string\n",
        "for letter in 'banana':\n",
        "    print(letter)"
      ],
      "metadata": {
        "colab": {
          "base_uri": "https://localhost:8080/"
        },
        "id": "QVAsBTyjsTwK",
        "outputId": "b829b2f3-cb88-4b42-fcc2-c90f0893fccb"
      },
      "execution_count": null,
      "outputs": [
        {
          "output_type": "stream",
          "name": "stdout",
          "text": [
            "b\n",
            "a\n",
            "n\n",
            "a\n",
            "n\n",
            "a\n"
          ]
        }
      ]
    },
    {
      "cell_type": "code",
      "source": [
        ""
      ],
      "metadata": {
        "id": "anbr2nn8sb_K"
      },
      "execution_count": null,
      "outputs": []
    },
    {
      "cell_type": "markdown",
      "source": [
        "## Intermediate Strings\n",
        "\n",
        "### Slicing Strings\n",
        "\n",
        "* We can also look at any continuous section of a string using a **colon operator**\n",
        "\n",
        "* The second number is one beyond the end of the slice - **up to but not including**\n",
        "\n",
        "* If the second number is beyond the end of the string, it stops at the end\n",
        "\n",
        "For example:<br>\n",
        "Monty|Python\n",
        "<br>\n",
        "M - o - n - t - y - | -  P - y - t - h - o - n <br>\n",
        "0 - 1 - 2 - 3 - 4 - 5 - 6 - 7 - 8 - 9 - 10 - 11"
      ],
      "metadata": {
        "id": "taJemVWGsxC9"
      }
    },
    {
      "cell_type": "code",
      "source": [
        "string = 'Monty|Python'\n",
        "#we don't include four\n",
        "print(string[0:4])\n",
        "\n",
        "#start at six up to but not including seven\n",
        "print(string[6:7])\n",
        "\n",
        "#here, the second number is beyond the end of the string, so it stops in the end (11)\n",
        "print(string[6:33])"
      ],
      "metadata": {
        "colab": {
          "base_uri": "https://localhost:8080/"
        },
        "id": "fFGzb3VqtGQ7",
        "outputId": "5cd3b54d-871c-4594-a645-f02ca8580163"
      },
      "execution_count": null,
      "outputs": [
        {
          "output_type": "stream",
          "name": "stdout",
          "text": [
            "Mont\n",
            "P\n",
            "Python\n"
          ]
        }
      ]
    },
    {
      "cell_type": "markdown",
      "source": [
        "\n",
        "\n",
        "* If we **leave off** the **first number** or the **last number** of the slice, it is assumed to be the beginning or end of the string respectively\n"
      ],
      "metadata": {
        "id": "az1qlvmyh03j"
      }
    },
    {
      "cell_type": "code",
      "source": [
        "string = 'Monty|Python'\n",
        "\n",
        "#beginning up to the 2 but not including\n",
        "print(string[:2])\n",
        "\n",
        "#8 to the end\n",
        "print(string[8:])\n",
        "\n",
        "#full string\n",
        "print(string[:])"
      ],
      "metadata": {
        "colab": {
          "base_uri": "https://localhost:8080/"
        },
        "id": "1wVC8Ud6hKlQ",
        "outputId": "d1054db2-e390-49f1-d8d6-69543a586681"
      },
      "execution_count": null,
      "outputs": [
        {
          "output_type": "stream",
          "name": "stdout",
          "text": [
            "Mo\n",
            "thon\n",
            "Monty|Python\n"
          ]
        }
      ]
    },
    {
      "cell_type": "markdown",
      "source": [
        "### String Concatenation\n",
        "\n",
        "* When the + operator is applied to strings, it means **concatenation**"
      ],
      "metadata": {
        "id": "nWc5d2UiihdC"
      }
    },
    {
      "cell_type": "code",
      "source": [
        "a = 'Hello'\n",
        "b = a + 'World'\n",
        "print(b)\n",
        "\n",
        "c = a + ' ' + 'World'\n",
        "print(c)"
      ],
      "metadata": {
        "colab": {
          "base_uri": "https://localhost:8080/"
        },
        "id": "XeqEsPz5iNjP",
        "outputId": "2c3f4587-8655-4400-b2f6-b32124c46e13"
      },
      "execution_count": null,
      "outputs": [
        {
          "output_type": "stream",
          "name": "stdout",
          "text": [
            "HelloWorld\n",
            "Hello World\n"
          ]
        }
      ]
    },
    {
      "cell_type": "markdown",
      "source": [
        "### Using **in** as a Logical Operator\n",
        "\n",
        "* The **in** keyword can also be used to check to see if one string is \"in\" another string\n",
        "\n",
        "* The **in** expression is a logical expression that returns **True** or **False** and can be used in an if statement"
      ],
      "metadata": {
        "id": "SHNvrCK-piXq"
      }
    },
    {
      "cell_type": "code",
      "source": [
        "fruit = 'banana'\n",
        "'n' in fruit"
      ],
      "metadata": {
        "colab": {
          "base_uri": "https://localhost:8080/"
        },
        "id": "J293DDBPjAzE",
        "outputId": "3e3628f9-39e0-4249-e7a7-75c266a6f914"
      },
      "execution_count": null,
      "outputs": [
        {
          "output_type": "execute_result",
          "data": {
            "text/plain": [
              "True"
            ]
          },
          "metadata": {},
          "execution_count": 8
        }
      ]
    },
    {
      "cell_type": "code",
      "source": [
        "'m' in fruit"
      ],
      "metadata": {
        "colab": {
          "base_uri": "https://localhost:8080/"
        },
        "id": "ZnQqw5-lqBj5",
        "outputId": "f28f1236-fab8-49ec-ef15-fac5d90d2fed"
      },
      "execution_count": null,
      "outputs": [
        {
          "output_type": "execute_result",
          "data": {
            "text/plain": [
              "False"
            ]
          },
          "metadata": {},
          "execution_count": 9
        }
      ]
    },
    {
      "cell_type": "code",
      "source": [
        "'nan' in fruit"
      ],
      "metadata": {
        "colab": {
          "base_uri": "https://localhost:8080/"
        },
        "id": "WzQCI5woqKPQ",
        "outputId": "1d35935d-0aff-4c94-dfbf-f5fe4d53dfca"
      },
      "execution_count": null,
      "outputs": [
        {
          "output_type": "execute_result",
          "data": {
            "text/plain": [
              "True"
            ]
          },
          "metadata": {},
          "execution_count": 10
        }
      ]
    },
    {
      "cell_type": "code",
      "source": [
        "if 'a' in fruit:\n",
        "    print('Found it!')"
      ],
      "metadata": {
        "colab": {
          "base_uri": "https://localhost:8080/"
        },
        "id": "B4NKv35IqMNv",
        "outputId": "9f34b264-778a-4d58-ac2c-65f79e6bcd44"
      },
      "execution_count": null,
      "outputs": [
        {
          "output_type": "stream",
          "name": "stdout",
          "text": [
            "Found it!\n"
          ]
        }
      ]
    },
    {
      "cell_type": "markdown",
      "source": [
        "### String Library\n",
        "\n",
        "* Python has a number of string **functions** which are in the **string library**\n",
        "\n",
        "* These **functions** are already **built into** every string - we invoke them by appending the function to the string variable\n",
        "\n",
        "* These **functions** do **not modify** the **original string**, instead they **return** a **new string** that has been altered\n",
        "\n",
        "For example: the function **.lower()**"
      ],
      "metadata": {
        "id": "H-g3s4tqq7B7"
      }
    },
    {
      "cell_type": "code",
      "source": [
        "example = 'Hello World!'\n",
        "lower_example = example.lower()\n",
        "print(lower_example)\n",
        "print(example)"
      ],
      "metadata": {
        "colab": {
          "base_uri": "https://localhost:8080/"
        },
        "id": "eAIGR2H6qNMK",
        "outputId": "b6c768a0-aa95-4d07-936e-66829ec1dafa"
      },
      "execution_count": null,
      "outputs": [
        {
          "output_type": "stream",
          "name": "stdout",
          "text": [
            "hello world!\n",
            "Hello World!\n"
          ]
        }
      ]
    },
    {
      "cell_type": "code",
      "source": [
        "print('HELLO WORLD!'.lower())"
      ],
      "metadata": {
        "colab": {
          "base_uri": "https://localhost:8080/"
        },
        "id": "uEwzmFeCryrZ",
        "outputId": "cb432746-e525-4067-db2e-abb084124046"
      },
      "execution_count": null,
      "outputs": [
        {
          "output_type": "stream",
          "name": "stdout",
          "text": [
            "hello world!\n"
          ]
        }
      ]
    },
    {
      "cell_type": "markdown",
      "source": [
        "### Searching a String\n",
        "\n",
        "* We use the **find()** function to search for a substring within another string\n",
        "\n",
        "* **find()** finds the **first ocurrence** of the substring\n",
        "\n",
        "* If the substring is not found, **find()** returns -1\n",
        "\n",
        "* String position starts at 0<br>\n",
        "\n",
        "Example:<br>\n",
        "b a n a n a<br>\n",
        "0 1 2 3 4 5"
      ],
      "metadata": {
        "id": "C7hSdMh2si-i"
      }
    },
    {
      "cell_type": "code",
      "source": [
        "fruit = 'banana'\n",
        "searching = fruit.find('na')\n",
        "print(searching)"
      ],
      "metadata": {
        "colab": {
          "base_uri": "https://localhost:8080/"
        },
        "id": "HgdUuBTUr7LG",
        "outputId": "4e680eb0-e2af-4f7e-bf03-d01dce0aa8c2"
      },
      "execution_count": null,
      "outputs": [
        {
          "output_type": "stream",
          "name": "stdout",
          "text": [
            "2\n"
          ]
        }
      ]
    },
    {
      "cell_type": "code",
      "source": [
        "nosearching = fruit.find('z')\n",
        "print(nosearching)"
      ],
      "metadata": {
        "colab": {
          "base_uri": "https://localhost:8080/"
        },
        "id": "DuA3GFTYtH0M",
        "outputId": "ed23a49e-740d-4da2-8c00-0294a2402639"
      },
      "execution_count": null,
      "outputs": [
        {
          "output_type": "stream",
          "name": "stdout",
          "text": [
            "-1\n"
          ]
        }
      ]
    },
    {
      "cell_type": "markdown",
      "source": [
        "### Making everything **UPPER CASE**\n",
        "\n",
        "* We can make a copy of a string in **lower case** or **upper case**\n",
        "\n",
        "* Often when we are searching for a string using **find()** we first convert the string to lower case so we can search a string regardless of case"
      ],
      "metadata": {
        "id": "UlmW9iaythfO"
      }
    },
    {
      "cell_type": "code",
      "source": [
        "example = 'Hello World!'\n",
        "example_upper = example.upper()\n",
        "print(example_upper)"
      ],
      "metadata": {
        "colab": {
          "base_uri": "https://localhost:8080/"
        },
        "id": "YPMNZ7QBtTtH",
        "outputId": "a40fe3ac-4137-4798-9a3c-15986e6134f8"
      },
      "execution_count": null,
      "outputs": [
        {
          "output_type": "stream",
          "name": "stdout",
          "text": [
            "HELLO WORLD!\n"
          ]
        }
      ]
    },
    {
      "cell_type": "code",
      "source": [
        "example_lower = example.lower()\n",
        "print(example_lower)"
      ],
      "metadata": {
        "colab": {
          "base_uri": "https://localhost:8080/"
        },
        "id": "sAIorXRYuABu",
        "outputId": "f85aec61-1ec2-4743-8ef7-1152b52eabf4"
      },
      "execution_count": null,
      "outputs": [
        {
          "output_type": "stream",
          "name": "stdout",
          "text": [
            "hello world!\n"
          ]
        }
      ]
    },
    {
      "cell_type": "code",
      "source": [
        "#using lower case + find\n",
        "example2 = 'Hello World! My favorite fruit is Banana!'\n",
        "searching = example2.find('world')\n",
        "print(searching)"
      ],
      "metadata": {
        "colab": {
          "base_uri": "https://localhost:8080/"
        },
        "id": "uHeyFyo3uESh",
        "outputId": "dcb13b77-77bb-43d3-e171-1f1c34d4a009"
      },
      "execution_count": null,
      "outputs": [
        {
          "output_type": "stream",
          "name": "stdout",
          "text": [
            "-1\n"
          ]
        }
      ]
    },
    {
      "cell_type": "code",
      "source": [
        "#using lower case + find\n",
        "example2 = 'Hello World! My favorite fruit is Banana!'.lower()\n",
        "searching = example2.find('world')\n",
        "print(searching)"
      ],
      "metadata": {
        "colab": {
          "base_uri": "https://localhost:8080/"
        },
        "id": "_KV3e2YkubRr",
        "outputId": "c4223a56-2974-40c4-fbd3-5f1be3180462"
      },
      "execution_count": null,
      "outputs": [
        {
          "output_type": "stream",
          "name": "stdout",
          "text": [
            "6\n"
          ]
        }
      ]
    },
    {
      "cell_type": "markdown",
      "source": [
        "### Search and Replace\n",
        "\n",
        "* The **replace()** function is like a \"search and replace\" operation in a word processor\n",
        "\n",
        "* It replaces **all occurrences** of the **search string** with the **replacement string**"
      ],
      "metadata": {
        "id": "BH4MyBJNuts8"
      }
    },
    {
      "cell_type": "code",
      "source": [
        "example_search = 'Hello World! I really like my World!'\n",
        "example_replace = example_search.replace('World', 'Moon')\n",
        "print(example_replace)"
      ],
      "metadata": {
        "colab": {
          "base_uri": "https://localhost:8080/"
        },
        "id": "FbdasNEDulMM",
        "outputId": "b6bc04f6-64d1-48b1-af16-a7a957f8201d"
      },
      "execution_count": null,
      "outputs": [
        {
          "output_type": "stream",
          "name": "stdout",
          "text": [
            "Hello Moon! I really like my Moon!\n"
          ]
        }
      ]
    },
    {
      "cell_type": "markdown",
      "source": [
        "### Stripping Whitespace\n",
        "\n",
        "* Sometimes we want to take a string and remove whitespace at the beginning and/or end\n",
        "\n",
        "* **lstrip()** and **rstrip()** remove whitespace at the left or right\n",
        "\n",
        "* **strip()** removes both beginning and ending whitespace"
      ],
      "metadata": {
        "id": "GwHIFMTtvarM"
      }
    },
    {
      "cell_type": "code",
      "source": [
        "example_lstrip = '  Hello World  '\n",
        "example_lstrip.lstrip()"
      ],
      "metadata": {
        "colab": {
          "base_uri": "https://localhost:8080/",
          "height": 35
        },
        "id": "b6x4V-gfvKLS",
        "outputId": "244be839-7045-48c6-aad2-fb17f319ce0d"
      },
      "execution_count": null,
      "outputs": [
        {
          "output_type": "execute_result",
          "data": {
            "text/plain": [
              "'Hello World  '"
            ],
            "application/vnd.google.colaboratory.intrinsic+json": {
              "type": "string"
            }
          },
          "metadata": {},
          "execution_count": 31
        }
      ]
    },
    {
      "cell_type": "code",
      "source": [
        "example_strip = '  Hello World  '\n",
        "example_strip.strip()"
      ],
      "metadata": {
        "colab": {
          "base_uri": "https://localhost:8080/",
          "height": 35
        },
        "id": "7f8gjldAwOgQ",
        "outputId": "3aa7eb0b-f3a0-4265-d358-76dad807b0d5"
      },
      "execution_count": null,
      "outputs": [
        {
          "output_type": "execute_result",
          "data": {
            "text/plain": [
              "'Hello World'"
            ],
            "application/vnd.google.colaboratory.intrinsic+json": {
              "type": "string"
            }
          },
          "metadata": {},
          "execution_count": 30
        }
      ]
    },
    {
      "cell_type": "markdown",
      "source": [
        "### Prefixes\n",
        "\n",
        "* We can ask \"Hey, does this line start with a particular string\"?\n",
        "\n",
        "* The **startswith()** will answer us"
      ],
      "metadata": {
        "id": "H-KbC1rrxDjw"
      }
    },
    {
      "cell_type": "code",
      "source": [
        "line = 'Please have a nice day!'\n",
        "line.startswith('Please')"
      ],
      "metadata": {
        "colab": {
          "base_uri": "https://localhost:8080/"
        },
        "id": "j8KYUmtbwUqc",
        "outputId": "bd59827b-f763-4e63-def8-c09f905552e0"
      },
      "execution_count": null,
      "outputs": [
        {
          "output_type": "execute_result",
          "data": {
            "text/plain": [
              "True"
            ]
          },
          "metadata": {},
          "execution_count": 33
        }
      ]
    },
    {
      "cell_type": "code",
      "source": [
        "line.startswith('p')"
      ],
      "metadata": {
        "colab": {
          "base_uri": "https://localhost:8080/"
        },
        "id": "bwSfUToTyl1m",
        "outputId": "0e5cb8e7-78bf-4f35-b153-946834f83844"
      },
      "execution_count": null,
      "outputs": [
        {
          "output_type": "execute_result",
          "data": {
            "text/plain": [
              "False"
            ]
          },
          "metadata": {},
          "execution_count": 34
        }
      ]
    },
    {
      "cell_type": "code",
      "source": [
        "line.startswith('P')"
      ],
      "metadata": {
        "colab": {
          "base_uri": "https://localhost:8080/"
        },
        "id": "QW7t2AYnyoM_",
        "outputId": "cdc4e797-f957-47e2-8068-74120140623b"
      },
      "execution_count": null,
      "outputs": [
        {
          "output_type": "execute_result",
          "data": {
            "text/plain": [
              "True"
            ]
          },
          "metadata": {},
          "execution_count": 35
        }
      ]
    },
    {
      "cell_type": "markdown",
      "source": [
        "### Parsing and Extracting\n",
        "\n",
        "* In this example we want to know from which email (gmail, hotmail) the email was sent"
      ],
      "metadata": {
        "id": "10_PSLDX0tOC"
      }
    },
    {
      "cell_type": "code",
      "source": [
        "#searching for the @\n",
        "email_from = 'From joaopedromarques76@gmail.com Sat Jan 5 10:30:52 2022'\n",
        "atpos = email_from.find('@')\n",
        "print (atpos)"
      ],
      "metadata": {
        "colab": {
          "base_uri": "https://localhost:8080/"
        },
        "id": "rygvQWzvyp-l",
        "outputId": "4f9f07a2-3afe-4dc0-a442-04f4ad0ed604"
      },
      "execution_count": null,
      "outputs": [
        {
          "output_type": "stream",
          "name": "stdout",
          "text": [
            "23\n"
          ]
        }
      ]
    },
    {
      "cell_type": "code",
      "source": [
        "#now we're gonna look for whitespace after the '@'\n",
        "sppos = email_from.find(' ',atpos)\n",
        "print(sppos)"
      ],
      "metadata": {
        "colab": {
          "base_uri": "https://localhost:8080/"
        },
        "id": "c7BoAUiRJu3X",
        "outputId": "5214e393-27b4-4b17-f0a0-3a24be1ebf41"
      },
      "execution_count": null,
      "outputs": [
        {
          "output_type": "stream",
          "name": "stdout",
          "text": [
            "33\n"
          ]
        }
      ]
    },
    {
      "cell_type": "code",
      "source": [
        "#now we have in two variables the position of '@' (atpos) and the position of the space after the '@' (sppos)\n",
        "host = email_from[atpos+1 : sppos]\n",
        "print(host)"
      ],
      "metadata": {
        "colab": {
          "base_uri": "https://localhost:8080/"
        },
        "id": "q81BopGnLXXG",
        "outputId": "0a694d9b-9ac1-4226-ab00-560a0aed2431"
      },
      "execution_count": null,
      "outputs": [
        {
          "output_type": "stream",
          "name": "stdout",
          "text": [
            "gmail.com\n"
          ]
        }
      ]
    },
    {
      "cell_type": "markdown",
      "source": [
        "## Reading Files\n",
        "\n",
        "### File Processing\n",
        "\n",
        "* A text file can be thought of as a sequence of lines\n",
        "\n",
        "<br>\n",
        "\n",
        "### Opening a File\n",
        "\n",
        "* Before we can read the contents of the file, we must tell Python **which file** we are going to work with and **what** we will be **doing with the file**\n",
        "\n",
        "* This is done with the **open()** function\n",
        "\n",
        "* **open()** returns a **\"file handle\"** - a variable to perform operations on the file\n",
        "\n",
        "* Similiar to \"File -> Open\" in a Word Processor"
      ],
      "metadata": {
        "id": "rDJarBpnP-xP"
      }
    },
    {
      "cell_type": "markdown",
      "source": [
        "### Using open()\n",
        "\n",
        "* handle = open(filename, mode)\n",
        "\n",
        "* returns a handle use to manipulate the file\n",
        "\n",
        "* filename is a string\n",
        "\n",
        "* **mode** is **optional** and should be **'r'** if we are planning to **read** the file and **'w'** if we are going to **write** to the file"
      ],
      "metadata": {
        "id": "zRg_s0pARknl"
      }
    },
    {
      "cell_type": "markdown",
      "source": [
        "### The newline Character\n",
        "\n",
        "* We use a special character called the **newline** to indicate when a line ends\n",
        "\n",
        "* We represent it as **\\n** in strings\n",
        "\n",
        "* **Newline** is still one character - not two"
      ],
      "metadata": {
        "id": "anJEYrIjTsPQ"
      }
    },
    {
      "cell_type": "code",
      "source": [
        "example = 'Hello\\nWorld!'\n",
        "print(example)"
      ],
      "metadata": {
        "colab": {
          "base_uri": "https://localhost:8080/"
        },
        "id": "hKNlK6ADSNir",
        "outputId": "140d8608-fa71-46b5-d142-119ecf3f1104"
      },
      "execution_count": null,
      "outputs": [
        {
          "output_type": "stream",
          "name": "stdout",
          "text": [
            "Hello\n",
            "World!\n"
          ]
        }
      ]
    },
    {
      "cell_type": "code",
      "source": [
        "example2 = 'X\\n+\\nY'\n",
        "print(example2)\n",
        "len(example2)"
      ],
      "metadata": {
        "colab": {
          "base_uri": "https://localhost:8080/"
        },
        "id": "6UUEfJInUEZS",
        "outputId": "01d7b2b6-f6da-4fed-cd11-e2ebd8476a01"
      },
      "execution_count": null,
      "outputs": [
        {
          "output_type": "stream",
          "name": "stdout",
          "text": [
            "X\n",
            "+\n",
            "Y\n"
          ]
        },
        {
          "output_type": "execute_result",
          "data": {
            "text/plain": [
              "5"
            ]
          },
          "metadata": {},
          "execution_count": 49
        }
      ]
    },
    {
      "cell_type": "markdown",
      "source": [
        "## Files as a Sequence\n",
        "\n",
        "### File Handle as a Sequence\n",
        "\n",
        "* A **file handle** open for read can be treated as a **sequence of strings** where each line in the file is a string in the sequence\n",
        "\n",
        "* We can use the **for** statement to iterate through a sequence\n",
        "\n",
        "* A sequence is a **ordered set**"
      ],
      "metadata": {
        "id": "_Pt_TvbHVHJ4"
      }
    },
    {
      "cell_type": "code",
      "source": [
        "#connecting to google drive\n",
        "from google.colab import drive\n",
        "drive.mount('/content/drive')"
      ],
      "metadata": {
        "colab": {
          "base_uri": "https://localhost:8080/"
        },
        "id": "kT4BPkVKUPPa",
        "outputId": "d90a4af0-bb07-43a3-fe76-a641b347f397"
      },
      "execution_count": null,
      "outputs": [
        {
          "output_type": "stream",
          "name": "stdout",
          "text": [
            "Drive already mounted at /content/drive; to attempt to forcibly remount, call drive.mount(\"/content/drive\", force_remount=True).\n"
          ]
        }
      ]
    },
    {
      "cell_type": "code",
      "source": [
        "#openening a test.txt file\n",
        "xfile = open('/content/drive/MyDrive/Colab Notebooks/test.txt')\n",
        "for cheese in xfile:\n",
        "    print('cheese')"
      ],
      "metadata": {
        "id": "_Vn7kQ9_WhoZ",
        "colab": {
          "base_uri": "https://localhost:8080/"
        },
        "outputId": "98608844-8c38-4950-f311-1e06a637d1fb"
      },
      "execution_count": null,
      "outputs": [
        {
          "output_type": "stream",
          "name": "stdout",
          "text": [
            "cheese\n",
            "cheese\n"
          ]
        }
      ]
    },
    {
      "cell_type": "markdown",
      "source": [
        "### Counting Lines in a File\n",
        "\n",
        "* Open a **file** read-only\n",
        "\n",
        "* Use a **for** loop to read each line\n",
        "\n",
        "* **Count** the lines and print out the number of lines"
      ],
      "metadata": {
        "id": "mTTJl3YoV8-V"
      }
    },
    {
      "cell_type": "code",
      "source": [
        "xfile = open('/content/drive/MyDrive/Colab Notebooks/test.txt')\n",
        "count = 0\n",
        "\n",
        "for line in xfile:\n",
        "    count = count + 1\n",
        "print('Line count', count)"
      ],
      "metadata": {
        "id": "tqzXo-AaemSC",
        "colab": {
          "base_uri": "https://localhost:8080/"
        },
        "outputId": "44ff2d62-139f-45b3-ad68-bc548bb3b680"
      },
      "execution_count": null,
      "outputs": [
        {
          "output_type": "stream",
          "name": "stdout",
          "text": [
            "Line count 2\n"
          ]
        }
      ]
    },
    {
      "cell_type": "markdown",
      "source": [
        "### Reading the **Whole** File\n",
        "\n",
        "* We can **read** the whole file (newlines and all) into a single string"
      ],
      "metadata": {
        "id": "kY3pr91gXvii"
      }
    },
    {
      "cell_type": "code",
      "source": [
        "xfile = open('/content/drive/MyDrive/Colab Notebooks/test.txt')\n",
        "read_xfile = xfile.read()\n",
        "\n",
        "print(len(read_xfile))\n",
        "print(read_xfile[:])"
      ],
      "metadata": {
        "colab": {
          "base_uri": "https://localhost:8080/"
        },
        "id": "jZkbGzQ_Xevc",
        "outputId": "095bdc8b-7676-435d-94f7-680549dd7be5"
      },
      "execution_count": null,
      "outputs": [
        {
          "output_type": "stream",
          "name": "stdout",
          "text": [
            "19\n",
            "Hello World!\n",
            "cheese\n"
          ]
        }
      ]
    },
    {
      "cell_type": "markdown",
      "source": [
        "### Searching Through a File\n",
        "\n",
        "* We can put an **if** statement in our **for** loop to only print lines that meet some criteria"
      ],
      "metadata": {
        "id": "XZLOvpTmYcPP"
      }
    },
    {
      "cell_type": "code",
      "source": [
        "xfile = open('/content/drive/MyDrive/Colab Notebooks/test.txt')\n",
        "\n",
        "for line in xfile:\n",
        "    if line.startswith('Hello'):\n",
        "        print(line)"
      ],
      "metadata": {
        "colab": {
          "base_uri": "https://localhost:8080/"
        },
        "id": "qnSYayn7YTRc",
        "outputId": "595b31dc-0cfd-433d-b8a2-0e6d691526a1"
      },
      "execution_count": null,
      "outputs": [
        {
          "output_type": "stream",
          "name": "stdout",
          "text": [
            "Hello World!\n",
            "\n"
          ]
        }
      ]
    },
    {
      "cell_type": "markdown",
      "source": [
        "### Searching Through a File - without \"whitespaces\"\n",
        "\n",
        "* We can strip the whitespace from the right-hand side of the string using **rstrip()** from the string library\n",
        "\n",
        "* The newline is considered \"white space\" and is **stripped**"
      ],
      "metadata": {
        "id": "nqLXEl-paCdu"
      }
    },
    {
      "cell_type": "code",
      "source": [
        "xfile = open('/content/drive/MyDrive/Colab Notebooks/test.txt')\n",
        "\n",
        "for line in xfile:\n",
        "    line = line.rstrip()\n",
        "    if line.startswith('Hello'):\n",
        "        print(line)"
      ],
      "metadata": {
        "colab": {
          "base_uri": "https://localhost:8080/"
        },
        "id": "2q_kdGWIZ3lF",
        "outputId": "a73b58a7-0def-4f9a-ceec-f0917420780a"
      },
      "execution_count": null,
      "outputs": [
        {
          "output_type": "stream",
          "name": "stdout",
          "text": [
            "Hello World!\n"
          ]
        }
      ]
    },
    {
      "cell_type": "markdown",
      "source": [
        "### Skipping with continue\n",
        "\n",
        "* We can conveniently skip a line by using the **continue** statement\n",
        "\n",
        "* What does the statement **continue** in the middle of a loop?<br>\n",
        "Skips to the **next iteration** of the loop"
      ],
      "metadata": {
        "id": "7V8Nv_plbI6f"
      }
    },
    {
      "cell_type": "code",
      "source": [
        "# 'Translation': if the line does not start with 'Hello', continue. Basically we have a skipping pattern\n",
        "xfile = open('/content/drive/MyDrive/Colab Notebooks/test.txt')\n",
        "\n",
        "for line in xfile:\n",
        "    line = line.rstrip()\n",
        "    if not line.startswith('Hello'):\n",
        "        continue\n",
        "    print(line)"
      ],
      "metadata": {
        "colab": {
          "base_uri": "https://localhost:8080/"
        },
        "id": "d48yNTPAaXrB",
        "outputId": "319185c6-2eee-4e0e-9cc8-aa8d75a143c9"
      },
      "execution_count": null,
      "outputs": [
        {
          "output_type": "stream",
          "name": "stdout",
          "text": [
            "Hello World!\n"
          ]
        }
      ]
    },
    {
      "cell_type": "markdown",
      "source": [
        "### Using **in** to select lines\n",
        "\n",
        "* We can look for a string anywhere in a line as our selection criteria"
      ],
      "metadata": {
        "id": "K7hzTBhycZgC"
      }
    },
    {
      "cell_type": "code",
      "source": [
        "#Using the continue skipping method, we're gonna read the lines if 'Hello' is not in the line, skip it. This is gonna print out all the lines that have 'Hello' in them\n",
        "xfile = open('/content/drive/MyDrive/Colab Notebooks/test.txt')\n",
        "\n",
        "for line in xfile:\n",
        "    line = line.rstrip()\n",
        "    if not 'Hello' in line:\n",
        "        continue\n",
        "    print(line)"
      ],
      "metadata": {
        "colab": {
          "base_uri": "https://localhost:8080/"
        },
        "id": "KX0NOt3QbXE4",
        "outputId": "6eb8722d-1667-440f-d71e-51a40cde434a"
      },
      "execution_count": null,
      "outputs": [
        {
          "output_type": "stream",
          "name": "stdout",
          "text": [
            "Hello World!\n"
          ]
        }
      ]
    },
    {
      "cell_type": "markdown",
      "source": [
        "### Bad file Names\n",
        "\n",
        "* The 'dangerous' code is the line that open the files\n",
        "\n",
        "* This line is gonna trace back if that file doesn't exist"
      ],
      "metadata": {
        "id": "qXJq1nf_ewyy"
      }
    },
    {
      "cell_type": "code",
      "source": [
        "try:\n",
        "    xfile = open('/content/drive/MyDrive/Colab Notebooks/test1.txt')\n",
        "except:\n",
        "    print('File cant be opened', xfile)\n",
        "    quit()"
      ],
      "metadata": {
        "colab": {
          "base_uri": "https://localhost:8080/"
        },
        "id": "Y4eaVjBNd9k4",
        "outputId": "f8aeb9a9-62e7-4fb4-d9dd-382ce872fb83"
      },
      "execution_count": null,
      "outputs": [
        {
          "output_type": "stream",
          "name": "stdout",
          "text": [
            "File cant be opened <_io.TextIOWrapper name='/content/drive/MyDrive/Colab Notebooks/test.txt' mode='r' encoding='UTF-8'>\n"
          ]
        }
      ]
    },
    {
      "cell_type": "code",
      "source": [
        "try:\n",
        "    xfile = open('/content/drive/MyDrive/Colab Notebooks/test.txt')\n",
        "except:\n",
        "    print('File cant be opened', xfile)\n",
        "    quit()\n",
        "\n",
        "count = 0\n",
        "for line in xfile:\n",
        "    line = line.rstrip()\n",
        "    if line.startswith('Hello'):\n",
        "        count=count+1\n",
        "print('There were', count, 'Hello lines in', xfile )"
      ],
      "metadata": {
        "colab": {
          "base_uri": "https://localhost:8080/"
        },
        "id": "B9lhFamcggtX",
        "outputId": "00daffbc-afbf-499d-e0a2-0c909c3ba0be"
      },
      "execution_count": null,
      "outputs": [
        {
          "output_type": "stream",
          "name": "stdout",
          "text": [
            "There were 2 Hello lines in <_io.TextIOWrapper name='/content/drive/MyDrive/Colab Notebooks/test.txt' mode='r' encoding='UTF-8'>\n"
          ]
        }
      ]
    }
  ]
}