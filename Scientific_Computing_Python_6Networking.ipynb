{
  "nbformat": 4,
  "nbformat_minor": 0,
  "metadata": {
    "colab": {
      "name": "Scientific_Computing_Python-6Networking.ipynb",
      "provenance": [],
      "authorship_tag": "ABX9TyM0JYAA43Q6r/eIutCfquTk",
      "include_colab_link": true
    },
    "kernelspec": {
      "name": "python3",
      "display_name": "Python 3"
    },
    "language_info": {
      "name": "python"
    }
  },
  "cells": [
    {
      "cell_type": "markdown",
      "metadata": {
        "id": "view-in-github",
        "colab_type": "text"
      },
      "source": [
        "<a href=\"https://colab.research.google.com/github/joaopedropeira/Python/blob/main/Scientific_Computing_Python_6Networking.ipynb\" target=\"_parent\"><img src=\"https://colab.research.google.com/assets/colab-badge.svg\" alt=\"Open In Colab\"/></a>"
      ]
    },
    {
      "cell_type": "markdown",
      "source": [
        "## Networking With Python\n",
        "---\n",
        "\n",
        "### Transport Control Protocol (TCP)\n",
        "\n",
        "* Built on top of **IP** (Internet Protocol)\n",
        "\n",
        "* Assumes **IP might lose some data** - stores and retransmits data if it seems to be lost\n",
        "\n",
        "* Handles **\"flow control\"** using a transmit flow\n",
        "\n",
        "* Provides a nice reliable **pipe**"
      ],
      "metadata": {
        "id": "bZ_SWtYZpFCc"
      }
    },
    {
      "cell_type": "markdown",
      "source": [
        "### TCP Connections / **Sockets**\n",
        "\n",
        "* In computer networking, an **Internet Socket** or **Network Socket** is an **endpoint** of a **bidirectional inter-process communication flow** across an Internet Protocol-based computer network, such as the Internet"
      ],
      "metadata": {
        "id": "5G5pqxvGp-ZE"
      }
    },
    {
      "cell_type": "markdown",
      "source": [
        "### TCP Port Numbers\n",
        "\n",
        "* A port is an **application-specific** or process-specific software communications endpoint\n",
        "\n",
        "* It **allows** **multiple networked applications** to **coexist** on the **same server**"
      ],
      "metadata": {
        "id": "Bf4Vow7Qqgef"
      }
    },
    {
      "cell_type": "markdown",
      "source": [
        "### Common TCP Ports\n",
        "\n",
        "* Telnet (23) - Login\n",
        "* SSH (22) - Secure Login\n",
        "* HTTP (80)\n",
        "* HTTPS (443) - Secure\n",
        "* SMTP (25) - Mail\n",
        "* IMAP (143/220/993) - Mail Retrieval\n",
        "* POP (109/110) - Mail Retrieval\n",
        "* DNS (53) - Domain Name\n",
        "* FTP (21) - File Transfer\n"
      ],
      "metadata": {
        "id": "_ADMstaIrA7y"
      }
    },
    {
      "cell_type": "markdown",
      "source": [
        "### Sockets in Python\n",
        "\n",
        "* Python has built-in support for TCP Sockets\n"
      ],
      "metadata": {
        "id": "9BzVZIJBrmUd"
      }
    },
    {
      "cell_type": "code",
      "source": [
        "import socket\n",
        "mysock = socket.socket(socket.AF_INET, socket.SOCK_STREAM)\n",
        "mysock.connect(('data.pr4e.org',80))"
      ],
      "metadata": {
        "id": "_uuZTJNcp98L"
      },
      "execution_count": 2,
      "outputs": []
    },
    {
      "cell_type": "markdown",
      "source": [
        "## Networking Protocol\n",
        "---\n",
        "\n",
        "### Application Protocol\n",
        "\n",
        "* Since **TCP** (and Python) **gives us** a **reliable socket**, what do we want to do with the socket? What problem do we want to solve?\n",
        "\n",
        "\n",
        "\n",
        "*   Application Protocol\n",
        "  * Mail\n",
        "  * World Wide Web\n"
      ],
      "metadata": {
        "id": "AKCF7HC0sSd3"
      }
    },
    {
      "cell_type": "markdown",
      "source": [
        "### HTTP - Hypertext Transfer Protocol\n",
        "\n",
        "* The **dominant Application Layer Protocol** on the **Internet**\n",
        "\n",
        "* Invented for the Web - to **retrieve HTML, Images, Documents etc**\n",
        "\n",
        "* Extended to be data in addition to documents - RSS, Web Services etc... Basic Concept - Make a Connection - Request a document - Retrieve the Document - Close the connection"
      ],
      "metadata": {
        "id": "N6RaHRaSwOL5"
      }
    },
    {
      "cell_type": "markdown",
      "source": [
        "### Getting Data from the Server\n",
        "\n",
        "* Each the user clicks on an anchor tag with an **href= value** to switch to a new page, the **browser makes** a **connection** to the **web server** and issues a **\"GET\" request** - to GET the content of the page at the specified URL\n",
        "\n",
        "* The **server returns** the **HTML document** to the **Browser** which **formats and displays** the **document** to the user"
      ],
      "metadata": {
        "id": "uDd03pCpw6N-"
      }
    },
    {
      "cell_type": "markdown",
      "source": [
        "### Internet Standards\n",
        "\n",
        "* The standards for all of the Internet Protocols (inner workings) are developed by an organization\n",
        "\n",
        "* Internet Engineering Task Force (IETF)\n",
        "\n",
        "* Standards are called \"RFCs\" - Request for Comments"
      ],
      "metadata": {
        "id": "840A0vYFxnDz"
      }
    },
    {
      "cell_type": "code",
      "source": [
        ""
      ],
      "metadata": {
        "id": "xFdELE6QrthA"
      },
      "execution_count": 2,
      "outputs": []
    }
  ]
}