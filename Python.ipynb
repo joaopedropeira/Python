{
  "nbformat": 4,
  "nbformat_minor": 0,
  "metadata": {
    "colab": {
      "name": "Python.ipynb",
      "provenance": [],
      "collapsed_sections": [],
      "authorship_tag": "ABX9TyOPtcj/l6JaRIu5g0LZCTG5",
      "include_colab_link": true
    },
    "kernelspec": {
      "name": "python3",
      "display_name": "Python 3"
    },
    "language_info": {
      "name": "python"
    }
  },
  "cells": [
    {
      "cell_type": "markdown",
      "metadata": {
        "id": "view-in-github",
        "colab_type": "text"
      },
      "source": [
        "<a href=\"https://colab.research.google.com/github/joaopedropeira/Python/blob/main/Python.ipynb\" target=\"_parent\"><img src=\"https://colab.research.google.com/assets/colab-badge.svg\" alt=\"Open In Colab\"/></a>"
      ]
    },
    {
      "cell_type": "markdown",
      "source": [
        "# `Python - Introduction`\n",
        "\n",
        "**Objetctive**: Apresentar a biblioteca pandas, importação de dados, DataFrame e funções aritméticas.\n",
        "<br><br>\n",
        "\n",
        "---\n",
        "\n"
      ],
      "metadata": {
        "id": "zAjrQzDPyJoz"
      }
    },
    {
      "cell_type": "markdown",
      "source": [
        "## Numeric Types & Operators\n",
        "\n",
        "Python provides four basic types of numbers: \n",
        "* Plain integers\n",
        "* Long integers\n",
        "* Floating point numbers\n",
        "* Complex numbers.\n",
        "\n",
        "Numbers all have several things in common. Principally, the standard arithmetic operators of \"+\", \"-\", \"*\", \"/\", \"%\" and \"**\" are all available for all of these numeric types.<br><br>\n",
        "\n",
        "> Operators:\n",
        "\n",
        "<table>\n",
        "  <tr>\n",
        "    <th>Operator</th>\n",
        "    <th>Operation</th>\n",
        "  </tr>\n",
        "  <tr>\n",
        "    <td>+</td>\n",
        "    <td>Addition</td>\n",
        "  </tr>\n",
        "    <td>-</td>\n",
        "    <td>Subtraction</td>\n",
        "  </tr>\n",
        "  <tr>\n",
        "    <td>*</td>\n",
        "    <td>Multiplication</td>\n",
        "  </tr>\n",
        "  <tr>\n",
        "    <td>/</td>\n",
        "    <td>Division</td>\n",
        "  </tr>\n",
        "  <tr>\n",
        "    <td>**</td>\n",
        "    <td>Power</td>\n",
        "  </tr>\n",
        "  <tr>\n",
        "    <td>%</td>\n",
        "    <td>Remainder</td>\n",
        "  </tr>\n",
        "</table>"
      ],
      "metadata": {
        "id": "PpjyFDigG9Id"
      }
    },
    {
      "cell_type": "code",
      "source": [
        "print(1 + 1)\n",
        "print(8 - 4)\n",
        "print(2 * 5)\n",
        "print(10 / 2)\n",
        "print(2 ** 3)"
      ],
      "metadata": {
        "colab": {
          "base_uri": "https://localhost:8080/"
        },
        "id": "i4YFxy2rHD0k",
        "outputId": "4c90fb77-9efd-4f10-ad62-4dab27cece55"
      },
      "execution_count": null,
      "outputs": [
        {
          "output_type": "stream",
          "name": "stdout",
          "text": [
            "2\n",
            "4\n",
            "10\n",
            "5.0\n",
            "8\n"
          ]
        }
      ]
    },
    {
      "cell_type": "markdown",
      "source": [
        "a"
      ],
      "metadata": {
        "id": "JtUH1vRBUWzn"
      }
    },
    {
      "cell_type": "markdown",
      "source": [
        "## Chapter Two"
      ],
      "metadata": {
        "id": "u5pxNkpvFk3G"
      }
    }
  ]
}