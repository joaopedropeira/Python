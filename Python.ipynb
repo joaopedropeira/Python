{
  "nbformat": 4,
  "nbformat_minor": 0,
  "metadata": {
    "colab": {
      "name": "Python.ipynb",
      "provenance": [],
      "collapsed_sections": [],
      "authorship_tag": "ABX9TyPB6TRAzEdO4YGD32V/jBm0",
      "include_colab_link": true
    },
    "kernelspec": {
      "name": "python3",
      "display_name": "Python 3"
    },
    "language_info": {
      "name": "python"
    }
  },
  "cells": [
    {
      "cell_type": "markdown",
      "metadata": {
        "id": "view-in-github",
        "colab_type": "text"
      },
      "source": [
        "<a href=\"https://colab.research.google.com/github/joaopedropeira/Python/blob/main/Python.ipynb\" target=\"_parent\"><img src=\"https://colab.research.google.com/assets/colab-badge.svg\" alt=\"Open In Colab\"/></a>"
      ]
    },
    {
      "cell_type": "markdown",
      "source": [
        "# `Python - Introduction`\n",
        "\n",
        "**Objetctive**: Apresentar a biblioteca pandas, importação de dados, DataFrame e funções aritméticas.\n",
        "<br><br>\n",
        "\n",
        "---\n",
        "\n"
      ],
      "metadata": {
        "id": "zAjrQzDPyJoz"
      }
    },
    {
      "cell_type": "markdown",
      "source": [
        "## Numeric Types & Operators\n",
        "\n",
        "Python provides four basic types of numbers: \n",
        "* Plain integers;\n",
        "* Long integers;\n",
        "* Floating point numbers;\n",
        "* Complex numbers.\n",
        "\n",
        "Numbers all have several things in common. Principally, the standard arithmetic operators of \"+\", \"-\", \"*\", \"/\", \"%\" and \"**\" are all available for all of these numeric types.<br><br>\n",
        "\n",
        "> Operators:\n",
        "\n",
        "<table>\n",
        "  <tr>\n",
        "    <th>Operator</th>\n",
        "    <th>Operation</th>\n",
        "  </tr>\n",
        "  <tr>\n",
        "    <td>+</td>\n",
        "    <td>Addition</td>\n",
        "  </tr>\n",
        "    <td>-</td>\n",
        "    <td>Subtraction</td>\n",
        "  </tr>\n",
        "  <tr>\n",
        "    <td>*</td>\n",
        "    <td>Multiplication</td>\n",
        "  </tr>\n",
        "  <tr>\n",
        "    <td>/</td>\n",
        "    <td>Division</td>\n",
        "  </tr>\n",
        "  <tr>\n",
        "    <td>**</td>\n",
        "    <td>Power</td>\n",
        "  </tr>\n",
        "  <tr>\n",
        "    <td>%</td>\n",
        "    <td>Remainder</td>\n",
        "  </tr>\n",
        " </table>"
      ],
      "metadata": {
        "id": "PpjyFDigG9Id"
      }
    },
    {
      "cell_type": "code",
      "source": [
        "print(1 + 1)\n",
        "print(8 - 4)\n",
        "print(2 * 5)\n",
        "print(10 / 2)\n",
        "print(2 ** 3)"
      ],
      "metadata": {
        "colab": {
          "base_uri": "https://localhost:8080/"
        },
        "id": "i4YFxy2rHD0k",
        "outputId": "4c90fb77-9efd-4f10-ad62-4dab27cece55"
      },
      "execution_count": null,
      "outputs": [
        {
          "output_type": "stream",
          "name": "stdout",
          "text": [
            "2\n",
            "4\n",
            "10\n",
            "5.0\n",
            "8\n"
          ]
        }
      ]
    },
    {
      "cell_type": "markdown",
      "source": [
        "<br>\n",
        "\n",
        "## Operator Procedence\n",
        "\n",
        "Parenthesis \"()\" is the most important thing, followed by:\n",
        "\n",
        "1. Power;\n",
        "2. Multiplication, Division and Remainder;\n",
        "3. Addition and Subtraction.\n",
        "\n",
        "If there are 2 operators with the same importance, the order of execution must be done from left to right.\n",
        "\n",
        "In the example below, the order of execution will be:\n",
        "\n",
        "1 + <b>2 ** 3</b> / 4 * 5<br>\n",
        "1 + <b>8 / 4</b> * 5<br>\n",
        "1 + <b>2 * 5</b><br>\n",
        "<b>1 + 10</b><br>\n",
        "11.0"
      ],
      "metadata": {
        "id": "JtUH1vRBUWzn"
      }
    },
    {
      "cell_type": "code",
      "source": [
        "print(1 + 2 ** 3 / 4 * 5)"
      ],
      "metadata": {
        "colab": {
          "base_uri": "https://localhost:8080/"
        },
        "id": "DFqRtxCid9nH",
        "outputId": "aed915af-fb6e-47a9-bdeb-e91991e75333"
      },
      "execution_count": null,
      "outputs": [
        {
          "output_type": "stream",
          "name": "stdout",
          "text": [
            "11.0\n"
          ]
        }
      ]
    },
    {
      "cell_type": "markdown",
      "source": [
        "## Integer to Float?\n",
        "When you put an integer and floating point number in a expression, the integer is **implicity** converted to a float:\n"
      ],
      "metadata": {
        "id": "LRnDDipavqZU"
      }
    },
    {
      "cell_type": "code",
      "source": [
        "print(float(99) + 100)"
      ],
      "metadata": {
        "colab": {
          "base_uri": "https://localhost:8080/"
        },
        "id": "noXgnoyQv_9x",
        "outputId": "0d5a1982-60f8-49f1-86c2-ca3743ed6be8"
      },
      "execution_count": null,
      "outputs": [
        {
          "output_type": "stream",
          "name": "stdout",
          "text": [
            "199.0\n"
          ]
        }
      ]
    },
    {
      "cell_type": "code",
      "source": [
        "print(99 + 100)"
      ],
      "metadata": {
        "colab": {
          "base_uri": "https://localhost:8080/"
        },
        "id": "ruk38K1DwE6O",
        "outputId": "ecf88909-8848-4791-9633-23ac098a98b1"
      },
      "execution_count": null,
      "outputs": [
        {
          "output_type": "stream",
          "name": "stdout",
          "text": [
            "199\n"
          ]
        }
      ]
    },
    {
      "cell_type": "markdown",
      "source": [
        "You can control this with the functions Int() and Float()<br><br>"
      ],
      "metadata": {
        "id": "-2Eu4BoGwLr1"
      }
    },
    {
      "cell_type": "markdown",
      "source": [
        "## Differentiating an integer number and a string\n",
        "\n",
        "Python knows the difference between an integer number and a string. For example:\n",
        "\n",
        "\"+\" means \"**addition**\" if something is a number, but<br>\n",
        "\"+\" also means \"**concatenate**\" if something is a string"
      ],
      "metadata": {
        "id": "G1KXgYzIwbAt"
      }
    },
    {
      "cell_type": "code",
      "source": [
        "x = 'hello ' + 'world'\n",
        "print(x)"
      ],
      "metadata": {
        "colab": {
          "base_uri": "https://localhost:8080/"
        },
        "id": "cqlfqdZMzD1t",
        "outputId": "3925cea0-e217-40a8-f294-205594f960a7"
      },
      "execution_count": null,
      "outputs": [
        {
          "output_type": "stream",
          "name": "stdout",
          "text": [
            "hello world\n"
          ]
        }
      ]
    },
    {
      "cell_type": "code",
      "source": [
        "x = 1 + 5 \n",
        "print(x)"
      ],
      "metadata": {
        "colab": {
          "base_uri": "https://localhost:8080/"
        },
        "id": "OjfZhRBMzG-k",
        "outputId": "f82ce54c-4e09-40b1-bbb6-5fc047650184"
      },
      "execution_count": null,
      "outputs": [
        {
          "output_type": "stream",
          "name": "stdout",
          "text": [
            "6\n"
          ]
        }
      ]
    },
    {
      "cell_type": "markdown",
      "source": [
        "You can't add 1 to a string:"
      ],
      "metadata": {
        "id": "ZOpxmMHIzKis"
      }
    },
    {
      "cell_type": "code",
      "source": [
        "#this will result in an error\n",
        "x = 1 + 'test'\n",
        "print(x)"
      ],
      "metadata": {
        "colab": {
          "base_uri": "https://localhost:8080/",
          "height": 200
        },
        "id": "9UIH6Al4zTJ6",
        "outputId": "d9da1a42-2271-4aaa-e054-bd912fc40188"
      },
      "execution_count": null,
      "outputs": [
        {
          "output_type": "error",
          "ename": "TypeError",
          "evalue": "ignored",
          "traceback": [
            "\u001b[0;31m---------------------------------------------------------------------------\u001b[0m",
            "\u001b[0;31mTypeError\u001b[0m                                 Traceback (most recent call last)",
            "\u001b[0;32m<ipython-input-9-7d17b1e3a2dd>\u001b[0m in \u001b[0;36m<module>\u001b[0;34m()\u001b[0m\n\u001b[1;32m      1\u001b[0m \u001b[0;31m#this will result in an error\u001b[0m\u001b[0;34m\u001b[0m\u001b[0;34m\u001b[0m\u001b[0;34m\u001b[0m\u001b[0m\n\u001b[0;32m----> 2\u001b[0;31m \u001b[0mx\u001b[0m \u001b[0;34m=\u001b[0m \u001b[0;36m1\u001b[0m \u001b[0;34m+\u001b[0m \u001b[0;34m'test'\u001b[0m\u001b[0;34m\u001b[0m\u001b[0;34m\u001b[0m\u001b[0m\n\u001b[0m\u001b[1;32m      3\u001b[0m \u001b[0mprint\u001b[0m\u001b[0;34m(\u001b[0m\u001b[0mx\u001b[0m\u001b[0;34m)\u001b[0m\u001b[0;34m\u001b[0m\u001b[0;34m\u001b[0m\u001b[0m\n",
            "\u001b[0;31mTypeError\u001b[0m: unsupported operand type(s) for +: 'int' and 'str'"
          ]
        }
      ]
    },
    {
      "cell_type": "markdown",
      "source": [
        "We can ask to Python what type something is by using the **type()** function:"
      ],
      "metadata": {
        "id": "c92VF2DDzZoT"
      }
    },
    {
      "cell_type": "code",
      "source": [
        "type(1)"
      ],
      "metadata": {
        "colab": {
          "base_uri": "https://localhost:8080/"
        },
        "id": "Ek_vzWzpzh3O",
        "outputId": "bf75dc34-8922-453d-fe6f-16c7b53cbf9a"
      },
      "execution_count": null,
      "outputs": [
        {
          "output_type": "execute_result",
          "data": {
            "text/plain": [
              "int"
            ]
          },
          "metadata": {},
          "execution_count": 8
        }
      ]
    },
    {
      "cell_type": "code",
      "source": [
        "type('Hello World')"
      ],
      "metadata": {
        "colab": {
          "base_uri": "https://localhost:8080/"
        },
        "id": "YhvjnqPRziC9",
        "outputId": "cd1b25f7-a0ef-4b49-e52f-4f8e7183e13f"
      },
      "execution_count": null,
      "outputs": [
        {
          "output_type": "execute_result",
          "data": {
            "text/plain": [
              "str"
            ]
          },
          "metadata": {},
          "execution_count": 7
        }
      ]
    },
    {
      "cell_type": "code",
      "source": [
        "type(12.5)"
      ],
      "metadata": {
        "colab": {
          "base_uri": "https://localhost:8080/"
        },
        "id": "00OUvjAdzjTe",
        "outputId": "80983ebd-4684-4998-9723-94314ef71cae"
      },
      "execution_count": null,
      "outputs": [
        {
          "output_type": "execute_result",
          "data": {
            "text/plain": [
              "float"
            ]
          },
          "metadata": {},
          "execution_count": 6
        }
      ]
    },
    {
      "cell_type": "markdown",
      "source": [
        "You can also use a set of built in functions like float and integer to convert from one to another:"
      ],
      "metadata": {
        "id": "dutj48g11mES"
      }
    },
    {
      "cell_type": "code",
      "source": [
        "a = 10\n",
        "type(a)"
      ],
      "metadata": {
        "colab": {
          "base_uri": "https://localhost:8080/"
        },
        "id": "jr7SnNml10IA",
        "outputId": "6ad3b1ff-b032-4fb8-b951-b3bab97896e4"
      },
      "execution_count": null,
      "outputs": [
        {
          "output_type": "execute_result",
          "data": {
            "text/plain": [
              "int"
            ]
          },
          "metadata": {},
          "execution_count": 15
        }
      ]
    },
    {
      "cell_type": "code",
      "source": [
        "b = float(a)\n",
        "print(b)"
      ],
      "metadata": {
        "colab": {
          "base_uri": "https://localhost:8080/"
        },
        "id": "QU2aLnwF2Kf3",
        "outputId": "525e6592-08cd-4ffc-8333-aca82fa549d3"
      },
      "execution_count": null,
      "outputs": [
        {
          "output_type": "stream",
          "name": "stdout",
          "text": [
            "10.0\n"
          ]
        }
      ]
    },
    {
      "cell_type": "code",
      "source": [
        "type(b)"
      ],
      "metadata": {
        "colab": {
          "base_uri": "https://localhost:8080/"
        },
        "id": "JeZ5Lgjg2A2G",
        "outputId": "be4182bd-3950-4736-df3b-da14759444b6"
      },
      "execution_count": null,
      "outputs": [
        {
          "output_type": "execute_result",
          "data": {
            "text/plain": [
              "float"
            ]
          },
          "metadata": {},
          "execution_count": 17
        }
      ]
    },
    {
      "cell_type": "markdown",
      "source": [
        "## Integer Division\n",
        "\n",
        "Integer division produces a floating point result:"
      ],
      "metadata": {
        "id": "u5pxNkpvFk3G"
      }
    },
    {
      "cell_type": "code",
      "source": [
        "x = 10 / 2\n",
        "print(x)"
      ],
      "metadata": {
        "colab": {
          "base_uri": "https://localhost:8080/"
        },
        "id": "71u6R-HO2ga1",
        "outputId": "a865ce0c-371f-4d53-ff99-57471c053ed2"
      },
      "execution_count": null,
      "outputs": [
        {
          "output_type": "stream",
          "name": "stdout",
          "text": [
            "5.0\n"
          ]
        }
      ]
    },
    {
      "cell_type": "code",
      "source": [
        "type(x)"
      ],
      "metadata": {
        "colab": {
          "base_uri": "https://localhost:8080/"
        },
        "id": "fPvAmSyB2qJF",
        "outputId": "bf467dc6-1126-4f96-ce46-9393e8e6a217"
      },
      "execution_count": null,
      "outputs": [
        {
          "output_type": "execute_result",
          "data": {
            "text/plain": [
              "float"
            ]
          },
          "metadata": {},
          "execution_count": 21
        }
      ]
    },
    {
      "cell_type": "markdown",
      "source": [
        "## String Conversions\n",
        "\n",
        "You can also use int() and float() to convert between strings and integers.\n",
        "\n",
        "You will get an error if the string does not contain numeric characters."
      ],
      "metadata": {
        "id": "UtUlEDri3Hwd"
      }
    },
    {
      "cell_type": "code",
      "source": [
        "x = '123'\n",
        "type(x)"
      ],
      "metadata": {
        "colab": {
          "base_uri": "https://localhost:8080/"
        },
        "id": "qwo1x6-43Sz4",
        "outputId": "c45dd169-53c4-4ae8-fb72-9c3bf2d041a8"
      },
      "execution_count": null,
      "outputs": [
        {
          "output_type": "execute_result",
          "data": {
            "text/plain": [
              "str"
            ]
          },
          "metadata": {},
          "execution_count": 28
        }
      ]
    },
    {
      "cell_type": "code",
      "source": [
        "#This will result in an error\n",
        "print(x + 1)"
      ],
      "metadata": {
        "colab": {
          "base_uri": "https://localhost:8080/",
          "height": 183
        },
        "id": "X03vcQvN3Y5v",
        "outputId": "9d42c910-a105-4317-fd4a-7b5ae07811a8"
      },
      "execution_count": null,
      "outputs": [
        {
          "output_type": "error",
          "ename": "TypeError",
          "evalue": "ignored",
          "traceback": [
            "\u001b[0;31m---------------------------------------------------------------------------\u001b[0m",
            "\u001b[0;31mTypeError\u001b[0m                                 Traceback (most recent call last)",
            "\u001b[0;32m<ipython-input-29-ab4c30b79732>\u001b[0m in \u001b[0;36m<module>\u001b[0;34m()\u001b[0m\n\u001b[1;32m      1\u001b[0m \u001b[0;31m#This will result in an error\u001b[0m\u001b[0;34m\u001b[0m\u001b[0;34m\u001b[0m\u001b[0;34m\u001b[0m\u001b[0m\n\u001b[0;32m----> 2\u001b[0;31m \u001b[0mprint\u001b[0m\u001b[0;34m(\u001b[0m\u001b[0mx\u001b[0m \u001b[0;34m+\u001b[0m \u001b[0;36m1\u001b[0m\u001b[0;34m)\u001b[0m\u001b[0;34m\u001b[0m\u001b[0;34m\u001b[0m\u001b[0m\n\u001b[0m",
            "\u001b[0;31mTypeError\u001b[0m: can only concatenate str (not \"int\") to str"
          ]
        }
      ]
    },
    {
      "cell_type": "code",
      "source": [
        "y = int(x)\n",
        "type(y)"
      ],
      "metadata": {
        "colab": {
          "base_uri": "https://localhost:8080/"
        },
        "id": "f_gT3lWZ3gsF",
        "outputId": "8b34aaea-2b07-418d-f83e-7064fb25af14"
      },
      "execution_count": null,
      "outputs": [
        {
          "output_type": "execute_result",
          "data": {
            "text/plain": [
              "int"
            ]
          },
          "metadata": {},
          "execution_count": 30
        }
      ]
    },
    {
      "cell_type": "code",
      "source": [
        "#123 + 1\n",
        "print(y + 1)"
      ],
      "metadata": {
        "colab": {
          "base_uri": "https://localhost:8080/"
        },
        "id": "P5AG8OCr3ly-",
        "outputId": "33240f88-8ec0-469b-c7d6-417b6ce1c384"
      },
      "execution_count": null,
      "outputs": [
        {
          "output_type": "stream",
          "name": "stdout",
          "text": [
            "124\n"
          ]
        }
      ]
    },
    {
      "cell_type": "code",
      "source": [
        "#If you put something into it, a string that doesn't consist of digits, it will result in an error\n",
        "y = 'hello world'\n",
        "z = int(y)"
      ],
      "metadata": {
        "colab": {
          "base_uri": "https://localhost:8080/",
          "height": 200
        },
        "id": "iI5mPc973oyr",
        "outputId": "8a540189-8f20-4491-f894-67cecdbe4644"
      },
      "execution_count": null,
      "outputs": [
        {
          "output_type": "error",
          "ename": "ValueError",
          "evalue": "ignored",
          "traceback": [
            "\u001b[0;31m---------------------------------------------------------------------------\u001b[0m",
            "\u001b[0;31mValueError\u001b[0m                                Traceback (most recent call last)",
            "\u001b[0;32m<ipython-input-33-6341115731ad>\u001b[0m in \u001b[0;36m<module>\u001b[0;34m()\u001b[0m\n\u001b[1;32m      1\u001b[0m \u001b[0;31m#If you put something into it, a string that doesn't consist of digits, it will result in an error\u001b[0m\u001b[0;34m\u001b[0m\u001b[0;34m\u001b[0m\u001b[0;34m\u001b[0m\u001b[0m\n\u001b[1;32m      2\u001b[0m \u001b[0my\u001b[0m \u001b[0;34m=\u001b[0m \u001b[0;34m'hello world'\u001b[0m\u001b[0;34m\u001b[0m\u001b[0;34m\u001b[0m\u001b[0m\n\u001b[0;32m----> 3\u001b[0;31m \u001b[0mz\u001b[0m \u001b[0;34m=\u001b[0m \u001b[0mint\u001b[0m\u001b[0;34m(\u001b[0m\u001b[0my\u001b[0m\u001b[0;34m)\u001b[0m\u001b[0;34m\u001b[0m\u001b[0;34m\u001b[0m\u001b[0m\n\u001b[0m",
            "\u001b[0;31mValueError\u001b[0m: invalid literal for int() with base 10: 'hello world'"
          ]
        }
      ]
    },
    {
      "cell_type": "markdown",
      "source": [
        "## User Input\n",
        "\n",
        "We can instruct Python to pause and read data from the user using the **input()** function.\n",
        "\n",
        "The **input()** function returns a string."
      ],
      "metadata": {
        "id": "xmvAtbUH4Zrw"
      }
    },
    {
      "cell_type": "code",
      "source": [
        "name = input('Whats your name?')\n",
        "print('Hello', name)"
      ],
      "metadata": {
        "colab": {
          "base_uri": "https://localhost:8080/"
        },
        "id": "XNaZtgKn4zDS",
        "outputId": "1f861f25-83d9-44d7-ad44-831be5b0726e"
      },
      "execution_count": null,
      "outputs": [
        {
          "output_type": "stream",
          "name": "stdout",
          "text": [
            "Whats your name?Joao\n",
            "Hello Joao\n"
          ]
        }
      ]
    },
    {
      "cell_type": "markdown",
      "source": [
        "## Conditional Execution\n",
        "\n",
        "The key word that we're going to use is the \"if\" statement. \"If\" is a reserved word.\n",
        "<br><br>\n",
        "The If statement has as part of it a question that it asks, in the example below: x is less than 10? and x is less than 20?<br>\n",
        "After the question, begin an indented block<br>\n",
        "If the line is true, the line executes."
      ],
      "metadata": {
        "id": "VXjd1cc09uGA"
      }
    },
    {
      "cell_type": "code",
      "source": [
        "x = 5\n",
        "if x < 10:\n",
        "    print('Smaller')\n",
        "if x > 20:\n",
        "    print('Bigger')\n",
        "\n",
        "print('Finish')"
      ],
      "metadata": {
        "colab": {
          "base_uri": "https://localhost:8080/"
        },
        "id": "N5V4_F0d9wUy",
        "outputId": "614ac8dd-4025-45eb-df8b-686157143d76"
      },
      "execution_count": null,
      "outputs": [
        {
          "output_type": "stream",
          "name": "stdout",
          "text": [
            "Smaller\n",
            "Finish\n"
          ]
        }
      ]
    },
    {
      "cell_type": "markdown",
      "source": [
        "## Comparison Operators\n",
        "\n",
        "Boolean expressions ask a question and produce a Yes or No result (1 or 0) wich we can use to control program flow\n",
        "\n",
        "Boolean expressions using comparison operators evalueate to True / False or Yes / No\n",
        "\n",
        "Comparison operators look at variables but **do not change** the variables<br><br>\n",
        "\n",
        "\n",
        "<table>\n",
        "  <tr>\n",
        "    <th>Python</th>\n",
        "    <th>Meaning</th>\n",
        "  </tr>\n",
        "  <tr>\n",
        "    <td><</td>\n",
        "    <td>Less than</td>\n",
        "  </tr>\n",
        "    <td><=</td>\n",
        "    <td>Less than or Equal to</td>\n",
        "  </tr>\n",
        "  <tr>\n",
        "    <td>==</td>\n",
        "    <td>Equal to</td>\n",
        "  </tr>\n",
        "  <tr>\n",
        "    <td>></td>\n",
        "    <td>Greater than</td>\n",
        "  </tr>\n",
        "  <tr>\n",
        "    <td>>=</td>\n",
        "    <td>Greater than or Equal to</td>\n",
        "  </tr>\n",
        "  <tr>\n",
        "    <td>!=</td>\n",
        "    <td>Not Equal</td>\n",
        "  </tr>\n",
        " </table>\n",
        "\n",
        "\n",
        "* \"=\" is used for assignment. "
      ],
      "metadata": {
        "id": "J0zUHaMqC1Xh"
      }
    },
    {
      "cell_type": "markdown",
      "source": [
        "<br>We don't just have to have a single line of text in the indented block. If we ident more than one line, as long you stay indented, you stay in that if block."
      ],
      "metadata": {
        "id": "kS8ccg89FDTQ"
      }
    },
    {
      "cell_type": "code",
      "source": [
        "x = 5\n",
        "print('Beginning: 5')\n",
        "\n",
        "if x == 5: \n",
        "    print('First indented block')\n",
        "    print('Second indented block')\n",
        "    print('Third indented block')\n",
        "print('After first If')\n",
        "\n",
        "if x > 5:\n",
        "    print('Second If, First indented block')\n",
        "    print('Second If, Second indented block')\n",
        "    print('Second If, Third indented block')\n",
        "print('After first & second If')\n"
      ],
      "metadata": {
        "colab": {
          "base_uri": "https://localhost:8080/"
        },
        "id": "wOiHsEKFFU1t",
        "outputId": "9518b614-617a-4978-8026-c07f226e291d"
      },
      "execution_count": null,
      "outputs": [
        {
          "output_type": "stream",
          "name": "stdout",
          "text": [
            "Beginning: 5\n",
            "First indented block\n",
            "Second indented block\n",
            "Third indented block\n",
            "After first If\n",
            "After first & second If\n"
          ]
        }
      ]
    },
    {
      "cell_type": "markdown",
      "source": [
        "##Indentation\n",
        "\n",
        "Increase indent after an **if** statement or **for** statement (after \":\").\n",
        "\n",
        "Maintain indent to indicate the scope of the block (which lines are affected by the if/for).\n",
        "\n",
        "Reduce indent back to the level of the if/for statement to indicate the end of the block.\n",
        "\n",
        "Blan lines are ignored - they dont affect indentation"
      ],
      "metadata": {
        "id": "x7WbuEw4GWv2"
      }
    },
    {
      "cell_type": "markdown",
      "source": [
        "## Two-Way Decisions\n",
        "\n",
        "It introduces a new concept called \"Else\"\n",
        "\n",
        "Its like a fork in the road - we must choose one or the other path but not both\n"
      ],
      "metadata": {
        "id": "l-fwXmOkJV8b"
      }
    },
    {
      "cell_type": "code",
      "source": [
        "x = 4\n",
        "\n",
        "if x > 2:\n",
        "    print('Bigger than 2')\n",
        "else:\n",
        "    print('Smaller than 2')\n",
        "\n",
        "print('All done!')"
      ],
      "metadata": {
        "colab": {
          "base_uri": "https://localhost:8080/"
        },
        "id": "7yLYkeWwJnjW",
        "outputId": "9d736daf-875a-4345-8ba2-d7002fd3a6d3"
      },
      "execution_count": null,
      "outputs": [
        {
          "output_type": "stream",
          "name": "stdout",
          "text": [
            "Bigger than 2\n",
            "All done!\n"
          ]
        }
      ]
    },
    {
      "cell_type": "markdown",
      "source": [
        "## Multi-Way Decisions\n",
        "\n",
        "It introduces a new concept called \"Elif\"\n",
        "\n",
        "In the example below:\n",
        "It's either gonna run one and then skip the other two;\n",
        "Or it's going to skip one, skip two an then run the \"Else\""
      ],
      "metadata": {
        "id": "znpd5F6TcGg2"
      }
    },
    {
      "cell_type": "code",
      "source": [
        "x = 1\n",
        "\n",
        "if x < 2:\n",
        "    print('Small')\n",
        "elif x < 10:\n",
        "    print('Medium')\n",
        "else:\n",
        "    print('Large')"
      ],
      "metadata": {
        "colab": {
          "base_uri": "https://localhost:8080/"
        },
        "id": "XH1v-u1VcNEH",
        "outputId": "9729dcfa-2ac7-430c-b5d6-dcb2d9b9c63e"
      },
      "execution_count": null,
      "outputs": [
        {
          "output_type": "stream",
          "name": "stdout",
          "text": [
            "Small\n"
          ]
        }
      ]
    },
    {
      "cell_type": "markdown",
      "source": [
        "We can have no else, and this means that it might not run any of them (if / elif):"
      ],
      "metadata": {
        "id": "_g82qeBteZR2"
      }
    },
    {
      "cell_type": "code",
      "source": [
        "#No else\n",
        "x = 50\n",
        "\n",
        "if x < 2:\n",
        "    print('Small')\n",
        "elif x < 10:\n",
        "    print('Medium')\n",
        "print('All done!')"
      ],
      "metadata": {
        "colab": {
          "base_uri": "https://localhost:8080/"
        },
        "id": "7JF0w5gJek4w",
        "outputId": "1a719a2c-4757-4939-e458-e050ccfc2879"
      },
      "execution_count": null,
      "outputs": [
        {
          "output_type": "stream",
          "name": "stdout",
          "text": [
            "All done!\n"
          ]
        }
      ]
    },
    {
      "cell_type": "markdown",
      "source": [
        "## The try / except Structure\n",
        "\n",
        "* If the code in the **try** works - the **except** is skipped\n",
        "\n",
        "* If the code in the **try** fails - it jumps to the **except** section"
      ],
      "metadata": {
        "id": "KL0QQuUsgu_4"
      }
    },
    {
      "cell_type": "code",
      "source": [
        "#Except\n",
        "text = 'Hello World'\n",
        "try:\n",
        "    text_to_number = int(text)\n",
        "except:\n",
        "    text_to_number = -1\n",
        "\n",
        "print(text_to_number)"
      ],
      "metadata": {
        "colab": {
          "base_uri": "https://localhost:8080/"
        },
        "id": "jj7WSLl4pazX",
        "outputId": "010927b5-4ced-4dae-b604-da18bb31d724"
      },
      "execution_count": null,
      "outputs": [
        {
          "output_type": "stream",
          "name": "stdout",
          "text": [
            "-1\n"
          ]
        }
      ]
    },
    {
      "cell_type": "code",
      "source": [
        "#Try\n",
        "text = '123'\n",
        "try:\n",
        "    text_to_number = int(text)\n",
        "except:\n",
        "    text_to_number = -1\n",
        "\n",
        "print(text_to_number)"
      ],
      "metadata": {
        "colab": {
          "base_uri": "https://localhost:8080/"
        },
        "id": "NKciIkN7puDw",
        "outputId": "2fa6a039-59e0-4125-b05a-2b6dc29db8e2"
      },
      "execution_count": null,
      "outputs": [
        {
          "output_type": "stream",
          "name": "stdout",
          "text": [
            "123\n"
          ]
        }
      ]
    },
    {
      "cell_type": "markdown",
      "source": [
        "Another example:"
      ],
      "metadata": {
        "id": "9sYN6o9xqFgv"
      }
    },
    {
      "cell_type": "code",
      "source": [
        "text = 'Joao'\n",
        "\n",
        "try:\n",
        "    print('Hello')\n",
        "    text2 = int(text)\n",
        "    print('Joao')\n",
        "except:\n",
        "    text2 = -1\n",
        "\n",
        "print('All done!', text2)"
      ],
      "metadata": {
        "colab": {
          "base_uri": "https://localhost:8080/"
        },
        "id": "4opWBDmDpzP6",
        "outputId": "11fb415a-8dd1-488f-cd01-7e03bf6fbd6f"
      },
      "execution_count": null,
      "outputs": [
        {
          "output_type": "stream",
          "name": "stdout",
          "text": [
            "Hello\n",
            "All done! -1\n"
          ]
        }
      ]
    },
    {
      "cell_type": "markdown",
      "source": [
        "## Functions\n",
        "\n",
        "Function is some reusable code that takes arguments as input, does some computation, and then returns a result(s)\n",
        "\n",
        "New Key Word **def** that stands for defined function.\n",
        "\n",
        "We can invoke/call the function by using the function name, parentheses, and arguments in an expression."
      ],
      "metadata": {
        "id": "nL6EVydR3n5C"
      }
    },
    {
      "cell_type": "code",
      "source": [
        "#here is the definition of a function\n",
        "def HelloWorld():\n",
        "    print('Hello')\n",
        "    print('World')\n",
        "\n",
        "#here is the invoking of the function\n",
        "HelloWorld()\n",
        "print('Im using def')\n",
        "HelloWorld()"
      ],
      "metadata": {
        "colab": {
          "base_uri": "https://localhost:8080/"
        },
        "id": "Xzh2n1RM4aIe",
        "outputId": "8d397559-2d8b-49ec-d69a-1e66393ea654"
      },
      "execution_count": null,
      "outputs": [
        {
          "output_type": "stream",
          "name": "stdout",
          "text": [
            "Hello\n",
            "World\n",
            "Im using def\n",
            "Hello\n",
            "World\n"
          ]
        }
      ]
    },
    {
      "cell_type": "markdown",
      "source": [
        "### There are two kinds of functions in Python:\n",
        "\n",
        "* **Built-in Functions** that are provided as part of Python: print(), input(), type(), float(), int()...\n",
        "\n",
        "* **Functions that we define ourselves** and then use\n",
        "\n",
        "\n",
        "We treat the built-in function name as \"new\" reserved words (avoid them as variable names)"
      ],
      "metadata": {
        "id": "G_3yA2dK4ML9"
      }
    },
    {
      "cell_type": "markdown",
      "source": [
        "## Building our Own Function\n",
        "\n",
        "We create a function using the **def** key word followed by optional parameters in parentheses\n",
        "\n",
        "We ident the body of the function\n",
        "\n",
        "This defines the function but does not execute the body of the function"
      ],
      "metadata": {
        "id": "aWsRHhmZ3RlO"
      }
    },
    {
      "cell_type": "code",
      "source": [
        "#This is not calling/invoking the function. It's remembering, storing.\n",
        "def print_helloworld():\n",
        "    print('Hello')\n",
        "    print('World')"
      ],
      "metadata": {
        "id": "1ofHmec331V_"
      },
      "execution_count": 2,
      "outputs": []
    },
    {
      "cell_type": "code",
      "source": [
        "#Here we are calling/invoking the function.\n",
        "print_helloworld();"
      ],
      "metadata": {
        "colab": {
          "base_uri": "https://localhost:8080/"
        },
        "id": "nDuyd_xl9xEk",
        "outputId": "b9e86ea1-65f8-4bd3-ac72-424e7cf8b644"
      },
      "execution_count": 3,
      "outputs": [
        {
          "output_type": "stream",
          "name": "stdout",
          "text": [
            "Hello\n",
            "World\n"
          ]
        }
      ]
    },
    {
      "cell_type": "markdown",
      "source": [
        "### Arguments\n",
        "\n",
        "An argument is a value that we pass into the function as its input when we call the function\n",
        "\n",
        "We use arguments so we can direct the function to do different kinds of work when we call it at different times\n",
        "\n",
        "We put the arguments in parentheses after the name of the function<br>"
      ],
      "metadata": {
        "id": "DUr-rYS5_Nz7"
      }
    },
    {
      "cell_type": "markdown",
      "source": [
        "### Parameters\n",
        "\n",
        "A Parameter is a variable which we use in the **function definition**. <BR>\n",
        "It's a \"handle\" that allows the code in the function to access the **arguments** for a particular function invocation<br>"
      ],
      "metadata": {
        "id": "_Hf3MwQl_zDS"
      }
    },
    {
      "cell_type": "code",
      "source": [
        "#\"test_function\" is the argument, the things that are coming in.\n",
        "#The test_function only exist during the line of the function, it's like a placeholder that refers to how you touch your parameters\n",
        "\n",
        "def example_function(test_function):\n",
        "    if test_function == 1:\n",
        "        print('One')\n",
        "    elif test_function == 2:\n",
        "        print('Two')\n",
        "    else:\n",
        "        print('Three')\n",
        "\n",
        "example_function(1)\n",
        "\n",
        "example_function(2)\n",
        "\n",
        "example_function(3)"
      ],
      "metadata": {
        "colab": {
          "base_uri": "https://localhost:8080/"
        },
        "id": "RQWoGfwhAIQM",
        "outputId": "d76c3e2a-d3bc-413a-d20a-ae296574f64b"
      },
      "execution_count": 6,
      "outputs": [
        {
          "output_type": "stream",
          "name": "stdout",
          "text": [
            "One\n",
            "Two\n",
            "Three\n"
          ]
        }
      ]
    },
    {
      "cell_type": "markdown",
      "source": [
        "### Return Values\n",
        "\n",
        "Often a function will take its arguments, do some computation and return a value to be used as the value of the function call in the **calling expression**.<br>\n",
        "The return keyword is used for this."
      ],
      "metadata": {
        "id": "PtzX7tzyD-w6"
      }
    },
    {
      "cell_type": "code",
      "source": [
        "def greet():\n",
        "    return 'Hello'\n",
        "\n",
        "print(greet(), 'Joao')\n",
        "print(greet(), 'Pedro')"
      ],
      "metadata": {
        "colab": {
          "base_uri": "https://localhost:8080/"
        },
        "id": "jLKLjjuMEPYF",
        "outputId": "f808b16d-bead-4ab1-b4a7-daf2f0735b42"
      },
      "execution_count": 8,
      "outputs": [
        {
          "output_type": "stream",
          "name": "stdout",
          "text": [
            "Hello Joao\n",
            "Hello Pedro\n"
          ]
        }
      ]
    },
    {
      "cell_type": "markdown",
      "source": [
        "A *fruitful* function is one that produces a result (or return value)\n",
        "\n",
        "The return statement ends the function execution and \"sends back\" the result of the function"
      ],
      "metadata": {
        "id": "Om_aYhP8FVzE"
      }
    },
    {
      "cell_type": "code",
      "source": [
        "def greet(language):\n",
        "    if language == 'spanish':\n",
        "        return 'Hola'\n",
        "    elif language == 'portuguese':\n",
        "        return 'Olá'\n",
        "    else:\n",
        "        return 'Hello'\n",
        "\n",
        "print(greet('spanish'), 'Juan' )\n",
        "\n",
        "print(greet('portuguese'), 'Joao' )\n",
        "\n",
        "print(greet('english'), 'John' )"
      ],
      "metadata": {
        "colab": {
          "base_uri": "https://localhost:8080/"
        },
        "id": "U642o4aQFjw9",
        "outputId": "91f86ec1-b23d-4281-d686-180a205de76b"
      },
      "execution_count": 10,
      "outputs": [
        {
          "output_type": "stream",
          "name": "stdout",
          "text": [
            "Hola Juan\n",
            "Olá Joao\n",
            "Hello John\n"
          ]
        }
      ]
    },
    {
      "cell_type": "markdown",
      "source": [
        "### Multiple Parameters/Arguments\n",
        "\n",
        "We can define more than one parameter in the **function definition**\n",
        "\n",
        "We simply **add more arguments** when we **call** the function\n",
        "\n",
        "We match the number and order of arguments and parameters"
      ],
      "metadata": {
        "id": "vAIwbagsJvNa"
      }
    },
    {
      "cell_type": "code",
      "source": [
        "def add_two_numbers(a ,b):\n",
        "    added = a + b\n",
        "    return added\n",
        "\n",
        "x = add_two_numbers(3, 5)\n",
        "print(x)"
      ],
      "metadata": {
        "colab": {
          "base_uri": "https://localhost:8080/"
        },
        "id": "2JWQEpgIJ-7q",
        "outputId": "ba3fe866-aa97-4c2f-b062-aa88eb9bb59d"
      },
      "execution_count": 12,
      "outputs": [
        {
          "output_type": "stream",
          "name": "stdout",
          "text": [
            "8\n"
          ]
        }
      ]
    },
    {
      "cell_type": "markdown",
      "source": [
        "### Void (non-fruitful) Functions\n",
        "\n",
        "* When a function does not return a value, we call it a \"void\" function\n",
        "\n",
        "* Functions that return values are \"fruitful\" functions\n",
        "\n",
        "* Void functions are \"not fruitful\""
      ],
      "metadata": {
        "id": "V_A5o2OwKewL"
      }
    }
  ]
}