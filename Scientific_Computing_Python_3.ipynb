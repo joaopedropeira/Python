{
  "nbformat": 4,
  "nbformat_minor": 0,
  "metadata": {
    "colab": {
      "name": "Scientific_Computing_Python-3.ipynb",
      "provenance": [],
      "collapsed_sections": [],
      "authorship_tag": "ABX9TyMBmIMO5rCs0IJtWbDEFS36",
      "include_colab_link": true
    },
    "kernelspec": {
      "name": "python3",
      "display_name": "Python 3"
    },
    "language_info": {
      "name": "python"
    }
  },
  "cells": [
    {
      "cell_type": "markdown",
      "metadata": {
        "id": "view-in-github",
        "colab_type": "text"
      },
      "source": [
        "<a href=\"https://colab.research.google.com/github/joaopedropeira/Python/blob/main/Scientific_Computing_Python_3.ipynb\" target=\"_parent\"><img src=\"https://colab.research.google.com/assets/colab-badge.svg\" alt=\"Open In Colab\"/></a>"
      ]
    },
    {
      "cell_type": "markdown",
      "source": [
        "## Python Lists\n",
        "---\n",
        "### Programming\n",
        "\n",
        "\n",
        "* **Algorithms**<br>\n",
        "A set of rules or steps used to solve a problem\n",
        "\n",
        "* **Data Structures**<br>\n",
        "A particualr way of organizing data in a computer\n",
        "<br><br>"
      ],
      "metadata": {
        "id": "cPZIpIMLoUUf"
      }
    },
    {
      "cell_type": "markdown",
      "source": [
        "### What is not a \"Collection\"\n",
        "\n",
        "\n",
        "---\n",
        "\n",
        "\n",
        "* Most of our **variables** have one value in them - when we put a new value in the **variable**, the old value is **overwritten**\n",
        "\n",
        "\n"
      ],
      "metadata": {
        "id": "smxnmuV0oXMG"
      }
    },
    {
      "cell_type": "code",
      "source": [
        "x = 2\n",
        "x = 4\n",
        "print(x)"
      ],
      "metadata": {
        "colab": {
          "base_uri": "https://localhost:8080/"
        },
        "id": "ogG9P-BYpOwc",
        "outputId": "0deba367-fdec-447a-b9f8-c2717049cf19"
      },
      "execution_count": 1,
      "outputs": [
        {
          "output_type": "stream",
          "name": "stdout",
          "text": [
            "4\n"
          ]
        }
      ]
    },
    {
      "cell_type": "markdown",
      "source": [
        "### A List is a kind of Collection\n",
        "\n",
        "\n",
        "---\n",
        "\n",
        "\n",
        "* A **collection** allows us to put **many values** in a single \"variable\"\n",
        "\n",
        "* A **collection** is nice because we can carry all **many values** around in one convenient package\n",
        "\n",
        "```\n",
        "friends = ['Joao', 'Maria', 'Isabela']\n",
        "```\n",
        "\n",
        "```\n",
        "fruits = ['Banana', 'Apple', 'Watermelon']\n",
        "```\n",
        "\n"
      ],
      "metadata": {
        "id": "K1RnCNIMpZz6"
      }
    },
    {
      "cell_type": "markdown",
      "source": [
        "### List Constants\n",
        "\n",
        "\n",
        "---\n",
        "\n",
        "\n",
        "* List Constants are **surrounded** by square brackets ([ | ]) and the elements in the list are separated by commas (,)\n",
        "\n",
        "* A list element can be any Python object - even **another list**\n",
        "\n",
        "* A list can be **empty**"
      ],
      "metadata": {
        "id": "4QfvArqkqk_R"
      }
    },
    {
      "cell_type": "code",
      "source": [
        "print([1, 10, 20])"
      ],
      "metadata": {
        "colab": {
          "base_uri": "https://localhost:8080/"
        },
        "id": "Wh6W9LOApQLL",
        "outputId": "714e90ac-ad88-47d0-cd7f-1bfc0a4b47e5"
      },
      "execution_count": 9,
      "outputs": [
        {
          "output_type": "stream",
          "name": "stdout",
          "text": [
            "[1, 10, 20]\n"
          ]
        }
      ]
    },
    {
      "cell_type": "code",
      "source": [
        "print(['red', 'green', 'blue'])"
      ],
      "metadata": {
        "colab": {
          "base_uri": "https://localhost:8080/"
        },
        "id": "D3pKZ5JfrCYZ",
        "outputId": "c1d62f23-ea1e-4fa8-c48b-c06e0a461d07"
      },
      "execution_count": 6,
      "outputs": [
        {
          "output_type": "stream",
          "name": "stdout",
          "text": [
            "['red', 'green', 'blue']\n"
          ]
        }
      ]
    },
    {
      "cell_type": "code",
      "source": [
        "print(['red', 1, 'blue'])"
      ],
      "metadata": {
        "colab": {
          "base_uri": "https://localhost:8080/"
        },
        "id": "Z1tQZ0prrGHI",
        "outputId": "60307caf-cd66-4c58-b0e1-8b7f6bf53230"
      },
      "execution_count": 5,
      "outputs": [
        {
          "output_type": "stream",
          "name": "stdout",
          "text": [
            "['red', 1, 'blue']\n"
          ]
        }
      ]
    },
    {
      "cell_type": "code",
      "source": [
        "print([1, ['red', 'green', 'blue'], 2, 3])"
      ],
      "metadata": {
        "colab": {
          "base_uri": "https://localhost:8080/"
        },
        "id": "XDX0Yf73rLp_",
        "outputId": "449850bc-8717-4ee6-8fee-c1913cb2fb1d"
      },
      "execution_count": 7,
      "outputs": [
        {
          "output_type": "stream",
          "name": "stdout",
          "text": [
            "[1, ['red', 'green', 'blue'], 2, 3]\n"
          ]
        }
      ]
    },
    {
      "cell_type": "code",
      "source": [
        "print([])"
      ],
      "metadata": {
        "colab": {
          "base_uri": "https://localhost:8080/"
        },
        "id": "9c2XZ3UKrbVx",
        "outputId": "2502c2c8-130b-4188-fb97-c6200c759644"
      },
      "execution_count": 8,
      "outputs": [
        {
          "output_type": "stream",
          "name": "stdout",
          "text": [
            "[]\n"
          ]
        }
      ]
    },
    {
      "cell_type": "code",
      "source": [
        "for number in [0, 1, 2, 3, 4, 5]:\n",
        "    print(number)\n",
        "print('End')"
      ],
      "metadata": {
        "colab": {
          "base_uri": "https://localhost:8080/"
        },
        "id": "eWAET3kysFwh",
        "outputId": "d97a5eb9-0886-4c87-ac3c-6bf803aaebb9"
      },
      "execution_count": 10,
      "outputs": [
        {
          "output_type": "stream",
          "name": "stdout",
          "text": [
            "0\n",
            "1\n",
            "2\n",
            "3\n",
            "4\n",
            "5\n",
            "End\n"
          ]
        }
      ]
    },
    {
      "cell_type": "markdown",
      "source": [
        "### Looking inside Lists\n",
        "\n",
        "\n",
        "---\n",
        "\n",
        "\n",
        "* Just like strings, we can get at any single element in a list using an index specified in **square brackets** [ | ]\n",
        "\n",
        "\n",
        "```\n",
        "fruits = ['Banana', 'Apple', 'Watermelon']\n",
        "```\n",
        "Banana = 0<br>\n",
        "Apple = 1<br>\n",
        "Watermelon = 2<br>"
      ],
      "metadata": {
        "id": "Whakg5z1rkfH"
      }
    },
    {
      "cell_type": "code",
      "source": [
        "fruits = ['Banana', 'Apple', 'Watermelon']\n",
        "print(fruits[1])"
      ],
      "metadata": {
        "colab": {
          "base_uri": "https://localhost:8080/"
        },
        "id": "6SE8R3Phreyx",
        "outputId": "acb89ad3-f063-4cd0-9fb1-7958c45f4478"
      },
      "execution_count": 11,
      "outputs": [
        {
          "output_type": "stream",
          "name": "stdout",
          "text": [
            "Apple\n"
          ]
        }
      ]
    },
    {
      "cell_type": "markdown",
      "source": [
        "### Lists are Mutable\n",
        "\n",
        "\n",
        "---\n",
        "\n",
        "\n",
        "* Strings are **\"immutable\"** - we **can't change** the contents of a string - we must make a new string to make any change\n",
        "\n",
        "* Lists are **\"mutable\"** - we **can change** an element of a list using the **index operator**\n",
        "<br>\n"
      ],
      "metadata": {
        "id": "E8NoZteLt3mk"
      }
    },
    {
      "cell_type": "code",
      "source": [
        "lotto = [2, 14, 26, 41, 63]\n",
        "print(lotto)"
      ],
      "metadata": {
        "colab": {
          "base_uri": "https://localhost:8080/"
        },
        "id": "m-F0WZhOtI82",
        "outputId": "99571702-1f20-4531-b065-0a1ba75b34b3"
      },
      "execution_count": 13,
      "outputs": [
        {
          "output_type": "stream",
          "name": "stdout",
          "text": [
            "[2, 14, 26, 41, 63]\n"
          ]
        }
      ]
    },
    {
      "cell_type": "code",
      "source": [
        "lotto[2] = 28\n",
        "print(lotto)"
      ],
      "metadata": {
        "colab": {
          "base_uri": "https://localhost:8080/"
        },
        "id": "oOO0i856uT7W",
        "outputId": "336db4ef-4dfa-499e-cdf2-63c7b54884c6"
      },
      "execution_count": 14,
      "outputs": [
        {
          "output_type": "stream",
          "name": "stdout",
          "text": [
            "[2, 14, 28, 41, 63]\n"
          ]
        }
      ]
    },
    {
      "cell_type": "code",
      "source": [
        "#error because strings are 'immutable'\n",
        "fruit = 'apple'\n",
        "fruit[0] = 'b'"
      ],
      "metadata": {
        "colab": {
          "base_uri": "https://localhost:8080/",
          "height": 200
        },
        "id": "EJO0t4pbumpQ",
        "outputId": "3539135d-8529-4840-9a39-8ca132c16226"
      },
      "execution_count": 16,
      "outputs": [
        {
          "output_type": "error",
          "ename": "TypeError",
          "evalue": "ignored",
          "traceback": [
            "\u001b[0;31m---------------------------------------------------------------------------\u001b[0m",
            "\u001b[0;31mTypeError\u001b[0m                                 Traceback (most recent call last)",
            "\u001b[0;32m<ipython-input-16-cb3d78f2029f>\u001b[0m in \u001b[0;36m<module>\u001b[0;34m()\u001b[0m\n\u001b[1;32m      1\u001b[0m \u001b[0;31m#error because strings are 'immutable'\u001b[0m\u001b[0;34m\u001b[0m\u001b[0;34m\u001b[0m\u001b[0;34m\u001b[0m\u001b[0m\n\u001b[1;32m      2\u001b[0m \u001b[0mfruit\u001b[0m \u001b[0;34m=\u001b[0m \u001b[0;34m'apple'\u001b[0m\u001b[0;34m\u001b[0m\u001b[0;34m\u001b[0m\u001b[0m\n\u001b[0;32m----> 3\u001b[0;31m \u001b[0mfruit\u001b[0m\u001b[0;34m[\u001b[0m\u001b[0;36m0\u001b[0m\u001b[0;34m]\u001b[0m \u001b[0;34m=\u001b[0m \u001b[0;34m'b'\u001b[0m\u001b[0;34m\u001b[0m\u001b[0;34m\u001b[0m\u001b[0m\n\u001b[0m",
            "\u001b[0;31mTypeError\u001b[0m: 'str' object does not support item assignment"
          ]
        }
      ]
    },
    {
      "cell_type": "markdown",
      "source": [
        "### How Long is a List?\n",
        "\n",
        "\n",
        "---\n",
        "\n",
        "\n",
        "* The **len()** function takes a list as a parameter and returns the number of **elements** in the list\n",
        "\n",
        "* Actually **len()** tell us the number of elemetents of any set or sequence (such as string...)\n"
      ],
      "metadata": {
        "id": "XpxAOhXnvU8e"
      }
    },
    {
      "cell_type": "code",
      "source": [
        "text = 'Hello World!'\n",
        "print(len(text))\n",
        "\n",
        "x = [1, 2, 'joao', 3]\n",
        "print(len(x))"
      ],
      "metadata": {
        "colab": {
          "base_uri": "https://localhost:8080/"
        },
        "id": "-um8ptH5uy8h",
        "outputId": "33c1c31c-5194-41ed-a768-f47407e786fa"
      },
      "execution_count": 17,
      "outputs": [
        {
          "output_type": "stream",
          "name": "stdout",
          "text": [
            "12\n",
            "4\n"
          ]
        }
      ]
    },
    {
      "cell_type": "markdown",
      "source": [
        "### Using the **range** function\n",
        "\n",
        "\n",
        "---\n",
        "\n",
        "\n",
        "* The **range()** function **returns** a ***list of numbers*** that range from **zero** to **one less** than the **parameter**\n",
        "\n",
        "* We can construct an **index loop** using **for** and **integer iterator**\n"
      ],
      "metadata": {
        "id": "aVOMvDLvvxEh"
      }
    },
    {
      "cell_type": "code",
      "source": [
        "print(range(4))"
      ],
      "metadata": {
        "colab": {
          "base_uri": "https://localhost:8080/"
        },
        "id": "g_JNQMQvvttr",
        "outputId": "c572a84d-3621-4355-9faf-b013d513726b"
      },
      "execution_count": 19,
      "outputs": [
        {
          "output_type": "stream",
          "name": "stdout",
          "text": [
            "range(0, 4)\n"
          ]
        }
      ]
    },
    {
      "cell_type": "code",
      "source": [
        "fruits = ['banana', 'apple', 'strawberry']\n",
        "print(len(fruits))"
      ],
      "metadata": {
        "colab": {
          "base_uri": "https://localhost:8080/"
        },
        "id": "GMnZg5oOwJ4i",
        "outputId": "01fcb547-b5ab-443d-c800-bb3b6d6ca27d"
      },
      "execution_count": 20,
      "outputs": [
        {
          "output_type": "stream",
          "name": "stdout",
          "text": [
            "3\n"
          ]
        }
      ]
    },
    {
      "cell_type": "code",
      "source": [
        "print(range(len(fruits)))"
      ],
      "metadata": {
        "colab": {
          "base_uri": "https://localhost:8080/"
        },
        "id": "pTJUvcFCwX_7",
        "outputId": "afe7b8a3-9948-4598-b6ca-45d78f4064f6"
      },
      "execution_count": 21,
      "outputs": [
        {
          "output_type": "stream",
          "name": "stdout",
          "text": [
            "range(0, 3)\n"
          ]
        }
      ]
    },
    {
      "cell_type": "code",
      "source": [
        "#A tale of two loops\n",
        "friends = ['Joao', 'Maria', 'Isabela']\n",
        "print(len(friends))\n",
        "\n",
        "print(range(len(friends)))"
      ],
      "metadata": {
        "colab": {
          "base_uri": "https://localhost:8080/"
        },
        "id": "FmSBjzrMyaSU",
        "outputId": "25d2ebcb-b300-49ff-8731-ba588d664101"
      },
      "execution_count": 26,
      "outputs": [
        {
          "output_type": "stream",
          "name": "stdout",
          "text": [
            "3\n",
            "range(0, 3)\n"
          ]
        }
      ]
    },
    {
      "cell_type": "code",
      "source": [
        "#this loop just gonna through whatever is in the list 'friends'\n",
        "friends = ['Joao', 'Maria', 'Isabela']\n",
        "\n",
        "for friend in friends:\n",
        "    print('Hello my friend,', friend)"
      ],
      "metadata": {
        "colab": {
          "base_uri": "https://localhost:8080/"
        },
        "id": "6z0zFPe-wa6G",
        "outputId": "befc0e19-700b-49e9-a1be-7a0ad1f89e76"
      },
      "execution_count": 25,
      "outputs": [
        {
          "output_type": "stream",
          "name": "stdout",
          "text": [
            "Hello my friend, Joao\n",
            "Hello my friend, Maria\n",
            "Hello my friend, Isabela\n"
          ]
        }
      ]
    },
    {
      "cell_type": "code",
      "source": [
        "#Instead of looping through a list itself, we use the range(len())\n",
        "for i in range(len(friends)):\n",
        "    friend = friends[i]\n",
        "    print('Hello my friend,', friend)"
      ],
      "metadata": {
        "colab": {
          "base_uri": "https://localhost:8080/"
        },
        "id": "08E6rpzSxJul",
        "outputId": "e19bfa7c-6e23-4936-ba10-fb9ba7707543"
      },
      "execution_count": 27,
      "outputs": [
        {
          "output_type": "stream",
          "name": "stdout",
          "text": [
            "Hello my friend, Joao\n",
            "Hello my friend, Maria\n",
            "Hello my friend, Isabela\n"
          ]
        }
      ]
    },
    {
      "cell_type": "markdown",
      "source": [
        "## Working with Lists\n",
        "---\n",
        "### Concatenating lists using '+'\n",
        "\n",
        "\n",
        "* We can create a new list by adding two existing lists together"
      ],
      "metadata": {
        "id": "pcTdhS25zxSp"
      }
    },
    {
      "cell_type": "code",
      "source": [
        "a = [1, 2, 3]\n",
        "b = [4, 5, 6]\n",
        "c = a + b\n",
        "print(c)\n",
        "print(a)"
      ],
      "metadata": {
        "colab": {
          "base_uri": "https://localhost:8080/"
        },
        "id": "wyeRhwXWx-Yr",
        "outputId": "433e34fb-2213-4a59-eb04-649a9b9050c9"
      },
      "execution_count": 31,
      "outputs": [
        {
          "output_type": "stream",
          "name": "stdout",
          "text": [
            "[1, 2, 3, 4, 5, 6]\n",
            "[1, 2, 3]\n"
          ]
        }
      ]
    },
    {
      "cell_type": "markdown",
      "source": [
        "### Lists can be sliced using ':'\n",
        "\n",
        "\n",
        "* Remember: Just like in strings, the second number is **up to but not including**"
      ],
      "metadata": {
        "id": "CWT4WCnK0dwt"
      }
    },
    {
      "cell_type": "code",
      "source": [
        "a = [0, 9, 18, 27, 36, 45, 54, 63, 82, 90]\n",
        "a[1:3]"
      ],
      "metadata": {
        "colab": {
          "base_uri": "https://localhost:8080/"
        },
        "id": "TTaTk0pf0HxK",
        "outputId": "ac5e197c-e9f8-437b-d424-2d42d11a1651"
      },
      "execution_count": 34,
      "outputs": [
        {
          "output_type": "execute_result",
          "data": {
            "text/plain": [
              "[9, 18]"
            ]
          },
          "metadata": {},
          "execution_count": 34
        }
      ]
    },
    {
      "cell_type": "code",
      "source": [
        "a[:4]"
      ],
      "metadata": {
        "colab": {
          "base_uri": "https://localhost:8080/"
        },
        "id": "Q5OXSrcT02Rw",
        "outputId": "7a22d8bb-1404-412e-fb1b-a7275d9f90fb"
      },
      "execution_count": 35,
      "outputs": [
        {
          "output_type": "execute_result",
          "data": {
            "text/plain": [
              "[0, 9, 18, 27]"
            ]
          },
          "metadata": {},
          "execution_count": 35
        }
      ]
    },
    {
      "cell_type": "code",
      "source": [
        "a[2:]"
      ],
      "metadata": {
        "colab": {
          "base_uri": "https://localhost:8080/"
        },
        "id": "HNI7soul054n",
        "outputId": "5af0cdeb-f300-439b-d6b0-582f38a88e5e"
      },
      "execution_count": 36,
      "outputs": [
        {
          "output_type": "execute_result",
          "data": {
            "text/plain": [
              "[18, 27, 36, 45, 54, 63, 82, 90]"
            ]
          },
          "metadata": {},
          "execution_count": 36
        }
      ]
    },
    {
      "cell_type": "code",
      "source": [
        "a[:]"
      ],
      "metadata": {
        "colab": {
          "base_uri": "https://localhost:8080/"
        },
        "id": "CzJRI6AX076X",
        "outputId": "db41a330-aa22-41b3-aefb-4e4bab17e644"
      },
      "execution_count": 37,
      "outputs": [
        {
          "output_type": "execute_result",
          "data": {
            "text/plain": [
              "[0, 9, 18, 27, 36, 45, 54, 63, 82, 90]"
            ]
          },
          "metadata": {},
          "execution_count": 37
        }
      ]
    },
    {
      "cell_type": "code",
      "source": [
        "#List methods\n",
        "x = list()\n",
        "type(x)"
      ],
      "metadata": {
        "colab": {
          "base_uri": "https://localhost:8080/"
        },
        "id": "niIQZH5S1NtB",
        "outputId": "9a9acfe7-305b-4578-9b8f-a9c8042c8d1d"
      },
      "execution_count": 38,
      "outputs": [
        {
          "output_type": "execute_result",
          "data": {
            "text/plain": [
              "list"
            ]
          },
          "metadata": {},
          "execution_count": 38
        }
      ]
    },
    {
      "cell_type": "code",
      "source": [
        "dir(x)"
      ],
      "metadata": {
        "colab": {
          "base_uri": "https://localhost:8080/"
        },
        "id": "55XgLrIt1R7X",
        "outputId": "d9fbc7cc-f992-49da-d2f3-c1449b2a54de"
      },
      "execution_count": 39,
      "outputs": [
        {
          "output_type": "execute_result",
          "data": {
            "text/plain": [
              "['__add__',\n",
              " '__class__',\n",
              " '__contains__',\n",
              " '__delattr__',\n",
              " '__delitem__',\n",
              " '__dir__',\n",
              " '__doc__',\n",
              " '__eq__',\n",
              " '__format__',\n",
              " '__ge__',\n",
              " '__getattribute__',\n",
              " '__getitem__',\n",
              " '__gt__',\n",
              " '__hash__',\n",
              " '__iadd__',\n",
              " '__imul__',\n",
              " '__init__',\n",
              " '__init_subclass__',\n",
              " '__iter__',\n",
              " '__le__',\n",
              " '__len__',\n",
              " '__lt__',\n",
              " '__mul__',\n",
              " '__ne__',\n",
              " '__new__',\n",
              " '__reduce__',\n",
              " '__reduce_ex__',\n",
              " '__repr__',\n",
              " '__reversed__',\n",
              " '__rmul__',\n",
              " '__setattr__',\n",
              " '__setitem__',\n",
              " '__sizeof__',\n",
              " '__str__',\n",
              " '__subclasshook__',\n",
              " 'append',\n",
              " 'clear',\n",
              " 'copy',\n",
              " 'count',\n",
              " 'extend',\n",
              " 'index',\n",
              " 'insert',\n",
              " 'pop',\n",
              " 'remove',\n",
              " 'reverse',\n",
              " 'sort']"
            ]
          },
          "metadata": {},
          "execution_count": 39
        }
      ]
    },
    {
      "cell_type": "markdown",
      "source": [
        "### Building a List from Scratch\n",
        "\n",
        "\n",
        "* We can **create** an **empty list** and then **add elements** using the **append** method\n",
        "\n",
        "* The list stays in order and new elements are **added** at the **end** of the **list**"
      ],
      "metadata": {
        "id": "zkCpDLV71A8w"
      }
    },
    {
      "cell_type": "code",
      "source": [
        "stuffs = list()\n",
        "print(stuffs)"
      ],
      "metadata": {
        "colab": {
          "base_uri": "https://localhost:8080/"
        },
        "id": "Ux62-gm909Be",
        "outputId": "8a3bc1bd-26c5-4fc9-e398-7b4b5649f719"
      },
      "execution_count": 46,
      "outputs": [
        {
          "output_type": "stream",
          "name": "stdout",
          "text": [
            "[]\n"
          ]
        }
      ]
    },
    {
      "cell_type": "code",
      "source": [
        "stuffs.append('book')\n",
        "stuffs.append(100)\n",
        "stuffs.append('Third')\n",
        "print(stuffs)"
      ],
      "metadata": {
        "colab": {
          "base_uri": "https://localhost:8080/"
        },
        "id": "NF71QAPW1ruS",
        "outputId": "ba487f30-68f7-43ab-c58f-754a36fa7c90"
      },
      "execution_count": 47,
      "outputs": [
        {
          "output_type": "stream",
          "name": "stdout",
          "text": [
            "['book', 100, 'Third']\n"
          ]
        }
      ]
    },
    {
      "cell_type": "markdown",
      "source": [
        "### Is something in a List?\n",
        "\n",
        "\n",
        "* Python provides **two operators** that let you **check** if an **item** is in a **list**\n",
        "\n",
        "* These are logical operators that return **True** or **False**\n",
        "\n",
        "* They **do not modify** the list"
      ],
      "metadata": {
        "id": "lpbqHgkG2BfL"
      }
    },
    {
      "cell_type": "code",
      "source": [
        "some = [1, 2, 3, 4, 5, 6]\n",
        "5 in some"
      ],
      "metadata": {
        "colab": {
          "base_uri": "https://localhost:8080/"
        },
        "id": "3yHkBTHG11Bn",
        "outputId": "9fd8d984-fcde-4eb5-d728-730328a4cabb"
      },
      "execution_count": 48,
      "outputs": [
        {
          "output_type": "execute_result",
          "data": {
            "text/plain": [
              "True"
            ]
          },
          "metadata": {},
          "execution_count": 48
        }
      ]
    },
    {
      "cell_type": "code",
      "source": [
        "15 in some"
      ],
      "metadata": {
        "colab": {
          "base_uri": "https://localhost:8080/"
        },
        "id": "M2v2G-IX2WbM",
        "outputId": "862818cd-2da2-4119-dd8e-5ad7b09a2460"
      },
      "execution_count": 49,
      "outputs": [
        {
          "output_type": "execute_result",
          "data": {
            "text/plain": [
              "False"
            ]
          },
          "metadata": {},
          "execution_count": 49
        }
      ]
    },
    {
      "cell_type": "code",
      "source": [
        "20 not in some"
      ],
      "metadata": {
        "colab": {
          "base_uri": "https://localhost:8080/"
        },
        "id": "-Tqo6W9I2XhO",
        "outputId": "20f5f144-cabd-4785-9e0d-dd84d68b411d"
      },
      "execution_count": 50,
      "outputs": [
        {
          "output_type": "execute_result",
          "data": {
            "text/plain": [
              "True"
            ]
          },
          "metadata": {},
          "execution_count": 50
        }
      ]
    },
    {
      "cell_type": "markdown",
      "source": [
        "### Lists are in Order\n",
        "\n",
        "\n",
        "* A list **can hold many items** and **keeps** those items in the **order** until we do something to change the order\n",
        "\n",
        "* A list can be sorted (change its order)\n",
        "\n",
        "* The **sort** method (unlike strings) means \"sort yourself\""
      ],
      "metadata": {
        "id": "_ibKaPMq2bqx"
      }
    },
    {
      "cell_type": "code",
      "source": [
        "friends = ['Joao', 'Maria', 'Isabela']\n",
        "friends.sort()\n",
        "print(friends)"
      ],
      "metadata": {
        "colab": {
          "base_uri": "https://localhost:8080/"
        },
        "id": "XFG51qb02Ykh",
        "outputId": "68a80310-cfcd-4033-949f-3c93363ffdef"
      },
      "execution_count": 54,
      "outputs": [
        {
          "output_type": "stream",
          "name": "stdout",
          "text": [
            "['Isabela', 'Joao', 'Maria']\n"
          ]
        }
      ]
    },
    {
      "cell_type": "markdown",
      "source": [
        "### Built-in Functions and Lists\n",
        "\n",
        "\n",
        "* There are a number of **functions** built into Python that take lists as parameters\n"
      ],
      "metadata": {
        "id": "J30dgTGv3JPw"
      }
    },
    {
      "cell_type": "code",
      "source": [
        "nums = [1, 12, 34, 45, 25, 46, 7]\n",
        "print(len(nums))\n",
        "\n",
        "print(max(nums))\n",
        "\n",
        "print(min(nums))\n",
        "\n",
        "print(sum(nums))\n",
        "\n",
        "print(sum(nums) / len(nums))"
      ],
      "metadata": {
        "colab": {
          "base_uri": "https://localhost:8080/"
        },
        "id": "kFWwnBM122Z2",
        "outputId": "94105d5d-9eaa-47c7-9e07-37d85ce65a43"
      },
      "execution_count": 57,
      "outputs": [
        {
          "output_type": "stream",
          "name": "stdout",
          "text": [
            "7\n",
            "46\n",
            "1\n",
            "170\n",
            "24.285714285714285\n"
          ]
        }
      ]
    },
    {
      "cell_type": "code",
      "source": [
        ""
      ],
      "metadata": {
        "id": "XQetW5Iz3iSH"
      },
      "execution_count": null,
      "outputs": []
    }
  ]
}