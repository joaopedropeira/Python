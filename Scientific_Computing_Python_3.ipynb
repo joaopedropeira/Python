{
  "nbformat": 4,
  "nbformat_minor": 0,
  "metadata": {
    "colab": {
      "name": "Scientific_Computing_Python-3.ipynb",
      "provenance": [],
      "collapsed_sections": [],
      "authorship_tag": "ABX9TyO+fKOEBBYy14YMc6JZBQYN",
      "include_colab_link": true
    },
    "kernelspec": {
      "name": "python3",
      "display_name": "Python 3"
    },
    "language_info": {
      "name": "python"
    }
  },
  "cells": [
    {
      "cell_type": "markdown",
      "metadata": {
        "id": "view-in-github",
        "colab_type": "text"
      },
      "source": [
        "<a href=\"https://colab.research.google.com/github/joaopedropeira/Python/blob/main/Scientific_Computing_Python_3.ipynb\" target=\"_parent\"><img src=\"https://colab.research.google.com/assets/colab-badge.svg\" alt=\"Open In Colab\"/></a>"
      ]
    },
    {
      "cell_type": "markdown",
      "source": [
        "## Python Lists\n",
        "---\n",
        "### Programming\n",
        "\n",
        "\n",
        "* **Algorithms**<br>\n",
        "A set of rules or steps used to solve a problem\n",
        "\n",
        "* **Data Structures**<br>\n",
        "A particualr way of organizing data in a computer\n",
        "<br><br>"
      ],
      "metadata": {
        "id": "cPZIpIMLoUUf"
      }
    },
    {
      "cell_type": "markdown",
      "source": [
        "### What is not a \"Collection\"\n",
        "\n",
        "\n",
        "---\n",
        "\n",
        "\n",
        "* Most of our **variables** have one value in them - when we put a new value in the **variable**, the old value is **overwritten**\n",
        "\n",
        "\n"
      ],
      "metadata": {
        "id": "smxnmuV0oXMG"
      }
    },
    {
      "cell_type": "code",
      "source": [
        "x = 2\n",
        "x = 4\n",
        "print(x)"
      ],
      "metadata": {
        "colab": {
          "base_uri": "https://localhost:8080/"
        },
        "id": "ogG9P-BYpOwc",
        "outputId": "0deba367-fdec-447a-b9f8-c2717049cf19"
      },
      "execution_count": null,
      "outputs": [
        {
          "output_type": "stream",
          "name": "stdout",
          "text": [
            "4\n"
          ]
        }
      ]
    },
    {
      "cell_type": "markdown",
      "source": [
        "### A List is a kind of Collection\n",
        "\n",
        "\n",
        "---\n",
        "\n",
        "\n",
        "* A **collection** allows us to put **many values** in a single \"variable\"\n",
        "\n",
        "* A **collection** is nice because we can carry all **many values** around in one convenient package\n",
        "\n",
        "```\n",
        "friends = ['Joao', 'Maria', 'Isabela']\n",
        "```\n",
        "\n",
        "```\n",
        "fruits = ['Banana', 'Apple', 'Watermelon']\n",
        "```\n",
        "\n"
      ],
      "metadata": {
        "id": "K1RnCNIMpZz6"
      }
    },
    {
      "cell_type": "markdown",
      "source": [
        "### List Constants\n",
        "\n",
        "\n",
        "---\n",
        "\n",
        "\n",
        "* List Constants are **surrounded** by square brackets ([ | ]) and the elements in the list are separated by commas (,)\n",
        "\n",
        "* A list element can be any Python object - even **another list**\n",
        "\n",
        "* A list can be **empty**"
      ],
      "metadata": {
        "id": "4QfvArqkqk_R"
      }
    },
    {
      "cell_type": "code",
      "source": [
        "print([1, 10, 20])"
      ],
      "metadata": {
        "colab": {
          "base_uri": "https://localhost:8080/"
        },
        "id": "Wh6W9LOApQLL",
        "outputId": "714e90ac-ad88-47d0-cd7f-1bfc0a4b47e5"
      },
      "execution_count": null,
      "outputs": [
        {
          "output_type": "stream",
          "name": "stdout",
          "text": [
            "[1, 10, 20]\n"
          ]
        }
      ]
    },
    {
      "cell_type": "code",
      "source": [
        "print(['red', 'green', 'blue'])"
      ],
      "metadata": {
        "colab": {
          "base_uri": "https://localhost:8080/"
        },
        "id": "D3pKZ5JfrCYZ",
        "outputId": "c1d62f23-ea1e-4fa8-c48b-c06e0a461d07"
      },
      "execution_count": null,
      "outputs": [
        {
          "output_type": "stream",
          "name": "stdout",
          "text": [
            "['red', 'green', 'blue']\n"
          ]
        }
      ]
    },
    {
      "cell_type": "code",
      "source": [
        "print(['red', 1, 'blue'])"
      ],
      "metadata": {
        "colab": {
          "base_uri": "https://localhost:8080/"
        },
        "id": "Z1tQZ0prrGHI",
        "outputId": "60307caf-cd66-4c58-b0e1-8b7f6bf53230"
      },
      "execution_count": null,
      "outputs": [
        {
          "output_type": "stream",
          "name": "stdout",
          "text": [
            "['red', 1, 'blue']\n"
          ]
        }
      ]
    },
    {
      "cell_type": "code",
      "source": [
        "print([1, ['red', 'green', 'blue'], 2, 3])"
      ],
      "metadata": {
        "colab": {
          "base_uri": "https://localhost:8080/"
        },
        "id": "XDX0Yf73rLp_",
        "outputId": "449850bc-8717-4ee6-8fee-c1913cb2fb1d"
      },
      "execution_count": null,
      "outputs": [
        {
          "output_type": "stream",
          "name": "stdout",
          "text": [
            "[1, ['red', 'green', 'blue'], 2, 3]\n"
          ]
        }
      ]
    },
    {
      "cell_type": "code",
      "source": [
        "print([])"
      ],
      "metadata": {
        "colab": {
          "base_uri": "https://localhost:8080/"
        },
        "id": "9c2XZ3UKrbVx",
        "outputId": "2502c2c8-130b-4188-fb97-c6200c759644"
      },
      "execution_count": null,
      "outputs": [
        {
          "output_type": "stream",
          "name": "stdout",
          "text": [
            "[]\n"
          ]
        }
      ]
    },
    {
      "cell_type": "code",
      "source": [
        "for number in [0, 1, 2, 3, 4, 5]:\n",
        "    print(number)\n",
        "print('End')"
      ],
      "metadata": {
        "colab": {
          "base_uri": "https://localhost:8080/"
        },
        "id": "eWAET3kysFwh",
        "outputId": "d97a5eb9-0886-4c87-ac3c-6bf803aaebb9"
      },
      "execution_count": null,
      "outputs": [
        {
          "output_type": "stream",
          "name": "stdout",
          "text": [
            "0\n",
            "1\n",
            "2\n",
            "3\n",
            "4\n",
            "5\n",
            "End\n"
          ]
        }
      ]
    },
    {
      "cell_type": "markdown",
      "source": [
        "### Looking inside Lists\n",
        "\n",
        "\n",
        "---\n",
        "\n",
        "\n",
        "* Just like strings, we can get at any single element in a list using an index specified in **square brackets** [ | ]\n",
        "\n",
        "\n",
        "```\n",
        "fruits = ['Banana', 'Apple', 'Watermelon']\n",
        "```\n",
        "Banana = 0<br>\n",
        "Apple = 1<br>\n",
        "Watermelon = 2<br>"
      ],
      "metadata": {
        "id": "Whakg5z1rkfH"
      }
    },
    {
      "cell_type": "code",
      "source": [
        "fruits = ['Banana', 'Apple', 'Watermelon']\n",
        "print(fruits[1])"
      ],
      "metadata": {
        "colab": {
          "base_uri": "https://localhost:8080/"
        },
        "id": "6SE8R3Phreyx",
        "outputId": "acb89ad3-f063-4cd0-9fb1-7958c45f4478"
      },
      "execution_count": null,
      "outputs": [
        {
          "output_type": "stream",
          "name": "stdout",
          "text": [
            "Apple\n"
          ]
        }
      ]
    },
    {
      "cell_type": "markdown",
      "source": [
        "### Lists are Mutable\n",
        "\n",
        "\n",
        "---\n",
        "\n",
        "\n",
        "* Strings are **\"immutable\"** - we **can't change** the contents of a string - we must make a new string to make any change\n",
        "\n",
        "* Lists are **\"mutable\"** - we **can change** an element of a list using the **index operator**\n",
        "<br>\n"
      ],
      "metadata": {
        "id": "E8NoZteLt3mk"
      }
    },
    {
      "cell_type": "code",
      "source": [
        "lotto = [2, 14, 26, 41, 63]\n",
        "print(lotto)"
      ],
      "metadata": {
        "colab": {
          "base_uri": "https://localhost:8080/"
        },
        "id": "m-F0WZhOtI82",
        "outputId": "99571702-1f20-4531-b065-0a1ba75b34b3"
      },
      "execution_count": null,
      "outputs": [
        {
          "output_type": "stream",
          "name": "stdout",
          "text": [
            "[2, 14, 26, 41, 63]\n"
          ]
        }
      ]
    },
    {
      "cell_type": "code",
      "source": [
        "lotto[2] = 28\n",
        "print(lotto)"
      ],
      "metadata": {
        "colab": {
          "base_uri": "https://localhost:8080/"
        },
        "id": "oOO0i856uT7W",
        "outputId": "336db4ef-4dfa-499e-cdf2-63c7b54884c6"
      },
      "execution_count": null,
      "outputs": [
        {
          "output_type": "stream",
          "name": "stdout",
          "text": [
            "[2, 14, 28, 41, 63]\n"
          ]
        }
      ]
    },
    {
      "cell_type": "code",
      "source": [
        "#error because strings are 'immutable'\n",
        "fruit = 'apple'\n",
        "fruit[0] = 'b'"
      ],
      "metadata": {
        "colab": {
          "base_uri": "https://localhost:8080/",
          "height": 200
        },
        "id": "EJO0t4pbumpQ",
        "outputId": "3539135d-8529-4840-9a39-8ca132c16226"
      },
      "execution_count": null,
      "outputs": [
        {
          "output_type": "error",
          "ename": "TypeError",
          "evalue": "ignored",
          "traceback": [
            "\u001b[0;31m---------------------------------------------------------------------------\u001b[0m",
            "\u001b[0;31mTypeError\u001b[0m                                 Traceback (most recent call last)",
            "\u001b[0;32m<ipython-input-16-cb3d78f2029f>\u001b[0m in \u001b[0;36m<module>\u001b[0;34m()\u001b[0m\n\u001b[1;32m      1\u001b[0m \u001b[0;31m#error because strings are 'immutable'\u001b[0m\u001b[0;34m\u001b[0m\u001b[0;34m\u001b[0m\u001b[0;34m\u001b[0m\u001b[0m\n\u001b[1;32m      2\u001b[0m \u001b[0mfruit\u001b[0m \u001b[0;34m=\u001b[0m \u001b[0;34m'apple'\u001b[0m\u001b[0;34m\u001b[0m\u001b[0;34m\u001b[0m\u001b[0m\n\u001b[0;32m----> 3\u001b[0;31m \u001b[0mfruit\u001b[0m\u001b[0;34m[\u001b[0m\u001b[0;36m0\u001b[0m\u001b[0;34m]\u001b[0m \u001b[0;34m=\u001b[0m \u001b[0;34m'b'\u001b[0m\u001b[0;34m\u001b[0m\u001b[0;34m\u001b[0m\u001b[0m\n\u001b[0m",
            "\u001b[0;31mTypeError\u001b[0m: 'str' object does not support item assignment"
          ]
        }
      ]
    },
    {
      "cell_type": "markdown",
      "source": [
        "### How Long is a List?\n",
        "\n",
        "\n",
        "---\n",
        "\n",
        "\n",
        "* The **len()** function takes a list as a parameter and returns the number of **elements** in the list\n",
        "\n",
        "* Actually **len()** tell us the number of elemetents of any set or sequence (such as string...)\n"
      ],
      "metadata": {
        "id": "XpxAOhXnvU8e"
      }
    },
    {
      "cell_type": "code",
      "source": [
        "text = 'Hello World!'\n",
        "print(len(text))\n",
        "\n",
        "x = [1, 2, 'joao', 3]\n",
        "print(len(x))"
      ],
      "metadata": {
        "colab": {
          "base_uri": "https://localhost:8080/"
        },
        "id": "-um8ptH5uy8h",
        "outputId": "33c1c31c-5194-41ed-a768-f47407e786fa"
      },
      "execution_count": null,
      "outputs": [
        {
          "output_type": "stream",
          "name": "stdout",
          "text": [
            "12\n",
            "4\n"
          ]
        }
      ]
    },
    {
      "cell_type": "markdown",
      "source": [
        "### Using the **range** function\n",
        "\n",
        "\n",
        "---\n",
        "\n",
        "\n",
        "* The **range()** function **returns** a ***list of numbers*** that range from **zero** to **one less** than the **parameter**\n",
        "\n",
        "* We can construct an **index loop** using **for** and **integer iterator**\n"
      ],
      "metadata": {
        "id": "aVOMvDLvvxEh"
      }
    },
    {
      "cell_type": "code",
      "source": [
        "print(range(4))"
      ],
      "metadata": {
        "colab": {
          "base_uri": "https://localhost:8080/"
        },
        "id": "g_JNQMQvvttr",
        "outputId": "c572a84d-3621-4355-9faf-b013d513726b"
      },
      "execution_count": null,
      "outputs": [
        {
          "output_type": "stream",
          "name": "stdout",
          "text": [
            "range(0, 4)\n"
          ]
        }
      ]
    },
    {
      "cell_type": "code",
      "source": [
        "fruits = ['banana', 'apple', 'strawberry']\n",
        "print(len(fruits))"
      ],
      "metadata": {
        "colab": {
          "base_uri": "https://localhost:8080/"
        },
        "id": "GMnZg5oOwJ4i",
        "outputId": "01fcb547-b5ab-443d-c800-bb3b6d6ca27d"
      },
      "execution_count": null,
      "outputs": [
        {
          "output_type": "stream",
          "name": "stdout",
          "text": [
            "3\n"
          ]
        }
      ]
    },
    {
      "cell_type": "code",
      "source": [
        "print(range(len(fruits)))"
      ],
      "metadata": {
        "colab": {
          "base_uri": "https://localhost:8080/"
        },
        "id": "pTJUvcFCwX_7",
        "outputId": "afe7b8a3-9948-4598-b6ca-45d78f4064f6"
      },
      "execution_count": null,
      "outputs": [
        {
          "output_type": "stream",
          "name": "stdout",
          "text": [
            "range(0, 3)\n"
          ]
        }
      ]
    },
    {
      "cell_type": "code",
      "source": [
        "#A tale of two loops\n",
        "friends = ['Joao', 'Maria', 'Isabela']\n",
        "print(len(friends))\n",
        "\n",
        "print(range(len(friends)))"
      ],
      "metadata": {
        "colab": {
          "base_uri": "https://localhost:8080/"
        },
        "id": "FmSBjzrMyaSU",
        "outputId": "25d2ebcb-b300-49ff-8731-ba588d664101"
      },
      "execution_count": null,
      "outputs": [
        {
          "output_type": "stream",
          "name": "stdout",
          "text": [
            "3\n",
            "range(0, 3)\n"
          ]
        }
      ]
    },
    {
      "cell_type": "code",
      "source": [
        "#this loop just gonna through whatever is in the list 'friends'\n",
        "friends = ['Joao', 'Maria', 'Isabela']\n",
        "\n",
        "for friend in friends:\n",
        "    print('Hello my friend,', friend)"
      ],
      "metadata": {
        "colab": {
          "base_uri": "https://localhost:8080/"
        },
        "id": "6z0zFPe-wa6G",
        "outputId": "befc0e19-700b-49e9-a1be-7a0ad1f89e76"
      },
      "execution_count": null,
      "outputs": [
        {
          "output_type": "stream",
          "name": "stdout",
          "text": [
            "Hello my friend, Joao\n",
            "Hello my friend, Maria\n",
            "Hello my friend, Isabela\n"
          ]
        }
      ]
    },
    {
      "cell_type": "code",
      "source": [
        "#Instead of looping through a list itself, we use the range(len())\n",
        "for i in range(len(friends)):\n",
        "    friend = friends[i]\n",
        "    print('Hello my friend,', friend)"
      ],
      "metadata": {
        "colab": {
          "base_uri": "https://localhost:8080/"
        },
        "id": "08E6rpzSxJul",
        "outputId": "e19bfa7c-6e23-4936-ba10-fb9ba7707543"
      },
      "execution_count": null,
      "outputs": [
        {
          "output_type": "stream",
          "name": "stdout",
          "text": [
            "Hello my friend, Joao\n",
            "Hello my friend, Maria\n",
            "Hello my friend, Isabela\n"
          ]
        }
      ]
    },
    {
      "cell_type": "markdown",
      "source": [
        "## Working with Lists\n",
        "---\n",
        "### Concatenating lists using '+'\n",
        "\n",
        "\n",
        "* We can create a new list by adding two existing lists together"
      ],
      "metadata": {
        "id": "pcTdhS25zxSp"
      }
    },
    {
      "cell_type": "code",
      "source": [
        "a = [1, 2, 3]\n",
        "b = [4, 5, 6]\n",
        "c = a + b\n",
        "print(c)\n",
        "print(a)"
      ],
      "metadata": {
        "colab": {
          "base_uri": "https://localhost:8080/"
        },
        "id": "wyeRhwXWx-Yr",
        "outputId": "433e34fb-2213-4a59-eb04-649a9b9050c9"
      },
      "execution_count": null,
      "outputs": [
        {
          "output_type": "stream",
          "name": "stdout",
          "text": [
            "[1, 2, 3, 4, 5, 6]\n",
            "[1, 2, 3]\n"
          ]
        }
      ]
    },
    {
      "cell_type": "markdown",
      "source": [
        "### Lists can be sliced using ':'\n",
        "\n",
        "\n",
        "* Remember: Just like in strings, the second number is **up to but not including**"
      ],
      "metadata": {
        "id": "CWT4WCnK0dwt"
      }
    },
    {
      "cell_type": "code",
      "source": [
        "a = [0, 9, 18, 27, 36, 45, 54, 63, 82, 90]\n",
        "a[1:3]"
      ],
      "metadata": {
        "colab": {
          "base_uri": "https://localhost:8080/"
        },
        "id": "TTaTk0pf0HxK",
        "outputId": "ac5e197c-e9f8-437b-d424-2d42d11a1651"
      },
      "execution_count": null,
      "outputs": [
        {
          "output_type": "execute_result",
          "data": {
            "text/plain": [
              "[9, 18]"
            ]
          },
          "metadata": {},
          "execution_count": 34
        }
      ]
    },
    {
      "cell_type": "code",
      "source": [
        "a[:4]"
      ],
      "metadata": {
        "colab": {
          "base_uri": "https://localhost:8080/"
        },
        "id": "Q5OXSrcT02Rw",
        "outputId": "7a22d8bb-1404-412e-fb1b-a7275d9f90fb"
      },
      "execution_count": null,
      "outputs": [
        {
          "output_type": "execute_result",
          "data": {
            "text/plain": [
              "[0, 9, 18, 27]"
            ]
          },
          "metadata": {},
          "execution_count": 35
        }
      ]
    },
    {
      "cell_type": "code",
      "source": [
        "a[2:]"
      ],
      "metadata": {
        "colab": {
          "base_uri": "https://localhost:8080/"
        },
        "id": "HNI7soul054n",
        "outputId": "5af0cdeb-f300-439b-d6b0-582f38a88e5e"
      },
      "execution_count": null,
      "outputs": [
        {
          "output_type": "execute_result",
          "data": {
            "text/plain": [
              "[18, 27, 36, 45, 54, 63, 82, 90]"
            ]
          },
          "metadata": {},
          "execution_count": 36
        }
      ]
    },
    {
      "cell_type": "code",
      "source": [
        "a[:]"
      ],
      "metadata": {
        "colab": {
          "base_uri": "https://localhost:8080/"
        },
        "id": "CzJRI6AX076X",
        "outputId": "db41a330-aa22-41b3-aefb-4e4bab17e644"
      },
      "execution_count": null,
      "outputs": [
        {
          "output_type": "execute_result",
          "data": {
            "text/plain": [
              "[0, 9, 18, 27, 36, 45, 54, 63, 82, 90]"
            ]
          },
          "metadata": {},
          "execution_count": 37
        }
      ]
    },
    {
      "cell_type": "code",
      "source": [
        "#List methods\n",
        "x = list()\n",
        "type(x)"
      ],
      "metadata": {
        "colab": {
          "base_uri": "https://localhost:8080/"
        },
        "id": "niIQZH5S1NtB",
        "outputId": "9a9acfe7-305b-4578-9b8f-a9c8042c8d1d"
      },
      "execution_count": null,
      "outputs": [
        {
          "output_type": "execute_result",
          "data": {
            "text/plain": [
              "list"
            ]
          },
          "metadata": {},
          "execution_count": 38
        }
      ]
    },
    {
      "cell_type": "code",
      "source": [
        "dir(x)"
      ],
      "metadata": {
        "colab": {
          "base_uri": "https://localhost:8080/"
        },
        "id": "55XgLrIt1R7X",
        "outputId": "d9fbc7cc-f992-49da-d2f3-c1449b2a54de"
      },
      "execution_count": null,
      "outputs": [
        {
          "output_type": "execute_result",
          "data": {
            "text/plain": [
              "['__add__',\n",
              " '__class__',\n",
              " '__contains__',\n",
              " '__delattr__',\n",
              " '__delitem__',\n",
              " '__dir__',\n",
              " '__doc__',\n",
              " '__eq__',\n",
              " '__format__',\n",
              " '__ge__',\n",
              " '__getattribute__',\n",
              " '__getitem__',\n",
              " '__gt__',\n",
              " '__hash__',\n",
              " '__iadd__',\n",
              " '__imul__',\n",
              " '__init__',\n",
              " '__init_subclass__',\n",
              " '__iter__',\n",
              " '__le__',\n",
              " '__len__',\n",
              " '__lt__',\n",
              " '__mul__',\n",
              " '__ne__',\n",
              " '__new__',\n",
              " '__reduce__',\n",
              " '__reduce_ex__',\n",
              " '__repr__',\n",
              " '__reversed__',\n",
              " '__rmul__',\n",
              " '__setattr__',\n",
              " '__setitem__',\n",
              " '__sizeof__',\n",
              " '__str__',\n",
              " '__subclasshook__',\n",
              " 'append',\n",
              " 'clear',\n",
              " 'copy',\n",
              " 'count',\n",
              " 'extend',\n",
              " 'index',\n",
              " 'insert',\n",
              " 'pop',\n",
              " 'remove',\n",
              " 'reverse',\n",
              " 'sort']"
            ]
          },
          "metadata": {},
          "execution_count": 39
        }
      ]
    },
    {
      "cell_type": "markdown",
      "source": [
        "### Building a List from Scratch\n",
        "\n",
        "\n",
        "* We can **create** an **empty list** and then **add elements** using the **append** method\n",
        "\n",
        "* The list stays in order and new elements are **added** at the **end** of the **list**"
      ],
      "metadata": {
        "id": "zkCpDLV71A8w"
      }
    },
    {
      "cell_type": "code",
      "source": [
        "stuffs = list()\n",
        "print(stuffs)"
      ],
      "metadata": {
        "colab": {
          "base_uri": "https://localhost:8080/"
        },
        "id": "Ux62-gm909Be",
        "outputId": "8a3bc1bd-26c5-4fc9-e398-7b4b5649f719"
      },
      "execution_count": null,
      "outputs": [
        {
          "output_type": "stream",
          "name": "stdout",
          "text": [
            "[]\n"
          ]
        }
      ]
    },
    {
      "cell_type": "code",
      "source": [
        "stuffs.append('book')\n",
        "stuffs.append(100)\n",
        "stuffs.append('Third')\n",
        "print(stuffs)"
      ],
      "metadata": {
        "colab": {
          "base_uri": "https://localhost:8080/"
        },
        "id": "NF71QAPW1ruS",
        "outputId": "ba487f30-68f7-43ab-c58f-754a36fa7c90"
      },
      "execution_count": null,
      "outputs": [
        {
          "output_type": "stream",
          "name": "stdout",
          "text": [
            "['book', 100, 'Third']\n"
          ]
        }
      ]
    },
    {
      "cell_type": "markdown",
      "source": [
        "### Is something in a List?\n",
        "\n",
        "\n",
        "* Python provides **two operators** that let you **check** if an **item** is in a **list**\n",
        "\n",
        "* These are logical operators that return **True** or **False**\n",
        "\n",
        "* They **do not modify** the list"
      ],
      "metadata": {
        "id": "lpbqHgkG2BfL"
      }
    },
    {
      "cell_type": "code",
      "source": [
        "some = [1, 2, 3, 4, 5, 6]\n",
        "5 in some"
      ],
      "metadata": {
        "colab": {
          "base_uri": "https://localhost:8080/"
        },
        "id": "3yHkBTHG11Bn",
        "outputId": "9fd8d984-fcde-4eb5-d728-730328a4cabb"
      },
      "execution_count": null,
      "outputs": [
        {
          "output_type": "execute_result",
          "data": {
            "text/plain": [
              "True"
            ]
          },
          "metadata": {},
          "execution_count": 48
        }
      ]
    },
    {
      "cell_type": "code",
      "source": [
        "15 in some"
      ],
      "metadata": {
        "colab": {
          "base_uri": "https://localhost:8080/"
        },
        "id": "M2v2G-IX2WbM",
        "outputId": "862818cd-2da2-4119-dd8e-5ad7b09a2460"
      },
      "execution_count": null,
      "outputs": [
        {
          "output_type": "execute_result",
          "data": {
            "text/plain": [
              "False"
            ]
          },
          "metadata": {},
          "execution_count": 49
        }
      ]
    },
    {
      "cell_type": "code",
      "source": [
        "20 not in some"
      ],
      "metadata": {
        "colab": {
          "base_uri": "https://localhost:8080/"
        },
        "id": "-Tqo6W9I2XhO",
        "outputId": "20f5f144-cabd-4785-9e0d-dd84d68b411d"
      },
      "execution_count": null,
      "outputs": [
        {
          "output_type": "execute_result",
          "data": {
            "text/plain": [
              "True"
            ]
          },
          "metadata": {},
          "execution_count": 50
        }
      ]
    },
    {
      "cell_type": "markdown",
      "source": [
        "### Lists are in Order\n",
        "\n",
        "\n",
        "* A list **can hold many items** and **keeps** those items in the **order** until we do something to change the order\n",
        "\n",
        "* A list can be sorted (change its order)\n",
        "\n",
        "* The **sort** method (unlike strings) means \"sort yourself\""
      ],
      "metadata": {
        "id": "_ibKaPMq2bqx"
      }
    },
    {
      "cell_type": "code",
      "source": [
        "friends = ['Joao', 'Maria', 'Isabela']\n",
        "friends.sort()\n",
        "print(friends)"
      ],
      "metadata": {
        "colab": {
          "base_uri": "https://localhost:8080/"
        },
        "id": "XFG51qb02Ykh",
        "outputId": "68a80310-cfcd-4033-949f-3c93363ffdef"
      },
      "execution_count": null,
      "outputs": [
        {
          "output_type": "stream",
          "name": "stdout",
          "text": [
            "['Isabela', 'Joao', 'Maria']\n"
          ]
        }
      ]
    },
    {
      "cell_type": "markdown",
      "source": [
        "### Built-in Functions and Lists\n",
        "\n",
        "\n",
        "* There are a number of **functions** built into Python that take lists as parameters\n"
      ],
      "metadata": {
        "id": "J30dgTGv3JPw"
      }
    },
    {
      "cell_type": "code",
      "source": [
        "nums = [1, 12, 34, 45, 25, 46, 7]\n",
        "print(len(nums))\n",
        "\n",
        "print(max(nums))\n",
        "\n",
        "print(min(nums))\n",
        "\n",
        "print(sum(nums))\n",
        "\n",
        "print(sum(nums) / len(nums))"
      ],
      "metadata": {
        "colab": {
          "base_uri": "https://localhost:8080/"
        },
        "id": "kFWwnBM122Z2",
        "outputId": "94105d5d-9eaa-47c7-9e07-37d85ce65a43"
      },
      "execution_count": null,
      "outputs": [
        {
          "output_type": "stream",
          "name": "stdout",
          "text": [
            "7\n",
            "46\n",
            "1\n",
            "170\n",
            "24.285714285714285\n"
          ]
        }
      ]
    },
    {
      "cell_type": "markdown",
      "source": [
        "## Strings and Lists\n",
        "---\n",
        "\n",
        "* Split function\n",
        "\n",
        "* Split **breaks** a string into **parts** and p**roduces** a **list of strings**. We think of these as words. We can access a particular word or loop through all the words\n",
        "\n",
        "* When you **don't specify a delimiter**, multiple spaces are treated like **one delimiter**\n",
        "\n",
        "* You **can specify** what **delimiter character** to use in the spliting"
      ],
      "metadata": {
        "id": "37LH3GTmk_8L"
      }
    },
    {
      "cell_type": "code",
      "source": [
        "abc = 'With three words'\n",
        "stuff = abc.split()\n",
        "print(stuff)"
      ],
      "metadata": {
        "id": "XQetW5Iz3iSH",
        "colab": {
          "base_uri": "https://localhost:8080/"
        },
        "outputId": "32377f03-53e7-4e71-ec3e-37ae08b34213"
      },
      "execution_count": null,
      "outputs": [
        {
          "output_type": "stream",
          "name": "stdout",
          "text": [
            "['With', 'three', 'words']\n"
          ]
        }
      ]
    },
    {
      "cell_type": "code",
      "source": [
        "print(len(stuff))\n",
        "\n",
        "print(stuff[0])"
      ],
      "metadata": {
        "colab": {
          "base_uri": "https://localhost:8080/"
        },
        "id": "KA7K_jLglgIG",
        "outputId": "d63a7953-b698-4450-9170-cfd9e4943430"
      },
      "execution_count": null,
      "outputs": [
        {
          "output_type": "stream",
          "name": "stdout",
          "text": [
            "3\n",
            "With\n"
          ]
        }
      ]
    },
    {
      "cell_type": "code",
      "source": [
        "for word in stuff:\n",
        "    print(word)"
      ],
      "metadata": {
        "colab": {
          "base_uri": "https://localhost:8080/"
        },
        "id": "MrGE_0Q2lnP4",
        "outputId": "c2780b8b-90ad-49a3-896c-7ab79fa060dc"
      },
      "execution_count": null,
      "outputs": [
        {
          "output_type": "stream",
          "name": "stdout",
          "text": [
            "With\n",
            "three\n",
            "words\n"
          ]
        }
      ]
    },
    {
      "cell_type": "code",
      "source": [
        "#Without specifying a delimiter, *multiple spaces are treated like one*\n",
        "line = 'A lot of             spaces'\n",
        "etc = line.split()\n",
        "print(etc)"
      ],
      "metadata": {
        "colab": {
          "base_uri": "https://localhost:8080/"
        },
        "id": "qR7r8rMClsiQ",
        "outputId": "ddff070e-172d-40d1-91a9-2f2ca6214c64"
      },
      "execution_count": null,
      "outputs": [
        {
          "output_type": "stream",
          "name": "stdout",
          "text": [
            "['A', 'lot', 'of', 'spaces']\n"
          ]
        }
      ]
    },
    {
      "cell_type": "code",
      "source": [
        "line = 'first;second;third'\n",
        "thing = line.split()\n",
        "print(thing)"
      ],
      "metadata": {
        "colab": {
          "base_uri": "https://localhost:8080/"
        },
        "id": "igT1VdP_ms5o",
        "outputId": "0a1e9f61-416f-43c2-fba7-acb69b53f5a5"
      },
      "execution_count": null,
      "outputs": [
        {
          "output_type": "stream",
          "name": "stdout",
          "text": [
            "['first;second;third']\n"
          ]
        }
      ]
    },
    {
      "cell_type": "code",
      "source": [
        "print(len(thing))"
      ],
      "metadata": {
        "colab": {
          "base_uri": "https://localhost:8080/"
        },
        "id": "zqiYvbaumykO",
        "outputId": "c421ef9d-2e6a-4c27-fe77-1baa83be7ee0"
      },
      "execution_count": null,
      "outputs": [
        {
          "output_type": "stream",
          "name": "stdout",
          "text": [
            "1\n"
          ]
        }
      ]
    },
    {
      "cell_type": "code",
      "source": [
        "#Specifying a delimiter\n",
        "line2 = 'first;second;third'\n",
        "thing2 = line2.split(';')\n",
        "print(thing2)"
      ],
      "metadata": {
        "colab": {
          "base_uri": "https://localhost:8080/"
        },
        "id": "DKaFn_yEm9BM",
        "outputId": "33bf8012-acb4-4cc2-eb59-bec4f5f49441"
      },
      "execution_count": null,
      "outputs": [
        {
          "output_type": "stream",
          "name": "stdout",
          "text": [
            "['first', 'second', 'third']\n"
          ]
        }
      ]
    },
    {
      "cell_type": "code",
      "source": [
        "print(len(thing2))"
      ],
      "metadata": {
        "colab": {
          "base_uri": "https://localhost:8080/"
        },
        "id": "XTTlHzwBnI2D",
        "outputId": "9235d15f-68c9-4d64-da5a-6d86c6f8ff11"
      },
      "execution_count": null,
      "outputs": [
        {
          "output_type": "stream",
          "name": "stdout",
          "text": [
            "3\n"
          ]
        }
      ]
    },
    {
      "cell_type": "markdown",
      "source": [
        "### The Double Split Pattern\n",
        "---\n",
        "\n",
        "* Sometimes we **split a line one way**, and then grab one of the pieces of the line and **split that piece again**\n",
        "\n",
        "* For example, we want to achieve the part **after of the @ sign** for e-mail addresses:"
      ],
      "metadata": {
        "id": "ZbmeqH-Nnswu"
      }
    },
    {
      "cell_type": "code",
      "source": [
        "line = 'From joaopedromarques76@gmail.com Sat Jan 5 09:14:16 2022'\n",
        "\n",
        "words = line.split()\n",
        "email = words[1]\n",
        "print(email)"
      ],
      "metadata": {
        "colab": {
          "base_uri": "https://localhost:8080/"
        },
        "id": "djoCmyR2nKX0",
        "outputId": "43c36faf-8d54-4c9a-8a03-879fe8265d65"
      },
      "execution_count": null,
      "outputs": [
        {
          "output_type": "stream",
          "name": "stdout",
          "text": [
            "joaopedromarques76@gmail.com\n"
          ]
        }
      ]
    },
    {
      "cell_type": "code",
      "source": [
        "piece = email.split('@')\n",
        "print(x[1])"
      ],
      "metadata": {
        "colab": {
          "base_uri": "https://localhost:8080/"
        },
        "id": "aaMBJDk6oPlx",
        "outputId": "965bd338-bb78-48f7-c29e-7fe1b698460a"
      },
      "execution_count": null,
      "outputs": [
        {
          "output_type": "stream",
          "name": "stdout",
          "text": [
            "gmail.com\n"
          ]
        }
      ]
    },
    {
      "cell_type": "markdown",
      "source": [
        "## Python Dictionaries\n",
        "\n",
        "\n",
        "### List and Dictionary...\n",
        "\n",
        "* List is a linear collection of values that stay in order\n",
        "\n",
        "\n",
        "* Dictionary is a \"bag\" of values, each with its own label\n"
      ],
      "metadata": {
        "id": "Rw7g5WNQpB5A"
      }
    },
    {
      "cell_type": "markdown",
      "source": [
        "### Dictionary - **Key Value Pairs**\n",
        "\n",
        "* Dictionaries allow us to do **fast database-like operations** in Python\n",
        "\n",
        "* Dictionaries have different names in different languagues<br>\n",
        "Property Bag - C#/.NET<br>\n",
        "Properties or Map or HashMap - Java\n",
        "\n",
        "* List **index** their entries based on the **position** in the list\n",
        "\n",
        "* Dictionaries have **no order**\n",
        "\n",
        "* So we index the things we put in the dictionary with a **\"lookup tag\"**"
      ],
      "metadata": {
        "id": "_oku9IN1vHJY"
      }
    },
    {
      "cell_type": "code",
      "source": [
        "purse = dict()\n",
        "purse ['money'] = 12\n",
        "purse ['candy'] = 3\n",
        "purse ['tissues'] = 75\n",
        "print(purse)"
      ],
      "metadata": {
        "id": "jUtaKQ9JpF8a",
        "colab": {
          "base_uri": "https://localhost:8080/"
        },
        "outputId": "16645866-2751-4010-b5b7-4f6f2ae8667c"
      },
      "execution_count": null,
      "outputs": [
        {
          "output_type": "stream",
          "name": "stdout",
          "text": [
            "{'money': 12, 'candy': 3, 'tissues': 75}\n"
          ]
        }
      ]
    },
    {
      "cell_type": "code",
      "source": [
        "print(purse['candy'])"
      ],
      "metadata": {
        "colab": {
          "base_uri": "https://localhost:8080/"
        },
        "id": "gvYn5E2VwWI0",
        "outputId": "217b1bd4-5898-485e-db38-a5e6e63e0058"
      },
      "execution_count": null,
      "outputs": [
        {
          "output_type": "stream",
          "name": "stdout",
          "text": [
            "3\n"
          ]
        }
      ]
    },
    {
      "cell_type": "code",
      "source": [
        "purse['candy'] = purse['candy'] + 2\n",
        "print(purse)"
      ],
      "metadata": {
        "colab": {
          "base_uri": "https://localhost:8080/"
        },
        "id": "JUlrxntowgNY",
        "outputId": "f36f1933-32e9-4e3a-ca0b-8f976c7d5df9"
      },
      "execution_count": null,
      "outputs": [
        {
          "output_type": "stream",
          "name": "stdout",
          "text": [
            "{'money': 12, 'candy': 5, 'tissues': 75}\n"
          ]
        }
      ]
    },
    {
      "cell_type": "markdown",
      "source": [
        "### Comparing Lists and Dictionaries\n",
        "\n",
        "* Dictionaries are like lists except that they **use keys** instead of numbers to **lookup values**"
      ],
      "metadata": {
        "id": "DZAFgHQkxCBu"
      }
    },
    {
      "cell_type": "code",
      "source": [
        "#list\n",
        "mylist = list()\n",
        "mylist.append(21)\n",
        "mylist.append(13)\n",
        "print(mylist)\n",
        "mylist[0]"
      ],
      "metadata": {
        "colab": {
          "base_uri": "https://localhost:8080/"
        },
        "id": "DHU6bNBlwlvX",
        "outputId": "c1ed07df-e53d-4dfb-88dd-d81c920980e1"
      },
      "execution_count": null,
      "outputs": [
        {
          "output_type": "stream",
          "name": "stdout",
          "text": [
            "[21, 13]\n"
          ]
        },
        {
          "output_type": "execute_result",
          "data": {
            "text/plain": [
              "21"
            ]
          },
          "metadata": {},
          "execution_count": 6
        }
      ]
    },
    {
      "cell_type": "code",
      "source": [
        "#dictionary\n",
        "ddd = dict()\n",
        "ddd['age'] = 21\n",
        "ddd['course'] = 182\n",
        "print(ddd)"
      ],
      "metadata": {
        "colab": {
          "base_uri": "https://localhost:8080/"
        },
        "id": "hojl6FyAxVP2",
        "outputId": "65c54414-b166-4cb6-cb1b-4faffde029c4"
      },
      "execution_count": null,
      "outputs": [
        {
          "output_type": "stream",
          "name": "stdout",
          "text": [
            "{'age': 22, 'course': 182}\n"
          ]
        }
      ]
    },
    {
      "cell_type": "code",
      "source": [
        "ddd['age'] = 22\n",
        "print(ddd)"
      ],
      "metadata": {
        "colab": {
          "base_uri": "https://localhost:8080/"
        },
        "id": "5RBeu-yExkAi",
        "outputId": "7941e0de-091c-4d28-8d46-61d6029c0942"
      },
      "execution_count": null,
      "outputs": [
        {
          "output_type": "stream",
          "name": "stdout",
          "text": [
            "{'age': 22, 'course': 182}\n"
          ]
        }
      ]
    },
    {
      "cell_type": "markdown",
      "source": [
        "### Dictionaries Literals (Constants)\n",
        "\n",
        "* Dictionary literals use curly braces and have a list of **key : value pairs**\n",
        "\n",
        "* You can make an **empty dictionary** using empty curly braces"
      ],
      "metadata": {
        "id": "-Wgas-_EyE8e"
      }
    },
    {
      "cell_type": "code",
      "source": [
        "my_dictionary = {'joao' : 1, 'maria' : 2, 'jose' : 3}\n",
        "print(my_dictionary)"
      ],
      "metadata": {
        "colab": {
          "base_uri": "https://localhost:8080/"
        },
        "id": "wJXunyNXxo_w",
        "outputId": "1017b2c6-c82e-44f2-f23b-7deb5095ac36"
      },
      "execution_count": null,
      "outputs": [
        {
          "output_type": "stream",
          "name": "stdout",
          "text": [
            "{'joao': 1, 'maria': 2, 'jose': 3}\n"
          ]
        }
      ]
    },
    {
      "cell_type": "code",
      "source": [
        "my_empty_dictionary = {}\n",
        "print(my_empty_dictionary)"
      ],
      "metadata": {
        "colab": {
          "base_uri": "https://localhost:8080/"
        },
        "id": "6IIdrT8Lygt-",
        "outputId": "f996ce88-527e-4ba0-bb08-6b3fb75b7534"
      },
      "execution_count": null,
      "outputs": [
        {
          "output_type": "stream",
          "name": "stdout",
          "text": [
            "{}\n"
          ]
        }
      ]
    },
    {
      "cell_type": "code",
      "source": [
        "my_dict = {\"Fri\": 20, \"Thu\": 6, \"Sat\": 1}\n",
        "my_dict[\"Thu\"] = 13\n",
        "my_dict[\"Sat\"] = 2\n",
        "my_dict[\"Sun\"] = 9\n",
        "print(my_dict)"
      ],
      "metadata": {
        "colab": {
          "base_uri": "https://localhost:8080/"
        },
        "id": "cDZXmUy1yqzi",
        "outputId": "f6a4e213-e50a-4cb8-db77-5335597aa60c"
      },
      "execution_count": null,
      "outputs": [
        {
          "output_type": "stream",
          "name": "stdout",
          "text": [
            "{'Fri': 20, 'Thu': 13, 'Sat': 2, 'Sun': 9}\n"
          ]
        }
      ]
    },
    {
      "cell_type": "markdown",
      "source": [
        "## One of the Common Applications of Dictionaries: Counting the Frequency of Thigns\n",
        "\n",
        "### Many Counters with a Dictionary\n",
        "\n",
        "* One common use of dictionaries is **counting** how often we 'see' something\n"
      ],
      "metadata": {
        "id": "mULXJwYjzFO6"
      }
    },
    {
      "cell_type": "code",
      "source": [
        "dictionary1 = {\"joao\": 1, \"maria\": 2}\n",
        "print(dictionary1)"
      ],
      "metadata": {
        "colab": {
          "base_uri": "https://localhost:8080/"
        },
        "id": "WPA15AvZy9MI",
        "outputId": "2b4f476b-d432-468b-a6a8-145a887e5120"
      },
      "execution_count": null,
      "outputs": [
        {
          "output_type": "stream",
          "name": "stdout",
          "text": [
            "{'joao': 1, 'maria': 2}\n"
          ]
        }
      ]
    },
    {
      "cell_type": "code",
      "source": [
        "dictionary1['joao'] = dictionary1['joao'] + 2\n",
        "print(dictionary1)"
      ],
      "metadata": {
        "id": "22X-XsWt0MbT",
        "colab": {
          "base_uri": "https://localhost:8080/"
        },
        "outputId": "7f44801d-6f4c-430c-f33e-d570a20c8322"
      },
      "execution_count": null,
      "outputs": [
        {
          "output_type": "stream",
          "name": "stdout",
          "text": [
            "{'joao': 3, 'maria': 2}\n"
          ]
        }
      ]
    },
    {
      "cell_type": "markdown",
      "source": [
        "### Dictionary Tracebacks \n",
        "\n",
        "* It is an **error** to **reference** a **key** which **is not in** the **dictionary**\n",
        "\n",
        "* We can use the **in** operator to see if a **key** is in the **dictionary**"
      ],
      "metadata": {
        "id": "XX7EyRZq10_I"
      }
    },
    {
      "cell_type": "code",
      "source": [
        "print(dictionary1)"
      ],
      "metadata": {
        "colab": {
          "base_uri": "https://localhost:8080/"
        },
        "id": "HPBHHcbQ1g8R",
        "outputId": "68b08a07-fa29-452e-942b-d6434a7acb83"
      },
      "execution_count": null,
      "outputs": [
        {
          "output_type": "stream",
          "name": "stdout",
          "text": [
            "{'joao': 3, 'maria': 2}\n"
          ]
        }
      ]
    },
    {
      "cell_type": "code",
      "source": [
        "#Traceback\n",
        "print(dictionary1['jose'])"
      ],
      "metadata": {
        "colab": {
          "base_uri": "https://localhost:8080/",
          "height": 165
        },
        "id": "ckMqiMA82JK6",
        "outputId": "12cba15f-dc2a-421b-83aa-3915ff3a2e74"
      },
      "execution_count": null,
      "outputs": [
        {
          "output_type": "error",
          "ename": "KeyError",
          "evalue": "ignored",
          "traceback": [
            "\u001b[0;31m---------------------------------------------------------------------------\u001b[0m",
            "\u001b[0;31mKeyError\u001b[0m                                  Traceback (most recent call last)",
            "\u001b[0;32m<ipython-input-42-288b5ac01bc2>\u001b[0m in \u001b[0;36m<module>\u001b[0;34m()\u001b[0m\n\u001b[0;32m----> 1\u001b[0;31m \u001b[0mprint\u001b[0m\u001b[0;34m(\u001b[0m\u001b[0mdictionary1\u001b[0m\u001b[0;34m[\u001b[0m\u001b[0;34m'jose'\u001b[0m\u001b[0;34m]\u001b[0m\u001b[0;34m)\u001b[0m\u001b[0;34m\u001b[0m\u001b[0;34m\u001b[0m\u001b[0m\n\u001b[0m",
            "\u001b[0;31mKeyError\u001b[0m: 'jose'"
          ]
        }
      ]
    },
    {
      "cell_type": "code",
      "source": [
        "'jose' in dictionary1\n",
        "#with this we can say: \"If its not there, put it in. If it is there, add one to it\""
      ],
      "metadata": {
        "colab": {
          "base_uri": "https://localhost:8080/"
        },
        "id": "_QhS-OHE2hiV",
        "outputId": "23b0ebcd-37e5-4d63-ab86-d9fd354cc50b"
      },
      "execution_count": null,
      "outputs": [
        {
          "output_type": "execute_result",
          "data": {
            "text/plain": [
              "False"
            ]
          },
          "metadata": {},
          "execution_count": 43
        }
      ]
    },
    {
      "cell_type": "markdown",
      "source": [
        "### Counting Names...\n",
        "\n",
        "* When we see a new name, we need to **add** a **new entry** in the **dictionary** and if this is the **second** or **later** **time** we have seen the name, we simply **add one** to the **count** in the **dictionary** under that name"
      ],
      "metadata": {
        "id": "KzgP4vKl26vE"
      }
    },
    {
      "cell_type": "code",
      "source": [
        "#creating an empty *list*\n",
        "counts = {}\n",
        "\n",
        "#creating a list of names\n",
        "names = ['Joao', 'Maria', 'Jose', 'Joao', 'Marco']\n",
        "\n",
        "#couting names\n",
        "for name in names:\n",
        "    if name not in counts:\n",
        "        counts[name] = 1\n",
        "    else:\n",
        "        counts[name] = counts[name] + 1\n",
        "print(counts)"
      ],
      "metadata": {
        "colab": {
          "base_uri": "https://localhost:8080/"
        },
        "id": "9kftkEMe2mRd",
        "outputId": "47c10157-f038-4640-fa92-851468f79204"
      },
      "execution_count": null,
      "outputs": [
        {
          "output_type": "stream",
          "name": "stdout",
          "text": [
            "{'Joao': 2, 'Maria': 1, 'Jose': 1, 'Marco': 1}\n"
          ]
        }
      ]
    },
    {
      "cell_type": "markdown",
      "source": [
        "### The **Get** method for dictionaries\n",
        "\n",
        "* The **pattern** of **checking** to see if a **key** is **already** in a **dictionary** and **assuming** a **default value** if the **key is not there** is so c**ommon** that there is a **method** called **get()** that **does this** for us\n",
        "\n",
        "* Default value if key does not exist (and no Traceback)"
      ],
      "metadata": {
        "id": "htTY-Iet5Hr2"
      }
    },
    {
      "cell_type": "code",
      "source": [
        "if name in counts:\n",
        "    x = counts[name]\n",
        "else:\n",
        "    x = 0\n",
        "\n",
        "#the method get collapses these 4 lines into one line\n",
        "x = counts.get(name, 0)"
      ],
      "metadata": {
        "id": "Rfw4Ua833kY9"
      },
      "execution_count": null,
      "outputs": []
    },
    {
      "cell_type": "markdown",
      "source": [
        "### Simplified couting with get()\n",
        "\n",
        "* We can use **get()** and provide a **default value** of **zero** when the **key* is **not yet in the dictionary** - and then just add one"
      ],
      "metadata": {
        "id": "DDKpmfb66PxZ"
      }
    },
    {
      "cell_type": "code",
      "source": [
        "#creating an empty *list*\n",
        "counts = {}\n",
        "\n",
        "#creating a list of names\n",
        "names = ['Joao', 'Maria', 'Jose', 'Joao', 'Marco']\n",
        "\n",
        "for name in names:\n",
        "    counts[name] = counts.get(name,0) + 1\n",
        "\n",
        "print(counts)"
      ],
      "metadata": {
        "colab": {
          "base_uri": "https://localhost:8080/"
        },
        "id": "64CEimZW5vZA",
        "outputId": "9622af8d-4ed7-4918-c42a-16f7b5913674"
      },
      "execution_count": null,
      "outputs": [
        {
          "output_type": "stream",
          "name": "stdout",
          "text": [
            "{'Joao': 2, 'Maria': 1, 'Jose': 1, 'Marco': 1}\n"
          ]
        }
      ]
    },
    {
      "cell_type": "code",
      "source": [
        "#in this example, we creted a dictionary with the keys: quincy, mrugesh, beau and 0. \n",
        "#In the print, we are looking for the value 'kris', if not existis, print the default value '0'\n",
        "#If exists, print the value of that key\n",
        "counts = { 'quincy' : 1 , 'mrugesh' : 42, 'beau': 100, '0': 10}\n",
        "print(counts.get('kris', 0))"
      ],
      "metadata": {
        "colab": {
          "base_uri": "https://localhost:8080/"
        },
        "id": "f5OcjeIa50BP",
        "outputId": "8df9f033-de9b-42a6-b453-3c0e671920ef"
      },
      "execution_count": null,
      "outputs": [
        {
          "output_type": "stream",
          "name": "stdout",
          "text": [
            "0\n"
          ]
        }
      ]
    },
    {
      "cell_type": "markdown",
      "source": [
        "## Dictionaries and Loops\n",
        "\n",
        "### Counting Pattern\n",
        "\n",
        "* The general pattern to count the words in a line of text is just to **split** the **line** into **words**, then **loop through** the **words** and use a **dictionary** to **track the count** of **each word independently**\n"
      ],
      "metadata": {
        "id": "W34gGNCg767g"
      }
    },
    {
      "cell_type": "code",
      "source": [
        "lorem_dict = {}\n",
        "print('Enter here a line of text:')\n",
        "line = input('')\n",
        "\n",
        "words = line.split()\n",
        "print('Your line of text:', line)\n",
        "print('Words of that line:', words)\n",
        "\n",
        "print('Counting...')\n",
        "\n",
        "for word in words:\n",
        "    lorem_dict[word] = lorem_dict.get(word,0)+1\n",
        "print('Counts', lorem_dict)"
      ],
      "metadata": {
        "colab": {
          "base_uri": "https://localhost:8080/"
        },
        "id": "dK0uNH_d7mX4",
        "outputId": "94392207-0dcc-4628-b962-a9e89fb39efd"
      },
      "execution_count": null,
      "outputs": [
        {
          "output_type": "stream",
          "name": "stdout",
          "text": [
            "Enter here a line of text:\n",
            "Coffee with milk or Coffee with water?\n",
            "Your line of text: Coffee with milk or Coffee with water?\n",
            "Words of that line: ['Coffee', 'with', 'milk', 'or', 'Coffee', 'with', 'water?']\n",
            "Counting...\n",
            "Counts {'Coffee': 2, 'with': 2, 'milk': 1, 'or': 1, 'water?': 1}\n"
          ]
        }
      ]
    },
    {
      "cell_type": "markdown",
      "source": [
        "### Definite Loops and Dictionaries\n",
        "\n",
        "* Even though dictionaries are not stored in order, we **can write** a **for loop** that **goes through all the entries in a dictionary** - **actually** it **goes** **thorugh** all of the **keys** in the **dictionary** and **looks up** the **values**\n"
      ],
      "metadata": {
        "id": "v6E7cEHM_xU-"
      }
    },
    {
      "cell_type": "code",
      "source": [
        "counts = {'chuck' : 1, 'annie' : 42, 'jan' : 100}\n",
        "\n",
        "for key in counts:\n",
        "    print(key, counts[key])"
      ],
      "metadata": {
        "id": "cfaaxMMU9RzX",
        "colab": {
          "base_uri": "https://localhost:8080/"
        },
        "outputId": "a6e8bb00-3e3a-4f11-d77b-e97b05a5929c"
      },
      "execution_count": 4,
      "outputs": [
        {
          "output_type": "stream",
          "name": "stdout",
          "text": [
            "chuck 1\n",
            "annie 42\n",
            "jan 100\n"
          ]
        }
      ]
    },
    {
      "cell_type": "code",
      "source": [
        "print(counts['annie'])"
      ],
      "metadata": {
        "colab": {
          "base_uri": "https://localhost:8080/"
        },
        "id": "V50T22VDosjt",
        "outputId": "6ce49408-5a6e-436f-ea61-9ed9948dd14e"
      },
      "execution_count": 7,
      "outputs": [
        {
          "output_type": "stream",
          "name": "stdout",
          "text": [
            "42\n"
          ]
        }
      ]
    },
    {
      "cell_type": "code",
      "source": [
        "counts = { 'chuck' : 1 , 'annie' : 42, 'jan': 100}\n",
        "for key in counts:\n",
        "    if counts[key] > 10:\n",
        "        print(key, counts[key])"
      ],
      "metadata": {
        "colab": {
          "base_uri": "https://localhost:8080/"
        },
        "id": "88raeDUYntne",
        "outputId": "f265be51-ad95-4fd1-f12d-71a8572b1604"
      },
      "execution_count": 3,
      "outputs": [
        {
          "output_type": "stream",
          "name": "stdout",
          "text": [
            "annie 42\n",
            "jan 100\n"
          ]
        }
      ]
    },
    {
      "cell_type": "markdown",
      "source": [
        "### Retrieving lists of Keys and Values\n",
        "\n",
        "* You can get a **list** of **keys**, **values** or **items** (both) from a **dictionary**\n"
      ],
      "metadata": {
        "id": "LI__6s5_o2Of"
      }
    },
    {
      "cell_type": "code",
      "source": [
        "#Keys as result\n",
        "counts = { 'chuck' : 1 , 'annie' : 42, 'jan': 100}\n",
        "print(list(counts))"
      ],
      "metadata": {
        "colab": {
          "base_uri": "https://localhost:8080/"
        },
        "id": "1iMaVBYtoDjB",
        "outputId": "e3c2c472-d9b8-4bde-f143-b1db991dac46"
      },
      "execution_count": 15,
      "outputs": [
        {
          "output_type": "stream",
          "name": "stdout",
          "text": [
            "['chuck', 'annie', 'jan']\n"
          ]
        }
      ]
    },
    {
      "cell_type": "code",
      "source": [
        "#Values as result\n",
        "print(counts.values())"
      ],
      "metadata": {
        "colab": {
          "base_uri": "https://localhost:8080/"
        },
        "id": "w4rbHAt7pRp5",
        "outputId": "ec2f35e4-d1b0-4e4d-b037-1b3a984c8c96"
      },
      "execution_count": 12,
      "outputs": [
        {
          "output_type": "stream",
          "name": "stdout",
          "text": [
            "dict_values([1, 42, 100])\n"
          ]
        }
      ]
    },
    {
      "cell_type": "code",
      "source": [
        "#Items (Key & Values) as result\n",
        "print(counts.items())"
      ],
      "metadata": {
        "colab": {
          "base_uri": "https://localhost:8080/"
        },
        "id": "F3ztU_E3pmVF",
        "outputId": "898b35a4-02b9-461f-8e68-93e2705dcc82"
      },
      "execution_count": 14,
      "outputs": [
        {
          "output_type": "stream",
          "name": "stdout",
          "text": [
            "dict_items([('chuck', 1), ('annie', 42), ('jan', 100)])\n"
          ]
        }
      ]
    },
    {
      "cell_type": "markdown",
      "source": [
        "### **Two** Iteration Variables\n",
        "\n",
        "* We loop through the key-value pairs in a dictionary using **two** iteration variables\n",
        "\n",
        "* Each iteration, the **first variable** is the **key** and the **second variable** is the **corresponding value** for the **key**"
      ],
      "metadata": {
        "id": "WvDxMOqCp25k"
      }
    },
    {
      "cell_type": "code",
      "source": [
        "counts = { 'chuck' : 1 , 'annie' : 42, 'jan': 100}\n",
        "#ab = key | cd = value\n",
        "for ab,cd in counts.items():\n",
        "    print(ab,cd)"
      ],
      "metadata": {
        "colab": {
          "base_uri": "https://localhost:8080/"
        },
        "id": "SrBvRGZNpryI",
        "outputId": "0f584379-9577-4d4a-80bb-891d23e2a2b2"
      },
      "execution_count": 16,
      "outputs": [
        {
          "output_type": "stream",
          "name": "stdout",
          "text": [
            "chuck 1\n",
            "annie 42\n",
            "jan 100\n"
          ]
        }
      ]
    },
    {
      "cell_type": "code",
      "source": [
        "#connecting to google drive\n",
        "from google.colab import drive\n",
        "drive.mount('/content/drive')"
      ],
      "metadata": {
        "colab": {
          "base_uri": "https://localhost:8080/"
        },
        "id": "89vMZPbOvXb1",
        "outputId": "91c621bf-cf2e-4f03-e50d-144188fa3802"
      },
      "execution_count": 26,
      "outputs": [
        {
          "output_type": "stream",
          "name": "stdout",
          "text": [
            "Mounted at /content/drive\n"
          ]
        }
      ]
    },
    {
      "cell_type": "code",
      "source": [
        "#File with three lines\n",
        "#Hello World!\n",
        "#cheese\n",
        "#Hello World! 2\n",
        "xfile = open('/content/drive/MyDrive/Colab Notebooks/test.txt')\n",
        "\n",
        "counts = {}\n",
        "\n",
        "for line in xfile:\n",
        "    words = line.split()\n",
        "    print('Spliting the words:', words)\n",
        "    for word in words:\n",
        "        counts[word] = counts.get(word, 0) + 1\n",
        "\n",
        "print('Dictionary after spliting the words and counts:', counts)\n",
        "\n",
        "bigcount = None\n",
        "bigword = None\n",
        "#word is the key | count is the value\n",
        "for word,count in counts.items():\n",
        "    if bigcount is None or count > bigcount:\n",
        "        bigword = word\n",
        "        bigcount = count\n",
        "\n",
        "print('Big word:', bigword, 'and Big count:', bigcount)"
      ],
      "metadata": {
        "colab": {
          "base_uri": "https://localhost:8080/"
        },
        "id": "HB4wOj-Cqn4l",
        "outputId": "65c5fcf7-c1cc-42bb-d07e-1fa821de7d92"
      },
      "execution_count": 38,
      "outputs": [
        {
          "output_type": "stream",
          "name": "stdout",
          "text": [
            "Spliting the words: ['Hello', 'World!']\n",
            "Spliting the words: ['cheese']\n",
            "Spliting the words: ['Hello', 'World!', '2']\n",
            "Dictionary after spliting the words and counts: {'Hello': 2, 'World!': 2, 'cheese': 1, '2': 1}\n",
            "Big word: Hello and Big count: 2\n"
          ]
        }
      ]
    }
  ]
}