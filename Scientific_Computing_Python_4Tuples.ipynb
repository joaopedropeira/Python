{
  "nbformat": 4,
  "nbformat_minor": 0,
  "metadata": {
    "colab": {
      "name": "Scientific_Computing_Python-4Tuples.ipynb",
      "provenance": [],
      "collapsed_sections": [],
      "authorship_tag": "ABX9TyO7qG9LP7zhzC1Uwfy7nXer",
      "include_colab_link": true
    },
    "kernelspec": {
      "name": "python3",
      "display_name": "Python 3"
    },
    "language_info": {
      "name": "python"
    }
  },
  "cells": [
    {
      "cell_type": "markdown",
      "metadata": {
        "id": "view-in-github",
        "colab_type": "text"
      },
      "source": [
        "<a href=\"https://colab.research.google.com/github/joaopedropeira/Python/blob/main/Scientific_Computing_Python_4Tuples.ipynb\" target=\"_parent\"><img src=\"https://colab.research.google.com/assets/colab-badge.svg\" alt=\"Open In Colab\"/></a>"
      ]
    },
    {
      "cell_type": "markdown",
      "source": [
        "## Tuples\n",
        "---\n",
        "### Third Kind of Collection\n",
        "\n",
        "\n",
        "* Tuples are like lists\n",
        "\n",
        "* Tuples are another kind of sequence that functions much like a list - they have elements which are indexed starting at 0\n"
      ],
      "metadata": {
        "id": "v3ZZbVhGygBp"
      }
    },
    {
      "cell_type": "code",
      "source": [
        "x =  ('Glenn', 'Sally', 'Joseph')\n",
        "print(x[2])"
      ],
      "metadata": {
        "colab": {
          "base_uri": "https://localhost:8080/"
        },
        "id": "cS_Wa-7DyrjN",
        "outputId": "183150f0-50e3-4a0f-cfa3-ae34c3bfad5e"
      },
      "execution_count": 1,
      "outputs": [
        {
          "output_type": "stream",
          "name": "stdout",
          "text": [
            "Joseph\n"
          ]
        }
      ]
    },
    {
      "cell_type": "code",
      "source": [
        "y = (1, 2 , 3)\n",
        "print(y[0])"
      ],
      "metadata": {
        "colab": {
          "base_uri": "https://localhost:8080/"
        },
        "id": "kDTmz0vfy7qV",
        "outputId": "0e059b12-ecf6-45a6-f17f-4e82bbeb3391"
      },
      "execution_count": 4,
      "outputs": [
        {
          "output_type": "stream",
          "name": "stdout",
          "text": [
            "1\n"
          ]
        }
      ]
    },
    {
      "cell_type": "code",
      "source": [
        "print(max(y))"
      ],
      "metadata": {
        "colab": {
          "base_uri": "https://localhost:8080/"
        },
        "id": "tw-couyazAyC",
        "outputId": "fe959f9b-a129-414e-ddd1-2cc649388cfd"
      },
      "execution_count": 5,
      "outputs": [
        {
          "output_type": "stream",
          "name": "stdout",
          "text": [
            "3\n"
          ]
        }
      ]
    },
    {
      "cell_type": "code",
      "source": [
        "for num in y:\n",
        "    print(num)"
      ],
      "metadata": {
        "colab": {
          "base_uri": "https://localhost:8080/"
        },
        "id": "34gerXt6zGKI",
        "outputId": "90debca1-ff9c-4954-9dbd-28c3c2f26625"
      },
      "execution_count": 7,
      "outputs": [
        {
          "output_type": "stream",
          "name": "stdout",
          "text": [
            "1\n",
            "2\n",
            "3\n"
          ]
        }
      ]
    },
    {
      "cell_type": "markdown",
      "source": [
        "### Tuples are \"Immutable\"\n",
        "\n",
        "* **Unlike** a **list**, once you **create** a **tuple**, you **can't alter** its **contents** - similar to a string"
      ],
      "metadata": {
        "id": "mQoGtG4uzcpj"
      }
    },
    {
      "cell_type": "code",
      "source": [
        "#creating a list and changing the number of the 2 position \n",
        "x = [9, 8, 7]\n",
        "print(x[2])\n",
        "x[2] = 20\n",
        "print(x[2])"
      ],
      "metadata": {
        "colab": {
          "base_uri": "https://localhost:8080/"
        },
        "id": "kNHCKYD8zLUa",
        "outputId": "49795928-90f5-4f46-8be7-339a837fbafa"
      },
      "execution_count": 8,
      "outputs": [
        {
          "output_type": "stream",
          "name": "stdout",
          "text": [
            "7\n",
            "20\n"
          ]
        }
      ]
    },
    {
      "cell_type": "code",
      "source": [
        "#Tracebck, because we can't alter\n",
        "y = 'ABC'\n",
        "y[2] = 'D'"
      ],
      "metadata": {
        "colab": {
          "base_uri": "https://localhost:8080/",
          "height": 200
        },
        "id": "jTMJcZ57z6Jy",
        "outputId": "7c621ae2-9b5c-46ae-a9b9-44b1c6e6259d"
      },
      "execution_count": 9,
      "outputs": [
        {
          "output_type": "error",
          "ename": "TypeError",
          "evalue": "ignored",
          "traceback": [
            "\u001b[0;31m---------------------------------------------------------------------------\u001b[0m",
            "\u001b[0;31mTypeError\u001b[0m                                 Traceback (most recent call last)",
            "\u001b[0;32m<ipython-input-9-325be3f2a541>\u001b[0m in \u001b[0;36m<module>\u001b[0;34m()\u001b[0m\n\u001b[1;32m      1\u001b[0m \u001b[0;31m#Tracebck, because we can't alter\u001b[0m\u001b[0;34m\u001b[0m\u001b[0;34m\u001b[0m\u001b[0;34m\u001b[0m\u001b[0m\n\u001b[1;32m      2\u001b[0m \u001b[0my\u001b[0m \u001b[0;34m=\u001b[0m \u001b[0;34m'ABC'\u001b[0m\u001b[0;34m\u001b[0m\u001b[0;34m\u001b[0m\u001b[0m\n\u001b[0;32m----> 3\u001b[0;31m \u001b[0my\u001b[0m\u001b[0;34m[\u001b[0m\u001b[0;36m2\u001b[0m\u001b[0;34m]\u001b[0m \u001b[0;34m=\u001b[0m \u001b[0;34m'D'\u001b[0m\u001b[0;34m\u001b[0m\u001b[0;34m\u001b[0m\u001b[0m\n\u001b[0m",
            "\u001b[0;31mTypeError\u001b[0m: 'str' object does not support item assignment"
          ]
        }
      ]
    },
    {
      "cell_type": "code",
      "source": [
        "#Traceback because tuples don't support item assignment\n",
        "z = (9, 8, 7)\n",
        "print(z[2])\n",
        "z[2] = 20\n",
        "print(z[2])"
      ],
      "metadata": {
        "colab": {
          "base_uri": "https://localhost:8080/",
          "height": 235
        },
        "id": "KUkGxN4s0Cof",
        "outputId": "4530bd01-2c1d-47dd-f6ae-f835fd47a98a"
      },
      "execution_count": 10,
      "outputs": [
        {
          "output_type": "stream",
          "name": "stdout",
          "text": [
            "7\n"
          ]
        },
        {
          "output_type": "error",
          "ename": "TypeError",
          "evalue": "ignored",
          "traceback": [
            "\u001b[0;31m---------------------------------------------------------------------------\u001b[0m",
            "\u001b[0;31mTypeError\u001b[0m                                 Traceback (most recent call last)",
            "\u001b[0;32m<ipython-input-10-fdbe4f0c2c53>\u001b[0m in \u001b[0;36m<module>\u001b[0;34m()\u001b[0m\n\u001b[1;32m      1\u001b[0m \u001b[0mz\u001b[0m \u001b[0;34m=\u001b[0m \u001b[0;34m(\u001b[0m\u001b[0;36m9\u001b[0m\u001b[0;34m,\u001b[0m \u001b[0;36m8\u001b[0m\u001b[0;34m,\u001b[0m \u001b[0;36m7\u001b[0m\u001b[0;34m)\u001b[0m\u001b[0;34m\u001b[0m\u001b[0;34m\u001b[0m\u001b[0m\n\u001b[1;32m      2\u001b[0m \u001b[0mprint\u001b[0m\u001b[0;34m(\u001b[0m\u001b[0mz\u001b[0m\u001b[0;34m[\u001b[0m\u001b[0;36m2\u001b[0m\u001b[0;34m]\u001b[0m\u001b[0;34m)\u001b[0m\u001b[0;34m\u001b[0m\u001b[0;34m\u001b[0m\u001b[0m\n\u001b[0;32m----> 3\u001b[0;31m \u001b[0mz\u001b[0m\u001b[0;34m[\u001b[0m\u001b[0;36m2\u001b[0m\u001b[0;34m]\u001b[0m \u001b[0;34m=\u001b[0m \u001b[0;36m20\u001b[0m\u001b[0;34m\u001b[0m\u001b[0;34m\u001b[0m\u001b[0m\n\u001b[0m\u001b[1;32m      4\u001b[0m \u001b[0mprint\u001b[0m\u001b[0;34m(\u001b[0m\u001b[0mz\u001b[0m\u001b[0;34m[\u001b[0m\u001b[0;36m2\u001b[0m\u001b[0;34m]\u001b[0m\u001b[0;34m)\u001b[0m\u001b[0;34m\u001b[0m\u001b[0;34m\u001b[0m\u001b[0m\n",
            "\u001b[0;31mTypeError\u001b[0m: 'tuple' object does not support item assignment"
          ]
        }
      ]
    },
    {
      "cell_type": "markdown",
      "source": [
        "### Tuples are more Efficient\n",
        "\n",
        "* **Tuples** are **simpler** and **more efficient** in terms of **memory use** and **performance** than **lists**\n",
        "\n",
        "* So in our program we are making **\"temporary variables\"** we **prefer tuples over lists**"
      ],
      "metadata": {
        "id": "p8yBaBG30_yk"
      }
    },
    {
      "cell_type": "markdown",
      "source": [
        "### Tuples and Assignment\n",
        "\n",
        "* We can also put a **tuple** on the **left-hand side** of an **assignment statement**\n",
        "\n",
        "* We can even omit the parentheses"
      ],
      "metadata": {
        "id": "komWRAiq1nAu"
      }
    },
    {
      "cell_type": "code",
      "source": [
        "(x, y) = (4, 'fred')\n",
        "print(y)"
      ],
      "metadata": {
        "colab": {
          "base_uri": "https://localhost:8080/"
        },
        "id": "LqA3wVr10JRO",
        "outputId": "95203f28-9ae6-4948-c76c-daeb09661f66"
      },
      "execution_count": 11,
      "outputs": [
        {
          "output_type": "stream",
          "name": "stdout",
          "text": [
            "fred\n"
          ]
        }
      ]
    },
    {
      "cell_type": "code",
      "source": [
        "(a, b) = (87, 78)\n",
        "print(a)"
      ],
      "metadata": {
        "colab": {
          "base_uri": "https://localhost:8080/"
        },
        "id": "xm-VVH4a1zag",
        "outputId": "a5aeb0bc-7f72-45f7-80d4-416e44ffd9e1"
      },
      "execution_count": 12,
      "outputs": [
        {
          "output_type": "stream",
          "name": "stdout",
          "text": [
            "87\n"
          ]
        }
      ]
    },
    {
      "cell_type": "markdown",
      "source": [
        "### Tuples and Dictionaries\n",
        "\n",
        "* The items() method in dictionaries returns a list of (key, value) tuples"
      ],
      "metadata": {
        "id": "i55YPjWD3tkS"
      }
    },
    {
      "cell_type": "code",
      "source": [
        "d = {}\n",
        "d['joao'] = 1\n",
        "d['pedro'] = 4\n",
        "\n",
        "for (key, value) in d.items():\n",
        "    print(key, value)"
      ],
      "metadata": {
        "colab": {
          "base_uri": "https://localhost:8080/"
        },
        "id": "8eHWsN8n13lX",
        "outputId": "8a83bc26-5c24-4354-ad4c-1e39b29bc7d0"
      },
      "execution_count": 16,
      "outputs": [
        {
          "output_type": "stream",
          "name": "stdout",
          "text": [
            "joao 1\n",
            "pedro 4\n"
          ]
        }
      ]
    },
    {
      "cell_type": "code",
      "source": [
        "tups = d.items()\n",
        "print(tups)"
      ],
      "metadata": {
        "colab": {
          "base_uri": "https://localhost:8080/"
        },
        "id": "XsHfU_Gg3-e9",
        "outputId": "9cb12022-2838-4394-bf41-c8ce21fd6165"
      },
      "execution_count": 17,
      "outputs": [
        {
          "output_type": "stream",
          "name": "stdout",
          "text": [
            "dict_items([('joao', 1), ('pedro', 4)])\n"
          ]
        }
      ]
    },
    {
      "cell_type": "markdown",
      "source": [
        "### Tuples are Comparable\n",
        "\n",
        "* The **comparison operators** work with **tuples** and other sequences. **If the first item is equal**, **Python goes on** to the **next element**, and so on, **until it finds that differ**"
      ],
      "metadata": {
        "id": "fZ15XJJf4wYo"
      }
    },
    {
      "cell_type": "code",
      "source": [
        "(0, 1, 2) < (5, 2, 3)"
      ],
      "metadata": {
        "colab": {
          "base_uri": "https://localhost:8080/"
        },
        "id": "JsSmVk4A4H-T",
        "outputId": "57cd364d-c6c5-4723-d8f0-675b0762515f"
      },
      "execution_count": 19,
      "outputs": [
        {
          "output_type": "execute_result",
          "data": {
            "text/plain": [
              "True"
            ]
          },
          "metadata": {},
          "execution_count": 19
        }
      ]
    },
    {
      "cell_type": "code",
      "source": [
        "(0, 1, 2000) < (0, 3, 4)"
      ],
      "metadata": {
        "colab": {
          "base_uri": "https://localhost:8080/"
        },
        "id": "WCNAXFPN5ENb",
        "outputId": "1a4f102c-c103-4763-a097-2628af3f8cd6"
      },
      "execution_count": 20,
      "outputs": [
        {
          "output_type": "execute_result",
          "data": {
            "text/plain": [
              "True"
            ]
          },
          "metadata": {},
          "execution_count": 20
        }
      ]
    },
    {
      "cell_type": "code",
      "source": [
        "(3, 4 , 5) < (0, 1, 2)"
      ],
      "metadata": {
        "colab": {
          "base_uri": "https://localhost:8080/"
        },
        "id": "UD_d4SR75Pe3",
        "outputId": "e0448450-3eec-4f61-a5c5-b8d18d7700e9"
      },
      "execution_count": 22,
      "outputs": [
        {
          "output_type": "execute_result",
          "data": {
            "text/plain": [
              "False"
            ]
          },
          "metadata": {},
          "execution_count": 22
        }
      ]
    },
    {
      "cell_type": "markdown",
      "source": [
        "## Comparing and Sorting Tuples\n",
        "---\n",
        "### Sorting Lists of Tuples\n",
        "\n",
        "\n",
        "* We can take advantage of the **ability to sort a list of tuples** to **get** a **sorted version** of a **dictionary**\n",
        "\n",
        "* **First** we **sort** the **dictionary** by the **key** using the **items()** method and **sorted()** function\n"
      ],
      "metadata": {
        "id": "waMbp7FfDZfL"
      }
    },
    {
      "cell_type": "code",
      "source": [
        "d = {'a' : 10, 'b' : 1, 'c' : 22}\n",
        "d.items()  "
      ],
      "metadata": {
        "colab": {
          "base_uri": "https://localhost:8080/"
        },
        "id": "lUcHjb1e5TIW",
        "outputId": "86ac143b-1b0c-44a6-b233-a5d527ed3977"
      },
      "execution_count": 23,
      "outputs": [
        {
          "output_type": "execute_result",
          "data": {
            "text/plain": [
              "dict_items([('a', 10), ('b', 1), ('c', 22)])"
            ]
          },
          "metadata": {},
          "execution_count": 23
        }
      ]
    },
    {
      "cell_type": "code",
      "source": [
        "sorted(d.items())"
      ],
      "metadata": {
        "colab": {
          "base_uri": "https://localhost:8080/"
        },
        "id": "TxPijubHD0WV",
        "outputId": "94b7867c-6bca-4eb6-ba9d-28d39eda89f5"
      },
      "execution_count": 26,
      "outputs": [
        {
          "output_type": "execute_result",
          "data": {
            "text/plain": [
              "[('a', 10), ('b', 1), ('c', 22)]"
            ]
          },
          "metadata": {},
          "execution_count": 26
        }
      ]
    },
    {
      "cell_type": "markdown",
      "source": [
        "### Using sorted()\n",
        "\n",
        "\n",
        "* We can do this even more directly using the buil-in function sorted that takes a sequence as a parameter and returns a sorted sequence"
      ],
      "metadata": {
        "id": "8ebu0VuwEwkw"
      }
    },
    {
      "cell_type": "code",
      "source": [
        "d = {'a' : 10, 'b' : 1, 'c' : 22}\n",
        "t = sorted(d.items())\n",
        "t"
      ],
      "metadata": {
        "colab": {
          "base_uri": "https://localhost:8080/"
        },
        "id": "em2GpZA6EPfY",
        "outputId": "a3083dd2-ccdb-4efd-87b9-5d7b06b1858d"
      },
      "execution_count": 27,
      "outputs": [
        {
          "output_type": "execute_result",
          "data": {
            "text/plain": [
              "[('a', 10), ('b', 1), ('c', 22)]"
            ]
          },
          "metadata": {},
          "execution_count": 27
        }
      ]
    },
    {
      "cell_type": "code",
      "source": [
        "for k,v in t:\n",
        "    print(k,v)"
      ],
      "metadata": {
        "colab": {
          "base_uri": "https://localhost:8080/"
        },
        "id": "d8jhKr8NFAVh",
        "outputId": "b9ae5ee5-0536-4425-9abf-899fffd6bad6"
      },
      "execution_count": 28,
      "outputs": [
        {
          "output_type": "stream",
          "name": "stdout",
          "text": [
            "a 10\n",
            "b 1\n",
            "c 22\n"
          ]
        }
      ]
    },
    {
      "cell_type": "markdown",
      "source": [
        "### Sort by values instead of key\n",
        "\n",
        "\n",
        "* If we could construct a list of tuples of the from (value, key) we could sort by value\n",
        "\n",
        "* We do this with a for loop that creates a list of tuples"
      ],
      "metadata": {
        "id": "DV7g6oT9GLrD"
      }
    },
    {
      "cell_type": "code",
      "source": [
        "#creating a dictionary\n",
        "d = {'a' : 10, 'b' : 1, 'c' : 22}\n",
        "\n",
        "#creating a empty list\n",
        "tmp = list()\n",
        "\n",
        "print(d.items())\n",
        "#inserting the Value / Key in the list\n",
        "for k,v in d.items():\n",
        "    tmp.append((v,k))\n",
        "print(tmp)"
      ],
      "metadata": {
        "colab": {
          "base_uri": "https://localhost:8080/"
        },
        "id": "E95T6z_RFDxJ",
        "outputId": "b27258d0-a9aa-4434-a2c5-27b28feca88e"
      },
      "execution_count": 31,
      "outputs": [
        {
          "output_type": "stream",
          "name": "stdout",
          "text": [
            "dict_items([('a', 10), ('b', 1), ('c', 22)])\n",
            "[(10, 'a'), (1, 'b'), (22, 'c')]\n"
          ]
        }
      ]
    },
    {
      "cell_type": "code",
      "source": [
        "#now its sorted in descending order by the Value\n",
        "tmp = sorted(tmp, reverse = True)\n",
        "print(tmp)"
      ],
      "metadata": {
        "colab": {
          "base_uri": "https://localhost:8080/"
        },
        "id": "gg0wE6KsHR_l",
        "outputId": "9e0555e4-5d29-4f0f-8b6a-95e932819538"
      },
      "execution_count": 33,
      "outputs": [
        {
          "output_type": "stream",
          "name": "stdout",
          "text": [
            "[(22, 'c'), (10, 'a'), (1, 'b')]\n"
          ]
        }
      ]
    },
    {
      "cell_type": "code",
      "source": [
        "#Shorter Version\n",
        "d = {'a' : 10, 'b' : 1, 'c' : 22}\n",
        "print(sorted([(v,k) for k,v in d.items()]))"
      ],
      "metadata": {
        "id": "web_Ea5YOhIY"
      },
      "execution_count": null,
      "outputs": []
    },
    {
      "cell_type": "markdown",
      "source": [
        "### The top 10 most common words"
      ],
      "metadata": {
        "id": "-f51fhWELr9Y"
      }
    },
    {
      "cell_type": "code",
      "source": [
        "#connecting to google drive\n",
        "from google.colab import drive\n",
        "drive.mount('/content/drive')"
      ],
      "metadata": {
        "colab": {
          "base_uri": "https://localhost:8080/"
        },
        "id": "ikejogfhJzQn",
        "outputId": "884944a0-827b-43ba-9c09-4f8e97c06328"
      },
      "execution_count": 36,
      "outputs": [
        {
          "output_type": "stream",
          "name": "stdout",
          "text": [
            "Mounted at /content/drive\n"
          ]
        }
      ]
    },
    {
      "cell_type": "code",
      "source": [
        "xfile = open('/content/drive/MyDrive/Colab Notebooks/test.txt')\n",
        "counts = {}\n",
        "\n",
        "for line in xfile:\n",
        "    words = line.split()\n",
        "    for word in words:\n",
        "        counts[word] = counts.get(word, 0) + 1\n",
        "print('Counting words:', counts)\n",
        "\n",
        "lst = []\n",
        "for key,val in counts.items():\n",
        "    newtuple = (val,key)\n",
        "    lst.append(newtuple)\n",
        "print('My list by value / key:', lst)\n",
        "\n",
        "lst = sorted(lst, reverse = True)\n",
        "print('My list inverted:', lst)\n",
        "\n",
        "print('Printing the top 10 common words in that file:')\n",
        "for val, key in lst[:10]:\n",
        "    print(key,val)"
      ],
      "metadata": {
        "colab": {
          "base_uri": "https://localhost:8080/"
        },
        "id": "IWJVQAhwLxVT",
        "outputId": "2dd19364-262e-4f48-f7e6-38b1649eaf50"
      },
      "execution_count": 43,
      "outputs": [
        {
          "output_type": "stream",
          "name": "stdout",
          "text": [
            "Counting words: {'Hello': 2, 'World!': 2, 'cheese': 1, '2': 1}\n",
            "My list by value / key: [(2, 'Hello'), (2, 'World!'), (1, 'cheese'), (1, '2')]\n",
            "My list inverted: [(2, 'World!'), (2, 'Hello'), (1, 'cheese'), (1, '2')]\n",
            "Printing the top 10 common words in that file:\n",
            "World! 2\n",
            "Hello 2\n",
            "cheese 1\n",
            "2 1\n"
          ]
        }
      ]
    }
  ]
}