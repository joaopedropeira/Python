{
  "nbformat": 4,
  "nbformat_minor": 0,
  "metadata": {
    "colab": {
      "name": "Exercises.ipynb",
      "provenance": [],
      "collapsed_sections": [],
      "authorship_tag": "ABX9TyOS6sL/qpf221Zy8G4YDxPb",
      "include_colab_link": true
    },
    "kernelspec": {
      "name": "python3",
      "display_name": "Python 3"
    },
    "language_info": {
      "name": "python"
    }
  },
  "cells": [
    {
      "cell_type": "markdown",
      "metadata": {
        "id": "view-in-github",
        "colab_type": "text"
      },
      "source": [
        "<a href=\"https://colab.research.google.com/github/joaopedropeira/Python/blob/main/Exercises.ipynb\" target=\"_parent\"><img src=\"https://colab.research.google.com/assets/colab-badge.svg\" alt=\"Open In Colab\"/></a>"
      ]
    },
    {
      "cell_type": "markdown",
      "source": [
        "#Python Exercises from freecodecamp.org"
      ],
      "metadata": {
        "id": "ZY3pwSxs7bXb"
      }
    },
    {
      "cell_type": "code",
      "source": [
        "#Exercise 1\n",
        "#Write a program that uses input to prompt a user for their name and then welcomes then\n",
        "name = input(\"Hello! Whats your name?\")\n",
        "print(\"Welcome,\", name,\"!\") "
      ],
      "metadata": {
        "colab": {
          "base_uri": "https://localhost:8080/"
        },
        "id": "CjlIybLl7kYO",
        "outputId": "c94c384d-1e8c-447d-a2f3-7f46831109bb"
      },
      "execution_count": 3,
      "outputs": [
        {
          "output_type": "stream",
          "name": "stdout",
          "text": [
            "Hello! Whats your name?joao\n",
            "Welcome, joao !\n"
          ]
        }
      ]
    },
    {
      "cell_type": "code",
      "source": [
        "#Exercise 2\n",
        "#Write a program to prompt the user for hours and rate per hour to compute gross pay\n",
        "#The input() function returns a string\n",
        "hours = input(\"Hello! How many hours do you work per day?\")\n",
        "pay_hours = input(\"And how much do you earn per hour?\")\n",
        "\n",
        "gross_pay = float(hours) * float(pay_hours)\n",
        "print(\"Your gross pay is:\", gross_pay)\n"
      ],
      "metadata": {
        "colab": {
          "base_uri": "https://localhost:8080/"
        },
        "id": "jajR94x57to3",
        "outputId": "9e402eba-300b-4b67-a1a8-d692e72a9dff"
      },
      "execution_count": 7,
      "outputs": [
        {
          "output_type": "stream",
          "name": "stdout",
          "text": [
            "Hello! How many hours do you work per day?10\n",
            "And how much do you earn per hour?10\n",
            "Your gross pay is: 100.0\n"
          ]
        }
      ]
    },
    {
      "cell_type": "code",
      "source": [
        ""
      ],
      "metadata": {
        "id": "khrFhPZz9ANz"
      },
      "execution_count": null,
      "outputs": []
    }
  ]
}