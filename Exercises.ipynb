{
  "nbformat": 4,
  "nbformat_minor": 0,
  "metadata": {
    "colab": {
      "name": "Exercises.ipynb",
      "provenance": [],
      "collapsed_sections": [],
      "authorship_tag": "ABX9TyMozfltouqpGwAFhQsFSv57",
      "include_colab_link": true
    },
    "kernelspec": {
      "name": "python3",
      "display_name": "Python 3"
    },
    "language_info": {
      "name": "python"
    }
  },
  "cells": [
    {
      "cell_type": "markdown",
      "metadata": {
        "id": "view-in-github",
        "colab_type": "text"
      },
      "source": [
        "<a href=\"https://colab.research.google.com/github/joaopedropeira/Python/blob/main/Exercises.ipynb\" target=\"_parent\"><img src=\"https://colab.research.google.com/assets/colab-badge.svg\" alt=\"Open In Colab\"/></a>"
      ]
    },
    {
      "cell_type": "markdown",
      "source": [
        "#Python Exercises from freecodecamp.org"
      ],
      "metadata": {
        "id": "ZY3pwSxs7bXb"
      }
    },
    {
      "cell_type": "code",
      "source": [
        "#Exercise 1\n",
        "#Write a program that uses input to prompt a user for their name and then welcomes then\n",
        "name = input('Hello! Whats your name?')\n",
        "print('Welcome,', name,'!') "
      ],
      "metadata": {
        "colab": {
          "base_uri": "https://localhost:8080/"
        },
        "id": "CjlIybLl7kYO",
        "outputId": "c94c384d-1e8c-447d-a2f3-7f46831109bb"
      },
      "execution_count": null,
      "outputs": [
        {
          "output_type": "stream",
          "name": "stdout",
          "text": [
            "Hello! Whats your name?joao\n",
            "Welcome, joao !\n"
          ]
        }
      ]
    },
    {
      "cell_type": "code",
      "source": [
        "#Exercise 2\n",
        "#Write a program to prompt the user for hours and rate per hour to compute gross pay\n",
        "#The input() function returns a string\n",
        "hours = input('Hello! How many hours do you work per day? ')\n",
        "pay_hours = input('And how much do you earn per hour? ')\n",
        "\n",
        "gross_pay = float(hours) * float(pay_hours)\n",
        "print('Your gross pay is:', gross_pay)\n"
      ],
      "metadata": {
        "colab": {
          "base_uri": "https://localhost:8080/"
        },
        "id": "jajR94x57to3",
        "outputId": "9e402eba-300b-4b67-a1a8-d692e72a9dff"
      },
      "execution_count": null,
      "outputs": [
        {
          "output_type": "stream",
          "name": "stdout",
          "text": [
            "Hello! How many hours do you work per day?10\n",
            "And how much do you earn per hour?10\n",
            "Your gross pay is: 100.0\n"
          ]
        }
      ]
    },
    {
      "cell_type": "code",
      "source": [
        "#Exercise 3\n",
        "#Rewrite your pay computation to give the employee 1.5 times the hourly rate for hours worked above 40 hours.\n",
        "hours = input('Hello! How many hours do you worked? ')\n",
        "pay = input('And how much do your earn per hour worked? ')\n",
        "\n",
        "hours_float = float(hours)\n",
        "pay_float = float(pay)\n",
        "\n",
        "if hours_float <= 40:\n",
        "    gross_pay = hours_float * pay_float\n",
        "    print('Your gross pay is:', gross_pay)\n",
        "else:\n",
        "    hours_above = hours_float - 40\n",
        "    gross_pay = (hours_float * pay_float) + (hours_above * (pay_float * 0.5))\n",
        "    print('Your gross pay is:', gross_pay)"
      ],
      "metadata": {
        "colab": {
          "base_uri": "https://localhost:8080/"
        },
        "id": "Bujish9Kuf-p",
        "outputId": "18a4c9cb-944a-4269-95e1-1bec7b9498db"
      },
      "execution_count": null,
      "outputs": [
        {
          "output_type": "stream",
          "name": "stdout",
          "text": [
            "Hello! How many hours do you worked? 10\n",
            "And how much do your earn per hour worked? 20\n",
            "Your gross pay is: 200.0\n"
          ]
        }
      ]
    },
    {
      "cell_type": "code",
      "source": [
        "#Exercise 4\n",
        "#Rewrite your pay program using try and except so that your program handles non-numeric input gracefully by priting a message and exiting the program.\n",
        "hours4 = input('Hello! How many hours do you worked? ')\n",
        "pay4 = input('And how much do your earn per hour worked? ')\n",
        "\n",
        "try:\n",
        "    hours_float4 = float(hours4)\n",
        "    pay_float4 = float(pay4)\n",
        "except:\n",
        "    print('Something went wrong, did you wrote a number?')\n",
        "    quit()\n",
        "\n",
        "if hours_float4 > 40:\n",
        "    hours_above4 = hours_float4 - 40\n",
        "    gross_pay4 = (hours_float4 * pay_float4) + (hours_above4 * (pay_float4 * 0.5))\n",
        "else:\n",
        "    gross_pay4 = hours_float4 * pay_float4\n",
        "\n",
        "print('Your gross pay is:', gross_pay4)"
      ],
      "metadata": {
        "colab": {
          "base_uri": "https://localhost:8080/"
        },
        "id": "JRz2VJaIyK7m",
        "outputId": "4efc8d15-58b1-43ec-cc4f-38aa0af972bd"
      },
      "execution_count": 1,
      "outputs": [
        {
          "output_type": "stream",
          "name": "stdout",
          "text": [
            "Hello! How many hours do you worked? 45\n",
            "And how much do your earn per hour worked? 10\n",
            "Your gross pay is: 475.0\n"
          ]
        }
      ]
    },
    {
      "cell_type": "code",
      "source": [
        "\n"
      ],
      "metadata": {
        "id": "a0hIumlG0eNq"
      },
      "execution_count": null,
      "outputs": []
    }
  ]
}