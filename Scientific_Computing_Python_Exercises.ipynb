{
  "nbformat": 4,
  "nbformat_minor": 0,
  "metadata": {
    "colab": {
      "name": "Scientific_Computing_Python_Exercises.ipynb",
      "provenance": [],
      "collapsed_sections": [],
      "authorship_tag": "ABX9TyN9ZDU17awyFGxh8QIY0dpL",
      "include_colab_link": true
    },
    "kernelspec": {
      "name": "python3",
      "display_name": "Python 3"
    },
    "language_info": {
      "name": "python"
    }
  },
  "cells": [
    {
      "cell_type": "markdown",
      "metadata": {
        "id": "view-in-github",
        "colab_type": "text"
      },
      "source": [
        "<a href=\"https://colab.research.google.com/github/joaopedropeira/Python/blob/main/Scientific_Computing_Python_Exercises.ipynb\" target=\"_parent\"><img src=\"https://colab.research.google.com/assets/colab-badge.svg\" alt=\"Open In Colab\"/></a>"
      ]
    },
    {
      "cell_type": "markdown",
      "source": [
        "#Python Exercises from freecodecamp.org"
      ],
      "metadata": {
        "id": "ZY3pwSxs7bXb"
      }
    },
    {
      "cell_type": "code",
      "source": [
        "#Exercise 1\n",
        "#Write a program that uses input to prompt a user for their name and then welcomes then\n",
        "name = input('Hello! Whats your name?')\n",
        "print('Welcome,', name,'!') "
      ],
      "metadata": {
        "colab": {
          "base_uri": "https://localhost:8080/"
        },
        "id": "CjlIybLl7kYO",
        "outputId": "c94c384d-1e8c-447d-a2f3-7f46831109bb"
      },
      "execution_count": null,
      "outputs": [
        {
          "output_type": "stream",
          "name": "stdout",
          "text": [
            "Hello! Whats your name?joao\n",
            "Welcome, joao !\n"
          ]
        }
      ]
    },
    {
      "cell_type": "code",
      "source": [
        "#Exercise 2\n",
        "#Write a program to prompt the user for hours and rate per hour to compute gross pay\n",
        "#The input() function returns a string\n",
        "hours = input('Hello! How many hours do you work per day? ')\n",
        "pay_hours = input('And how much do you earn per hour? ')\n",
        "\n",
        "gross_pay = float(hours) * float(pay_hours)\n",
        "print('Your gross pay is:', gross_pay)\n"
      ],
      "metadata": {
        "colab": {
          "base_uri": "https://localhost:8080/"
        },
        "id": "jajR94x57to3",
        "outputId": "9e402eba-300b-4b67-a1a8-d692e72a9dff"
      },
      "execution_count": null,
      "outputs": [
        {
          "output_type": "stream",
          "name": "stdout",
          "text": [
            "Hello! How many hours do you work per day?10\n",
            "And how much do you earn per hour?10\n",
            "Your gross pay is: 100.0\n"
          ]
        }
      ]
    },
    {
      "cell_type": "code",
      "source": [
        "#Exercise 3\n",
        "#Rewrite your pay computation to give the employee 1.5 times the hourly rate for hours worked above 40 hours.\n",
        "hours = input('Hello! How many hours do you worked? ')\n",
        "pay = input('And how much do your earn per hour worked? ')\n",
        "\n",
        "hours_float = float(hours)\n",
        "pay_float = float(pay)\n",
        "\n",
        "if hours_float <= 40:\n",
        "    gross_pay = hours_float * pay_float\n",
        "    print('Your gross pay is:', gross_pay)\n",
        "else:\n",
        "    hours_above = hours_float - 40\n",
        "    gross_pay = (hours_float * pay_float) + (hours_above * (pay_float * 0.5))\n",
        "    print('Your gross pay is:', gross_pay)"
      ],
      "metadata": {
        "colab": {
          "base_uri": "https://localhost:8080/"
        },
        "id": "Bujish9Kuf-p",
        "outputId": "18a4c9cb-944a-4269-95e1-1bec7b9498db"
      },
      "execution_count": null,
      "outputs": [
        {
          "output_type": "stream",
          "name": "stdout",
          "text": [
            "Hello! How many hours do you worked? 10\n",
            "And how much do your earn per hour worked? 20\n",
            "Your gross pay is: 200.0\n"
          ]
        }
      ]
    },
    {
      "cell_type": "code",
      "source": [
        "#Exercise 4\n",
        "#Rewrite your pay program using try and except so that your program handles non-numeric input gracefully by priting a message and exiting the program.\n",
        "hours4 = input('Hello! How many hours do you worked? ')\n",
        "pay4 = input('And how much do your earn per hour worked? ')\n",
        "\n",
        "try:\n",
        "    hours_float4 = float(hours4)\n",
        "    pay_float4 = float(pay4)\n",
        "except:\n",
        "    print('Something went wrong, did you wrote a number?')\n",
        "    quit()\n",
        "\n",
        "if hours_float4 > 40:\n",
        "    hours_above4 = hours_float4 - 40\n",
        "    gross_pay4 = (hours_float4 * pay_float4) + (hours_above4 * (pay_float4 * 0.5))\n",
        "else:\n",
        "    gross_pay4 = hours_float4 * pay_float4\n",
        "\n",
        "print('Your gross pay is:', gross_pay4)"
      ],
      "metadata": {
        "colab": {
          "base_uri": "https://localhost:8080/"
        },
        "id": "JRz2VJaIyK7m",
        "outputId": "4efc8d15-58b1-43ec-cc4f-38aa0af972bd"
      },
      "execution_count": null,
      "outputs": [
        {
          "output_type": "stream",
          "name": "stdout",
          "text": [
            "Hello! How many hours do you worked? 45\n",
            "And how much do your earn per hour worked? 10\n",
            "Your gross pay is: 475.0\n"
          ]
        }
      ]
    },
    {
      "cell_type": "code",
      "source": [
        "#Exercise 5\n",
        "#Rewrite your pay computation with time-and-a-half for overtime and create a function called 'computepay' which takes two parameters (hours & rate)\n",
        "def computepay(hours, rate):\n",
        "    if hours > 40:\n",
        "        pay5 = rate * hours\n",
        "        gross_pay5 = (hours - 40) * (rate * 0.5)\n",
        "        pay_total5 = pay5 + gross_pay5\n",
        "    else:\n",
        "        pay_total5 = rate * hours\n",
        "    return pay_total5\n",
        "\n",
        "hours_worked = input('Hello! How many hours do you worked? ')\n",
        "rate_worked = input('And how much do your earn per hour worked? ')\n",
        "\n",
        "try:\n",
        "    hours_worked_float = float(hours_worked)\n",
        "    rate_worked_float = float(rate_worked)\n",
        "except:\n",
        "    print('Something went wrong, did you wrote a number?')\n",
        "    quit() \n",
        "\n",
        "payment = computepay(hours_worked_float, rate_worked_float)\n",
        "print(\"Payment:\", payment)\n"
      ],
      "metadata": {
        "id": "a0hIumlG0eNq",
        "colab": {
          "base_uri": "https://localhost:8080/"
        },
        "outputId": "adc51fb1-3772-426d-dd5e-e4455d2ce2e7"
      },
      "execution_count": null,
      "outputs": [
        {
          "output_type": "stream",
          "name": "stdout",
          "text": [
            "Hello! How many hours do you worked? 50\n",
            "And how much do your earn per hour worked? 10\n",
            "Payment: 550.0\n"
          ]
        }
      ]
    },
    {
      "cell_type": "code",
      "source": [
        "#Exercise 6\n",
        "#Write a program which read numbers until the users enters \"done\". Once \"done\" is entered, print out the total, count, and average of the numbers. If the user enters anything other than a number, \n",
        "#detect their mistake using 'try' and except and print an error message and skip to the next number\n",
        "number = 0\n",
        "total = 0.0\n",
        "\n",
        "while True:\n",
        "    sval = input('Enter a number: ')\n",
        "    if sval == 'done':\n",
        "        break\n",
        "    try:   \n",
        "        fval = float(sval)\n",
        "    except:\n",
        "        print('Invalid Input')\n",
        "        continue\n",
        "    number = number + 1\n",
        "    total = total + fval\n",
        "\n",
        "print('All done! Calculating...')\n",
        "print('Total:', total , 'Count:' , number, 'Average:' , total/number)"
      ],
      "metadata": {
        "id": "sV3KZEVujyNC",
        "colab": {
          "base_uri": "https://localhost:8080/"
        },
        "outputId": "9de5e9aa-b2e5-4700-f777-16cc586bd0fc"
      },
      "execution_count": null,
      "outputs": [
        {
          "output_type": "stream",
          "name": "stdout",
          "text": [
            "Enter a number: 5\n",
            "Enter a number: 10\n",
            "Enter a number: 15\n",
            "Enter a number: a\n",
            "Invalid Input\n",
            "Enter a number: 20\n",
            "Enter a number: done\n",
            "All done! Calculating...\n",
            "Total: 50.0 Count: 4 Average: 12.5\n"
          ]
        }
      ]
    },
    {
      "cell_type": "code",
      "source": [
        "#Exercise 7\n",
        "# Take the following Python code that stores a string:\n",
        "#str = 'X-DSPAM-Confidence: 0.8475'\n",
        "#Use find and string slicing to extract the portion of the string after the colon character and then use the float function to convert the extracted string into a floating point number\n",
        "str = 'X-DSPAM-Confidence: 0.8475'\n",
        "\n",
        "#finding the number after the portion of the string\n",
        "ipos = str.find(':')\n",
        "print(ipos)\n",
        "\n",
        "#number founded\n",
        "piece = str[ipos+2:]\n",
        "print(piece)\n",
        "\n",
        "#converting to float\n",
        "value = float(piece)\n",
        "print(value)\n",
        "type(value)"
      ],
      "metadata": {
        "colab": {
          "base_uri": "https://localhost:8080/"
        },
        "id": "jdCBhYVYNojY",
        "outputId": "f1586a8e-9967-4a1b-9e58-24ba46826443"
      },
      "execution_count": null,
      "outputs": [
        {
          "output_type": "stream",
          "name": "stdout",
          "text": [
            "18\n",
            "0.8475\n",
            "0.8475\n"
          ]
        },
        {
          "output_type": "execute_result",
          "data": {
            "text/plain": [
              "float"
            ]
          },
          "metadata": {},
          "execution_count": 21
        }
      ]
    },
    {
      "cell_type": "code",
      "source": [
        ""
      ],
      "metadata": {
        "id": "upPQqvo_OsUM"
      },
      "execution_count": null,
      "outputs": []
    }
  ]
}