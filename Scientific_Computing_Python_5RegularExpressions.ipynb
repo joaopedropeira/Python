{
  "nbformat": 4,
  "nbformat_minor": 0,
  "metadata": {
    "colab": {
      "name": "Scientific_Computing_Python-5RegularExpressions.ipynb",
      "provenance": [],
      "collapsed_sections": [],
      "authorship_tag": "ABX9TyPs0QqYx4kUGA0EG5dpfQQW",
      "include_colab_link": true
    },
    "kernelspec": {
      "name": "python3",
      "display_name": "Python 3"
    },
    "language_info": {
      "name": "python"
    }
  },
  "cells": [
    {
      "cell_type": "markdown",
      "metadata": {
        "id": "view-in-github",
        "colab_type": "text"
      },
      "source": [
        "<a href=\"https://colab.research.google.com/github/joaopedropeira/Python/blob/main/Scientific_Computing_Python_5RegularExpressions.ipynb\" target=\"_parent\"><img src=\"https://colab.research.google.com/assets/colab-badge.svg\" alt=\"Open In Colab\"/></a>"
      ]
    },
    {
      "cell_type": "markdown",
      "source": [
        "## Regular Expressions\n",
        "---\n",
        "\n",
        "In computing, a **regular expression**, also referred to as **\"regex\"** or **\"regexp\"**, **provides** a **concise** and **flexible** means for **matching strings of text**, such as particular characters, words, or patterns of characters.<br>\n",
        "A **regular** **expression** is **written** in a **formal language** that can be **interpreted** by a **regular expression processor**\n",
        "\n",
        "<br>\n",
        "Really smart \"Find\" or \"Search\" (Control+F)"
      ],
      "metadata": {
        "id": "w5OJ1BPFRHv9"
      }
    },
    {
      "cell_type": "markdown",
      "source": [
        "### Regular Expressions Quick Guide:\n",
        "\n",
        "'^' - Matches the **beginning** of a line<br>\n",
        "'$' - Matches the **end** of a line<br>\n",
        "'.' - Matches **any** character<br>\n",
        "'\\s' - Matches **whitespac**e<br>\n",
        "'\\S' - Matches any **non-whitespace** chracter<br>\n",
        "\n"
      ],
      "metadata": {
        "id": "YWIrwBJ63RG-"
      }
    },
    {
      "cell_type": "markdown",
      "source": [
        "### Regular Expressions Module\n",
        "\n",
        "* Before you can use regular expressions in your program, you must import the library using **\"import re\"**\n",
        "\n",
        "* You can use **re.search()** to see if a string matches a regular expression, similar to using **find()** method for strings\n",
        "\n",
        "* You can use **re.findall()** to extract portions of a string that match your regular expression, similar to a combination of **find()** and slicing: var[5:10]\n"
      ],
      "metadata": {
        "id": "iSoom56z4pVZ"
      }
    },
    {
      "cell_type": "markdown",
      "source": [
        "### Using re.search() like find()\n"
      ],
      "metadata": {
        "id": "RchcXTIG6pLW"
      }
    },
    {
      "cell_type": "code",
      "source": [
        "#connecting to google drive\n",
        "from google.colab import drive\n",
        "drive.mount('/content/drive')"
      ],
      "metadata": {
        "colab": {
          "base_uri": "https://localhost:8080/"
        },
        "id": "EnWqs3YQURP3",
        "outputId": "a5bdad23-bca0-4b54-da95-74fdbcc806b2"
      },
      "execution_count": 1,
      "outputs": [
        {
          "output_type": "stream",
          "name": "stdout",
          "text": [
            "Mounted at /content/drive\n"
          ]
        }
      ]
    },
    {
      "cell_type": "code",
      "source": [
        "xfile = open('/content/drive/MyDrive/Colab Notebooks/test.txt')\n",
        "\n",
        "for line in xfile:\n",
        "    line = line.rstrip()\n",
        "    if line.find('Hello') >=0:\n",
        "        print(line)"
      ],
      "metadata": {
        "colab": {
          "base_uri": "https://localhost:8080/"
        },
        "id": "zbEoiW-75zDt",
        "outputId": "bccb510e-7845-468b-e5bb-e9cdcc73b2f8"
      },
      "execution_count": 3,
      "outputs": [
        {
          "output_type": "stream",
          "name": "stdout",
          "text": [
            "Hello World!\n",
            "Hello World! 2\n"
          ]
        }
      ]
    },
    {
      "cell_type": "code",
      "source": [
        "#Using re.search like find()\n",
        "\n",
        "import re\n",
        "\n",
        "xfile = open('/content/drive/MyDrive/Colab Notebooks/test.txt')\n",
        "\n",
        "for line in xfile:\n",
        "    line = line.rstrip()\n",
        "    if re.search('Hello', line):\n",
        "        print(line)\n"
      ],
      "metadata": {
        "colab": {
          "base_uri": "https://localhost:8080/"
        },
        "id": "HrOJVed2513S",
        "outputId": "47a721b1-2f72-4030-b6b7-a5619239eaad"
      },
      "execution_count": 5,
      "outputs": [
        {
          "output_type": "stream",
          "name": "stdout",
          "text": [
            "Hello World!\n",
            "Hello World! 2\n"
          ]
        }
      ]
    },
    {
      "cell_type": "markdown",
      "source": [
        "### Using re.search() like startswith()\n"
      ],
      "metadata": {
        "id": "R9H5EyJ46s0k"
      }
    },
    {
      "cell_type": "code",
      "source": [
        "xfile = open('/content/drive/MyDrive/Colab Notebooks/test.txt')\n",
        "\n",
        "for line in xfile:\n",
        "    line = line.rstrip()\n",
        "    if line.startswith('Hello'):\n",
        "        print(line)"
      ],
      "metadata": {
        "colab": {
          "base_uri": "https://localhost:8080/"
        },
        "id": "nDDzvpHi6TDl",
        "outputId": "68243a27-c1bc-410b-c9cd-c3dd065ca1c6"
      },
      "execution_count": 8,
      "outputs": [
        {
          "output_type": "stream",
          "name": "stdout",
          "text": [
            "Hello World!\n",
            "Hello World! 2\n"
          ]
        }
      ]
    },
    {
      "cell_type": "code",
      "source": [
        "#using re.search like startswith\n",
        "\n",
        "import re\n",
        "xfile = open('/content/drive/MyDrive/Colab Notebooks/test.txt')\n",
        "\n",
        "for line in xfile:\n",
        "    line = line.rstrip()\n",
        "    if re.search('^Hello', line):\n",
        "        print(line)"
      ],
      "metadata": {
        "colab": {
          "base_uri": "https://localhost:8080/"
        },
        "id": "xM5G2NKf6wc5",
        "outputId": "812633fb-02ab-49e2-d435-9467cef204a5"
      },
      "execution_count": 12,
      "outputs": [
        {
          "output_type": "stream",
          "name": "stdout",
          "text": [
            "Hello World!\n",
            "Hello World! 2\n"
          ]
        }
      ]
    },
    {
      "cell_type": "code",
      "source": [
        ""
      ],
      "metadata": {
        "id": "r8D70Hkx7H6H"
      },
      "execution_count": null,
      "outputs": []
    }
  ]
}