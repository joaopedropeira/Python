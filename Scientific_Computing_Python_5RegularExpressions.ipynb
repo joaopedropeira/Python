{
  "nbformat": 4,
  "nbformat_minor": 0,
  "metadata": {
    "colab": {
      "name": "Scientific_Computing_Python-5RegularExpressions.ipynb",
      "provenance": [],
      "collapsed_sections": [],
      "authorship_tag": "ABX9TyP/00VhK6TwsTeHrb5Xgumx",
      "include_colab_link": true
    },
    "kernelspec": {
      "name": "python3",
      "display_name": "Python 3"
    },
    "language_info": {
      "name": "python"
    }
  },
  "cells": [
    {
      "cell_type": "markdown",
      "metadata": {
        "id": "view-in-github",
        "colab_type": "text"
      },
      "source": [
        "<a href=\"https://colab.research.google.com/github/joaopedropeira/Python/blob/main/Scientific_Computing_Python_5RegularExpressions.ipynb\" target=\"_parent\"><img src=\"https://colab.research.google.com/assets/colab-badge.svg\" alt=\"Open In Colab\"/></a>"
      ]
    },
    {
      "cell_type": "markdown",
      "source": [
        "## Regular Expressions\n",
        "---\n",
        "\n",
        "In computing, a **regular expression**, also referred to as **\"regex\"** or **\"regexp\"**, **provides** a **concise** and **flexible** means for **matching strings of text**, such as particular characters, words, or patterns of characters.<br>\n",
        "A **regular** **expression** is **written** in a **formal language** that can be **interpreted** by a **regular expression processor**\n",
        "\n",
        "<br>\n",
        "Really smart \"Find\" or \"Search\" (Control+F)"
      ],
      "metadata": {
        "id": "w5OJ1BPFRHv9"
      }
    },
    {
      "cell_type": "markdown",
      "source": [
        "### Regular Expressions Quick Guide:\n",
        "\n",
        "'^' - Matches the **beginning** of a line<br>\n",
        "'$' - Matches the **end** of a line<br>\n",
        "'.' - Matches **any** character<br>\n",
        "'\\s' - Matches **whitespac**e<br>\n",
        "'\\S' - Matches any **non-whitespace** chracter<br>\n",
        "\n"
      ],
      "metadata": {
        "id": "YWIrwBJ63RG-"
      }
    },
    {
      "cell_type": "markdown",
      "source": [
        "### Regular Expressions Module\n",
        "\n",
        "* Before you can use regular expressions in your program, you must import the library using **\"import re\"**\n",
        "\n",
        "* You can use **re.search()** to see if a string matches a regular expression, similar to using **find()** method for strings\n",
        "\n",
        "* You can use **re.findall()** to extract portions of a string that match your regular expression, similar to a combination of **find()** and slicing: var[5:10]\n"
      ],
      "metadata": {
        "id": "iSoom56z4pVZ"
      }
    },
    {
      "cell_type": "markdown",
      "source": [
        "### Using re.search() like find()\n"
      ],
      "metadata": {
        "id": "RchcXTIG6pLW"
      }
    },
    {
      "cell_type": "code",
      "source": [
        "#connecting to google drive\n",
        "from google.colab import drive\n",
        "drive.mount('/content/drive')"
      ],
      "metadata": {
        "colab": {
          "base_uri": "https://localhost:8080/"
        },
        "id": "EnWqs3YQURP3",
        "outputId": "a5bdad23-bca0-4b54-da95-74fdbcc806b2"
      },
      "execution_count": null,
      "outputs": [
        {
          "output_type": "stream",
          "name": "stdout",
          "text": [
            "Mounted at /content/drive\n"
          ]
        }
      ]
    },
    {
      "cell_type": "code",
      "source": [
        "xfile = open('/content/drive/MyDrive/Colab Notebooks/test.txt')\n",
        "\n",
        "for line in xfile:\n",
        "    line = line.rstrip()\n",
        "    if line.find('Hello') >=0:\n",
        "        print(line)"
      ],
      "metadata": {
        "colab": {
          "base_uri": "https://localhost:8080/"
        },
        "id": "zbEoiW-75zDt",
        "outputId": "bccb510e-7845-468b-e5bb-e9cdcc73b2f8"
      },
      "execution_count": null,
      "outputs": [
        {
          "output_type": "stream",
          "name": "stdout",
          "text": [
            "Hello World!\n",
            "Hello World! 2\n"
          ]
        }
      ]
    },
    {
      "cell_type": "code",
      "source": [
        "#Using re.search like find()\n",
        "\n",
        "import re\n",
        "\n",
        "xfile = open('/content/drive/MyDrive/Colab Notebooks/test.txt')\n",
        "\n",
        "for line in xfile:\n",
        "    line = line.rstrip()\n",
        "    if re.search('Hello', line):\n",
        "        print(line)\n"
      ],
      "metadata": {
        "colab": {
          "base_uri": "https://localhost:8080/"
        },
        "id": "HrOJVed2513S",
        "outputId": "47a721b1-2f72-4030-b6b7-a5619239eaad"
      },
      "execution_count": null,
      "outputs": [
        {
          "output_type": "stream",
          "name": "stdout",
          "text": [
            "Hello World!\n",
            "Hello World! 2\n"
          ]
        }
      ]
    },
    {
      "cell_type": "markdown",
      "source": [
        "### Using re.search() like startswith()\n"
      ],
      "metadata": {
        "id": "R9H5EyJ46s0k"
      }
    },
    {
      "cell_type": "code",
      "source": [
        "xfile = open('/content/drive/MyDrive/Colab Notebooks/test.txt')\n",
        "\n",
        "for line in xfile:\n",
        "    line = line.rstrip()\n",
        "    if line.startswith('Hello'):\n",
        "        print(line)"
      ],
      "metadata": {
        "colab": {
          "base_uri": "https://localhost:8080/"
        },
        "id": "nDDzvpHi6TDl",
        "outputId": "68243a27-c1bc-410b-c9cd-c3dd065ca1c6"
      },
      "execution_count": null,
      "outputs": [
        {
          "output_type": "stream",
          "name": "stdout",
          "text": [
            "Hello World!\n",
            "Hello World! 2\n"
          ]
        }
      ]
    },
    {
      "cell_type": "code",
      "source": [
        "#using re.search like startswith\n",
        "\n",
        "import re\n",
        "xfile = open('/content/drive/MyDrive/Colab Notebooks/test.txt')\n",
        "\n",
        "for line in xfile:\n",
        "    line = line.rstrip()\n",
        "    if re.search('^Hello', line):\n",
        "        print(line)"
      ],
      "metadata": {
        "colab": {
          "base_uri": "https://localhost:8080/"
        },
        "id": "xM5G2NKf6wc5",
        "outputId": "812633fb-02ab-49e2-d435-9467cef204a5"
      },
      "execution_count": null,
      "outputs": [
        {
          "output_type": "stream",
          "name": "stdout",
          "text": [
            "Hello World!\n",
            "Hello World! 2\n"
          ]
        }
      ]
    },
    {
      "cell_type": "markdown",
      "source": [
        "## Matching and Extracting Data\n",
        "---\n",
        "\n",
        "* **re.search()** returns a **True/False** depending on whether the string matches the regualr expression\n",
        "\n",
        "* If we actually want the matching string to be extracted, we use **re.findall()**"
      ],
      "metadata": {
        "id": "wJ3NAmiXK-KX"
      }
    },
    {
      "cell_type": "code",
      "source": [
        "import re\n",
        "x = 'My 2 favorite numbers are 8 and 27'\n",
        "\n",
        "#[0-9]+ means one or more digits\n",
        "y = re.findall('[0-9]+',x)\n",
        "print(y)"
      ],
      "metadata": {
        "id": "r8D70Hkx7H6H",
        "colab": {
          "base_uri": "https://localhost:8080/"
        },
        "outputId": "b6197c42-316f-452a-eac1-a6e5c0645e73"
      },
      "execution_count": 1,
      "outputs": [
        {
          "output_type": "stream",
          "name": "stdout",
          "text": [
            "['2', '8', '27']\n"
          ]
        }
      ]
    },
    {
      "cell_type": "markdown",
      "source": [
        "* When we use **re.findall()**, it returns a list of **zero** or **more sub-strings** that **match** the **regular expression**\n"
      ],
      "metadata": {
        "id": "njvHsUlcNGjs"
      }
    },
    {
      "cell_type": "code",
      "source": [
        "import re\n",
        "x = 'My 2 favorite numbers are 8 and 27'\n",
        "y = re.findall('[0-9]+',x)\n",
        "print(y)"
      ],
      "metadata": {
        "colab": {
          "base_uri": "https://localhost:8080/"
        },
        "id": "6-IsPgDhMYgm",
        "outputId": "17b3975e-b932-4f82-cdde-b7e2d46a41a2"
      },
      "execution_count": 2,
      "outputs": [
        {
          "output_type": "stream",
          "name": "stdout",
          "text": [
            "['2', '8', '27']\n"
          ]
        }
      ]
    },
    {
      "cell_type": "code",
      "source": [
        "#here, we're looking for one or more, minimum one or more uppercase A,E,I,O U as a set of characters\n",
        "y = re.findall('[AEIOU]+', x)\n",
        "print(y)"
      ],
      "metadata": {
        "colab": {
          "base_uri": "https://localhost:8080/"
        },
        "id": "d9lJG8ReNXcK",
        "outputId": "6d5be67b-beca-4822-ae51-34c608e914c5"
      },
      "execution_count": 5,
      "outputs": [
        {
          "output_type": "stream",
          "name": "stdout",
          "text": [
            "[]\n"
          ]
        }
      ]
    },
    {
      "cell_type": "markdown",
      "source": [
        "### Warning: Greedy Matching\n",
        "\n",
        "The **repeat** characters (* and +) push **outward** in both directions (greedy) to match the largest possible string"
      ],
      "metadata": {
        "id": "yX2EoJaqNozZ"
      }
    },
    {
      "cell_type": "code",
      "source": [
        "import re\n",
        "x = 'From: Using The : character'\n",
        "\n",
        "#First character in the match is 'F'\n",
        "#Last character in the match is a ':'\n",
        "# '+' means one or more character\n",
        "y = re.findall('^F.+:', x)\n",
        "print(y)"
      ],
      "metadata": {
        "colab": {
          "base_uri": "https://localhost:8080/"
        },
        "id": "QFjwXISENb18",
        "outputId": "d6d6538a-9863-4465-e61f-68635ad15b85"
      },
      "execution_count": 8,
      "outputs": [
        {
          "output_type": "stream",
          "name": "stdout",
          "text": [
            "['From: Using The :']\n"
          ]
        }
      ]
    },
    {
      "cell_type": "code",
      "source": [
        "import re\n",
        "s = 'A message from csev@umich.edu to cwen@iupui.edu about meeting @2PM'\n",
        "lst = re.findall('\\\\S+@\\\\S+', s)\n",
        "print(lst)"
      ],
      "metadata": {
        "colab": {
          "base_uri": "https://localhost:8080/"
        },
        "id": "n4I7fBFVd3DU",
        "outputId": "b69401b8-77ad-4b6d-f111-eba66a454c30"
      },
      "execution_count": 21,
      "outputs": [
        {
          "output_type": "stream",
          "name": "stdout",
          "text": [
            "['csev@umich.edu', 'cwen@iupui.edu']\n"
          ]
        }
      ]
    },
    {
      "cell_type": "markdown",
      "source": [
        "### Non-Greedy Matching\n",
        "\n",
        "* **Not all regular expression** repeat codes are **greedy**! If you add a **'?'** character, the '+' and '*' chill out a bit..."
      ],
      "metadata": {
        "id": "ad8xnZmAYsJZ"
      }
    },
    {
      "cell_type": "code",
      "source": [
        "import re\n",
        "\n",
        "x = 'From: Using the : character'\n",
        "\n",
        "#First character in the match is 'F'\n",
        "#Last character in the match is a ':'\n",
        "# '+?' means one or more character but not greedy!\n",
        "y = re.findall('^F.+?:', x)\n",
        "print(y)"
      ],
      "metadata": {
        "colab": {
          "base_uri": "https://localhost:8080/"
        },
        "id": "06FErwhaXxKi",
        "outputId": "60f97b78-1b15-4b87-be41-e6ffe8ea8060"
      },
      "execution_count": 10,
      "outputs": [
        {
          "output_type": "stream",
          "name": "stdout",
          "text": [
            "['From:']\n"
          ]
        }
      ]
    },
    {
      "cell_type": "markdown",
      "source": [
        "### Fine-Tuning String Extraction\n",
        "\n",
        "* You can **refine** the **match** for **re.findall()** and **separately** determine which **portion of the match** is to be **extracted** by **using** **parentheses**"
      ],
      "metadata": {
        "id": "sUJtATbhad7w"
      }
    },
    {
      "cell_type": "code",
      "source": [
        "import re\n",
        "x = 'From joaopedromarques76@gmail.com Sat Jan 5 09:15:32 2022'\n",
        "\n",
        "#\\S = at least one non-whitespace character\n",
        "y = re.findall('\\S+@\\S+', x)\n",
        "print(y)"
      ],
      "metadata": {
        "colab": {
          "base_uri": "https://localhost:8080/"
        },
        "id": "kBUz5Bk9ZCPR",
        "outputId": "d38f7b83-83cb-4854-eefe-03b7d9a4e3cb"
      },
      "execution_count": 13,
      "outputs": [
        {
          "output_type": "stream",
          "name": "stdout",
          "text": [
            "['joaopedromarques76@gmail.com']\n"
          ]
        }
      ]
    },
    {
      "cell_type": "markdown",
      "source": [
        "* **Parentheses** are **not part of the match** - but **they tell where** to **start** and **stop** what **string to extract**"
      ],
      "metadata": {
        "id": "tbhb4tNgbqFR"
      }
    },
    {
      "cell_type": "code",
      "source": [
        "import re\n",
        "x = 'From joaopedromarques76@gmail.com Sat Jan 5 09:15:32 2022'\n",
        "y = re.findall('^From \\S+@\\S+', x)\n",
        "print(y)\n",
        "\n",
        "y = re.findall('^From (\\S+@\\S+)', x)\n",
        "print(y)"
      ],
      "metadata": {
        "colab": {
          "base_uri": "https://localhost:8080/"
        },
        "id": "gEWx-PwXbdu7",
        "outputId": "11ad4a45-5c90-47e6-ff80-6bdd0da19ac7"
      },
      "execution_count": 17,
      "outputs": [
        {
          "output_type": "stream",
          "name": "stdout",
          "text": [
            "['From joaopedromarques76@gmail.com']\n",
            "['joaopedromarques76@gmail.com']\n"
          ]
        }
      ]
    },
    {
      "cell_type": "markdown",
      "source": [
        "## String Parsing Examples...\n",
        "---\n",
        "\n",
        "* Let's go back to the way we first tore apart strings"
      ],
      "metadata": {
        "id": "Lchhi4oqeSuN"
      }
    },
    {
      "cell_type": "code",
      "source": [
        "#Extracting a host name - using find and string slicing\n",
        "\n",
        "#Looking for the '@' position\n",
        "data = 'From joaopedromarques76@gmail.com Sat Jan 5 09:15:32 2022'\n",
        "atpos = data.find('@')\n",
        "print(atpos)"
      ],
      "metadata": {
        "colab": {
          "base_uri": "https://localhost:8080/"
        },
        "id": "DFVZbhksdDUD",
        "outputId": "18735935-d89a-48e8-a133-75656bb4c391"
      },
      "execution_count": 22,
      "outputs": [
        {
          "output_type": "stream",
          "name": "stdout",
          "text": [
            "23\n"
          ]
        }
      ]
    },
    {
      "cell_type": "code",
      "source": [
        "#Looking for the whitespace position after '@'\n",
        "sppos = data.find(' ', atpos)\n",
        "print(sppos)"
      ],
      "metadata": {
        "colab": {
          "base_uri": "https://localhost:8080/"
        },
        "id": "P9nXOLh5ewFU",
        "outputId": "be479295-ff35-440e-d339-7bfd332a4edb"
      },
      "execution_count": 23,
      "outputs": [
        {
          "output_type": "stream",
          "name": "stdout",
          "text": [
            "33\n"
          ]
        }
      ]
    },
    {
      "cell_type": "code",
      "source": [
        "#Printing the characters between '@' and first whitepsace after '@'\n",
        "host = data[atpos+1 : sppos]\n",
        "print(host)"
      ],
      "metadata": {
        "colab": {
          "base_uri": "https://localhost:8080/"
        },
        "id": "drREqqnOe2nD",
        "outputId": "b1366bfd-b51a-4965-b019-bc01d2e31097"
      },
      "execution_count": 24,
      "outputs": [
        {
          "output_type": "stream",
          "name": "stdout",
          "text": [
            "gmail.com\n"
          ]
        }
      ]
    },
    {
      "cell_type": "markdown",
      "source": [
        "### The Double Split Pattern\n",
        "\n",
        "* Sometimes we split a line one way, and then grab one of the pieces of the line and split that piece again"
      ],
      "metadata": {
        "id": "KzFcbMe7gddp"
      }
    },
    {
      "cell_type": "code",
      "source": [
        "line = 'From joaopedromarques76@gmail.com Sat Jan 5 09:15:32 2022'\n",
        "\n",
        "#Breaking into words, From = 0, joaopedromarques76@gmail.com = 1, Sat = 2....\n",
        "words = line.split()\n",
        "email = words[1]\n",
        "#breaking the word[1] by the '@'\n",
        "pieces = email.split('@')\n",
        "#printing the host name\n",
        "print(pieces[1])"
      ],
      "metadata": {
        "colab": {
          "base_uri": "https://localhost:8080/"
        },
        "id": "nxNw2CrSe9A1",
        "outputId": "0a2b668e-700c-4e6d-a2a7-8e69097b1374"
      },
      "execution_count": 25,
      "outputs": [
        {
          "output_type": "stream",
          "name": "stdout",
          "text": [
            "gmail.com\n"
          ]
        }
      ]
    },
    {
      "cell_type": "markdown",
      "source": [
        "### The Regex Version (Regular Expressions)"
      ],
      "metadata": {
        "id": "L1MfYe8YiRdB"
      }
    },
    {
      "cell_type": "code",
      "source": [
        "import re\n",
        "\n",
        "x = 'From joaopedromarques76@gmail.com Sat Jan 5 09:15:32 2022'\n",
        "\n",
        "#Look through the string until you find an '@' sign\n",
        "#[^ ] -> Match non-blank character\n",
        "# * -> match many of them\n",
        "# ( ) -> start/stop searching\n",
        "y = re.findall('@([^ ]*)', x)\n",
        "print(y)"
      ],
      "metadata": {
        "colab": {
          "base_uri": "https://localhost:8080/"
        },
        "id": "eWrawLxGgyah",
        "outputId": "ce555b85-0f9f-49e4-fba4-6709668bbc65"
      },
      "execution_count": 27,
      "outputs": [
        {
          "output_type": "stream",
          "name": "stdout",
          "text": [
            "['gmail.com']\n"
          ]
        }
      ]
    },
    {
      "cell_type": "markdown",
      "source": [
        "### Even Cooler Regex Version (Regular Expressions)"
      ],
      "metadata": {
        "id": "SqF-lql8jILk"
      }
    },
    {
      "cell_type": "code",
      "source": [
        "import re\n",
        "\n",
        "#^ -> Starting at the beginning of the line, look for the string 'From'\n",
        "x = 'From joaopedromarques76@gmail.com Sat Jan 5 09:15:32 2022'\n",
        "y = re.findall('^From .*@([^ ]*)', x)\n",
        "print(y)"
      ],
      "metadata": {
        "colab": {
          "base_uri": "https://localhost:8080/"
        },
        "id": "W7zVLXpIinfR",
        "outputId": "dc37de1f-db36-49aa-acb7-d62642394ce1"
      },
      "execution_count": 28,
      "outputs": [
        {
          "output_type": "stream",
          "name": "stdout",
          "text": [
            "['gmail.com']\n"
          ]
        }
      ]
    },
    {
      "cell_type": "markdown",
      "source": [
        "### Scape Character\n",
        "\n",
        "* If you want a **special regualr expression ** to just **behave normally** (most ot the time) you prefix it with **'\\'**"
      ],
      "metadata": {
        "id": "NTemNUnTn5G6"
      }
    },
    {
      "cell_type": "code",
      "source": [
        "import re\n",
        "\n",
        "#$ - a real $ sign\n",
        "#[0-9.] - A digit or a period\n",
        "#+ - at least one or more\n",
        "x = 'We just received $10.00 for apples'\n",
        "y = re.findall('\\$[0-9.]+', x)\n",
        "print(y)"
      ],
      "metadata": {
        "colab": {
          "base_uri": "https://localhost:8080/"
        },
        "id": "K9E1UE2ljTtc",
        "outputId": "6181a9a0-1def-4d94-8a4d-4ed26a4cadc7"
      },
      "execution_count": 30,
      "outputs": [
        {
          "output_type": "stream",
          "name": "stdout",
          "text": [
            "['$10.00']\n"
          ]
        }
      ]
    },
    {
      "cell_type": "code",
      "source": [
        ""
      ],
      "metadata": {
        "id": "Vm5-CyzNoRoP"
      },
      "execution_count": null,
      "outputs": []
    }
  ]
}